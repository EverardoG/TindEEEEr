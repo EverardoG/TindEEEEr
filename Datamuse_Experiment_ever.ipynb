{
 "cells": [
  {
   "cell_type": "code",
   "execution_count": 66,
   "metadata": {},
   "outputs": [
    {
     "name": "stdout",
     "output_type": "stream",
     "text": [
      "['bird', 'hen', 'parrot', 'raptor', 'poultry', 'passerine', 'ratite', 'trogon', 'carinate', 'archaeopteryx', 'flightless bird', 'wildfowl', 'bird of prey', 'flying bird', 'carinate bird', 'aquatic bird', 'bird of passage', 'ratite bird', 'dickybird', 'dickeybird', 'gallinaceous bird', 'archaeornis', 'sinornis', 'archeopteryx', 'protoavis', 'night bird', 'ibero-mesornis', 'archaeopteryx lithographica', 'raptorial bird', 'passeriform bird', 'apodiform bird', 'coraciiform bird', 'piciform bird', 'caprimulgiform bird', 'cuculiform bird', 'nonpasserine bird', 'gallinaceon']\n"
     ]
    }
   ],
   "source": [
    "from datamuse import datamuse\n",
    "word = \"bird\"\n",
    "\n",
    "api = datamuse.Datamuse()\n",
    "related_words = []\n",
    "related_words.append(word)\n",
    "related_words_dicts = api.words(rel_gen = word, max = 100)\n",
    "for dictionary in related_words_dicts:\n",
    "    related_word = dictionary['word']\n",
    "    related_words.append(related_word)\n",
    "\n",
    "\n",
    "\n",
    "print(related_words)"
   ]
  },
  {
   "cell_type": "code",
   "execution_count": null,
   "metadata": {
    "collapsed": true
   },
   "outputs": [],
   "source": []
  },
  {
   "cell_type": "code",
   "execution_count": null,
   "metadata": {
    "collapsed": true
   },
   "outputs": [],
   "source": []
  },
  {
   "cell_type": "code",
   "execution_count": 58,
   "metadata": {},
   "outputs": [],
   "source": [
    "import string\n",
    "\n",
    "def get_word_list(file_name):\n",
    "    text = open(file_name,'r')\n",
    "    lines = list(text)\n",
    "    lines1 = []\n",
    "    for line in lines:\n",
    "        line = line.strip(string.whitespace)\n",
    "        for i in range(32):\n",
    "            line = line.replace(string.punctuation[i],'')\n",
    "        line = line.replace('','')\n",
    "        line = line.lower()\n",
    "        lines1.append(line)\n",
    "    stringlines = ' '.join(lines1)\n",
    "    return lines1\n",
    "\n",
    "list1 = get_word_list('InClassSurveyPickuplines.txt')\n",
    "list2 = get_word_list('CarpeSurveyPickuplines.txt')\n",
    "list3 = get_word_list('Disney.txt')\n",
    "list4 = get_word_list('emma_lines.txt')\n",
    "list5 = get_word_list('more.txt')\n",
    "list6 = get_word_list('Music.txt')\n",
    "list7 = get_word_list('random.txt')\n",
    "\n",
    "main_list = list1+list2+list3+list4+list5+list6+list7"
   ]
  },
  {
   "cell_type": "code",
   "execution_count": 63,
   "metadata": {
    "scrolled": false
   },
   "outputs": [
    {
     "name": "stdout",
     "output_type": "stream",
     "text": [
      "[]\n"
     ]
    }
   ],
   "source": [
    "#given list of words\n",
    "#given list of pickup lines where each element is a string\n",
    "good = []\n",
    "for line in main_list:\n",
    "    split_list = line.split()\n",
    "    for word in split_list:\n",
    "        if word in related_words:\n",
    "            good.append(line)\n",
    "print(good)"
   ]
  },
  {
   "cell_type": "code",
   "execution_count": 65,
   "metadata": {},
   "outputs": [
    {
     "ename": "NameError",
     "evalue": "name 'djk' is not defined",
     "output_type": "error",
     "traceback": [
      "\u001b[0;31m---------------------------------------------------------------------------\u001b[0m",
      "\u001b[0;31mNameError\u001b[0m                                 Traceback (most recent call last)",
      "\u001b[0;32m<ipython-input-65-53cbbdbb7d0d>\u001b[0m in \u001b[0;36m<module>\u001b[0;34m()\u001b[0m\n\u001b[0;32m----> 1\u001b[0;31m \u001b[0mtest\u001b[0m \u001b[0;34m=\u001b[0m \u001b[0mdjk\u001b[0m\u001b[0;34m,\u001b[0m\u001b[0mdk\u001b[0m\u001b[0;34m,\u001b[0m\u001b[0md\u001b[0m\u001b[0;34m\u001b[0m\u001b[0m\n\u001b[0m",
      "\u001b[0;31mNameError\u001b[0m: name 'djk' is not defined"
     ]
    }
   ],
   "source": []
  }
 ],
 "metadata": {
  "kernelspec": {
   "display_name": "Python 3",
   "language": "python",
   "name": "python3"
  },
  "language_info": {
   "codemirror_mode": {
    "name": "ipython",
    "version": 3
   },
   "file_extension": ".py",
   "mimetype": "text/x-python",
   "name": "python",
   "nbconvert_exporter": "python",
   "pygments_lexer": "ipython3",
   "version": "3.6.3"
  }
 },
 "nbformat": 4,
 "nbformat_minor": 2
}
