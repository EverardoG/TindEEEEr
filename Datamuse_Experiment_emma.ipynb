{
 "cells": [
  {
   "cell_type": "code",
   "execution_count": 91,
   "metadata": {},
   "outputs": [],
   "source": [
    "from datamuse import datamuse #may need to pip3 install python-datamuse\n",
    "api = datamuse.Datamuse()\n",
    "\n",
    "import itertools\n",
    "\n",
    "api = datamuse.Datamuse()\n",
    "dictionary = api.words(rel_gen = 'music', max = 50)\n",
    "dict2 = api.words(ml = 'music',max = 50)\n",
    "dict3 = api.words(rel_trg = 'music',max = 50)\n",
    "\n",
    "def get_list(dictionary,word):\n",
    "    rel_words = []\n",
    "    for d in dictionary:\n",
    "        w = d['word']\n",
    "        rel_words.append(w)\n",
    "    rel_words.append(word)\n",
    "    return rel_words\n",
    "\n",
    "d1 = get_list(dictionary, 'music')\n",
    "d2 = get_list(dict2, 'music')\n",
    "d3 = get_list(dict3,'music')\n",
    "rel_words = d1 + d2 +d3"
   ]
  },
  {
   "cell_type": "code",
   "execution_count": 92,
   "metadata": {},
   "outputs": [],
   "source": [
    "import string\n",
    "\n",
    "def get_lines(file_name):\n",
    "    text = open(file_name,'r')\n",
    "    lines = list(text)\n",
    "    lines1 = []\n",
    "    for line in lines:\n",
    "        line = line.strip(string.whitespace)\n",
    "        if line != '':\n",
    "            lines1.append(line)\n",
    "    stringlines = ' '.join(lines1)\n",
    "    return lines1\n",
    "\n",
    "music = get_lines('Music.txt')\n"
   ]
  },
  {
   "cell_type": "code",
   "execution_count": 95,
   "metadata": {},
   "outputs": [
    {
     "data": {
      "text/plain": [
       "['You must be a choir director, because you make my heart sing!',\n",
       " \"Let's make some sweet music together, honey.\",\n",
       " 'My embouchure is good for more than just playing the trumpet, if you know what I mean.',\n",
       " \"Call me AC/DC, because I'm gonna rock you all night long!\",\n",
       " 'You must be a choir director...Because you make my heart sing.']"
      ]
     },
     "execution_count": 95,
     "metadata": {},
     "output_type": "execute_result"
    }
   ],
   "source": [
    "good = []\n",
    "for line in music:\n",
    "    lizt = line.split()\n",
    "    for word in lizt:\n",
    "        if word in rel_words:\n",
    "            good.append(line)\n",
    "            \n",
    "good"
   ]
  },
  {
   "cell_type": "code",
   "execution_count": 94,
   "metadata": {
    "collapsed": true
   },
   "outputs": [],
   "source": [
    "\n",
    "def find_match(keyword):\n",
    "    \n",
    "    list_of_names = []\n",
    "    for i in list_of_dictionaries:\n",
    "        if i['score'] == 100:\n",
    "            list_of_names.append(i['word'])\n",
    "    if name not in list_of_names:\n",
    "        list_of_names.append(name)\n",
    "    return list_of_names"
   ]
  },
  {
   "cell_type": "code",
   "execution_count": null,
   "metadata": {
    "collapsed": true
   },
   "outputs": [],
   "source": []
  }
 ],
 "metadata": {
  "kernelspec": {
   "display_name": "Python 3",
   "language": "python",
   "name": "python3"
  },
  "language_info": {
   "codemirror_mode": {
    "name": "ipython",
    "version": 3
   },
   "file_extension": ".py",
   "mimetype": "text/x-python",
   "name": "python",
   "nbconvert_exporter": "python",
   "pygments_lexer": "ipython3",
   "version": "3.6.3"
  }
 },
 "nbformat": 4,
 "nbformat_minor": 2
}
