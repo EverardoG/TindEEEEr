{
 "cells": [
  {
   "cell_type": "code",
   "execution_count": 31,
   "metadata": {
    "collapsed": true
   },
   "outputs": [],
   "source": [
    "from bs4 import BeautifulSoup\n",
    "import requests\n",
    "import re\n",
    "\n",
    "def analyze_page(url):\n",
    "    # Gets html from url and filters out the tags so that you have just the text, which it runs sentiment analysis on.\n",
    "    html = BeautifulSoup(requests.get(url).text, 'lxml')\n",
    "    pickuplines = []\n",
    "    s = ''\n",
    "    for p in html.find_all('p'):\n",
    "        s = re.sub(r'<.+?>',\" \", str(p).lstrip())\n",
    "        sp = s.split(\"\\n\")\n",
    "        pickuplines.append(sp)\n",
    "    return pickuplines\n",
    "\n",
    "h = analyze_page('http://www.pickuplinesgalore.com/disney.html')"
   ]
  },
  {
   "cell_type": "code",
   "execution_count": 34,
   "metadata": {
    "scrolled": true
   },
   "outputs": [
    {
     "data": {
      "text/plain": [
       "['',\n",
       " '&lt;&lt; We have over 150 Categories of Pick Up Lines on our Main Page!',\n",
       " '',\n",
       " 'Can I Hakuna your ma-tatas?',\n",
       " '',\n",
       " 'You must be Cinderella, because I see that dress disappearing by midnight.',\n",
       " '',\n",
       " 'I can take you to infinity and beyond.',\n",
       " '',\n",
       " 'Call me Pooh, because all I want is you, honey.',\n",
       " '',\n",
       " \"Give me a Woody and I'll make you Buzz for light years.\",\n",
       " '',\n",
       " \"One night with me, and I'll show you a whole new world.\",\n",
       " '',\n",
       " \"I must be Lighting McQueen, 'cause you've got my heart racing.\",\n",
       " '',\n",
       " 'Is your name Ariel? Cause we mermaid for each other.',\n",
       " '',\n",
       " \"Your body is a wonderland, and I'd like to be Alice.\",\n",
       " '',\n",
       " 'You are part of the circle of my life.',\n",
       " '',\n",
       " 'Hey Beauty, can I introduce you to my Beast?',\n",
       " '',\n",
       " \"You don't need a spoonful of sugar to make me go down.\",\n",
       " '',\n",
       " \"I'd really like to Poke-her-hontas.\",\n",
       " '',\n",
       " \"Sit on my face and ask me to lie... What? You've never been Pinocchio'd?\",\n",
       " '',\n",
       " 'There are people who say Disneyland is the happiest place on earth. Apparently, none of them have ever been in your arms.',\n",
       " '',\n",
       " 'Hey Aladdin, is that a lamp in your pocket or are you just happy to see me?',\n",
       " '',\n",
       " 'Hey Jasmine, Does the magic carpet match the drapes?',\n",
       " '',\n",
       " \"Hi, I'm Andy. Wanna play with my Woody?\",\n",
       " '',\n",
       " \"I can make any fairy moan... All I need to do is Tink'er'bell.\",\n",
       " '',\n",
       " \"Hey Cinderella let's see if this fits!\",\n",
       " '',\n",
       " 'Can you feel the love tonight?',\n",
       " '',\n",
       " \"I'll make you want to spend more time in bed with me than Sleeping, Beauty.\",\n",
       " '',\n",
       " 'Honestly, I just wanna get The Sword in the Stone!',\n",
       " '',\n",
       " 'Hi my name is Mickey, and there is nothing Minnie about me!',\n",
       " '',\n",
       " 'Iâ\\x80\\x99ll bippity bop you, girl!',\n",
       " '',\n",
       " 'Minnie, want to see my polka dot bed sheets?',\n",
       " '',\n",
       " 'You can call me Nemo, because I\\'m gonna \"touch the butt\"',\n",
       " '',\n",
       " \"Forget Aladdin, I'm thinking bout Jasmine's carpet.\",\n",
       " '',\n",
       " \"Things are much better down where it's wetter.\",\n",
       " '',\n",
       " '&lt;&lt; See All of Our Pick Up Line Categories Here!',\n",
       " '',\n",
       " '',\n",
       " 'If you enjoyed this page, you may also like:',\n",
       " '',\n",
       " 'Disney Jokes',\n",
       " 'Harry Potter Pick Up Lines',\n",
       " 'Twilight Pick Up Lines',\n",
       " 'Engineering Pick Up Lines',\n",
       " 'Chuck Norris Facts',\n",
       " 'Clean and Corny Jokes',\n",
       " 'Star Wars Jokes',\n",
       " 'Video Game Yo Mama Jokes',\n",
       " '',\n",
       " '',\n",
       " 'For dating advice and tips, check out our online guides:',\n",
       " '',\n",
       " 'Free Guide to Online Dating',\n",
       " 'Speed Dating Tips',\n",
       " 'Fun and Unique Date Ideas']"
      ]
     },
     "execution_count": 34,
     "metadata": {},
     "output_type": "execute_result"
    }
   ],
   "source": [
    "f = []\n",
    "for i in h:\n",
    "    while '' in i: i.remove('')  \n",
    "    for x in i:\n",
    "        s = (' '.join(x.split()))\n",
    "        f.append(s)\n",
    "f\n"
   ]
  },
  {
   "cell_type": "markdown",
   "metadata": {},
   "source": [
    "#### "
   ]
  },
  {
   "cell_type": "code",
   "execution_count": null,
   "metadata": {
    "collapsed": true
   },
   "outputs": [],
   "source": []
  },
  {
   "cell_type": "code",
   "execution_count": null,
   "metadata": {
    "collapsed": true
   },
   "outputs": [],
   "source": []
  }
 ],
 "metadata": {
  "kernelspec": {
   "display_name": "Python 3",
   "language": "python",
   "name": "python3"
  },
  "language_info": {
   "codemirror_mode": {
    "name": "ipython",
    "version": 3
   },
   "file_extension": ".py",
   "mimetype": "text/x-python",
   "name": "python",
   "nbconvert_exporter": "python",
   "pygments_lexer": "ipython3",
   "version": "3.6.3"
  }
 },
 "nbformat": 4,
 "nbformat_minor": 2
}
