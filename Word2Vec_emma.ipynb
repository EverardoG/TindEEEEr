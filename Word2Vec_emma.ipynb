{
 "cells": [
  {
   "cell_type": "code",
   "execution_count": 11,
   "metadata": {},
   "outputs": [],
   "source": [
    "import gensim\n",
    "\n",
    "model = gensim.models.KeyedVectors.load_word2vec_format('/home/emma/Desktop/GoogleNews-vectors-negative300.bin', binary=True)"
   ]
  },
  {
   "cell_type": "code",
   "execution_count": 21,
   "metadata": {},
   "outputs": [
    {
     "name": "stdout",
     "output_type": "stream",
     "text": [
      "[('Yoga', 0.8120832443237305),\n",
      " ('yoga_classes', 0.7944834232330322),\n",
      " ('Pilates', 0.7523864507675171),\n",
      " ('pilates', 0.7355706691741943),\n",
      " ('practicing_yoga', 0.7318001985549927),\n",
      " ('hatha_yoga', 0.719795286655426),\n",
      " ('yoga_meditation', 0.7050696015357971),\n",
      " ('ashtanga', 0.704375147819519),\n",
      " ('Hatha_yoga', 0.7041833400726318),\n",
      " ('vinyasa', 0.6964585185050964)]\n"
     ]
    }
   ],
   "source": [
    "import logging\n",
    "import pprint\n",
    "\n",
    "# for logging\n",
    "logging.basicConfig(format='%(asctime)s : %(levelname)s : %(message)s', level=logging.INFO)\n",
    "# Load evaluation dataset of analogy task \n",
    "#model.accuracy('questions-words.txt')\n",
    "# execute analogy task like king - man + woman = queen\n",
    "pprint.pprint(model.most_similar(positive=['yoga']))"
   ]
  },
  {
   "cell_type": "code",
   "execution_count": null,
   "metadata": {
    "collapsed": true
   },
   "outputs": [],
   "source": []
  }
 ],
 "metadata": {
  "kernelspec": {
   "display_name": "Python 3",
   "language": "python",
   "name": "python3"
  },
  "language_info": {
   "codemirror_mode": {
    "name": "ipython",
    "version": 3
   },
   "file_extension": ".py",
   "mimetype": "text/x-python",
   "name": "python",
   "nbconvert_exporter": "python",
   "pygments_lexer": "ipython3",
   "version": "3.6.3"
  }
 },
 "nbformat": 4,
 "nbformat_minor": 2
}
