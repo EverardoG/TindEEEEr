{
 "cells": [
  {
   "cell_type": "code",
   "execution_count": 1,
   "metadata": {},
   "outputs": [
    {
     "data": {
      "text/plain": [
       "81"
      ]
     },
     "execution_count": 1,
     "metadata": {},
     "output_type": "execute_result"
    }
   ],
   "source": [
    "from datamuse import datamuse #may need to pip3 install python-datamuse\n",
    "api = datamuse.Datamuse()\n",
    "\n",
    "import itertools\n",
    "\n",
    "keyword = 'bird'\n",
    "\n",
    "api = datamuse.Datamuse()\n",
    "dictionary = api.words(rel_gen = keyword, max = 20)\n",
    "dict2 = api.words(ml = keyword,max = 20)\n",
    "dict6 = api.words(rel_com = keyword,max = 20)\n",
    "dict8 = api.words(rel_syn = keyword, max = 20)\n",
    "\n",
    "def get_list(dictionary,word):\n",
    "    rel_words = []\n",
    "    for d in dictionary:\n",
    "        w = d['word']\n",
    "        rel_words.append(w)\n",
    "    rel_words.append(word)\n",
    "    return rel_words\n",
    "\n",
    "d1 = get_list(dictionary, keyword)\n",
    "d2 = get_list(dict2, keyword)\n",
    "d6 = get_list(dict6, keyword)\n",
    "d8 = get_list(dict8, keyword)\n",
    "rel_words = d1 + d2 + d6 + d8\n",
    "len(rel_words)"
   ]
  },
  {
   "cell_type": "markdown",
   "metadata": {},
   "source": [
    "dictionary"
   ]
  },
  {
   "cell_type": "code",
   "execution_count": 3,
   "metadata": {},
   "outputs": [
    {
     "data": {
      "text/plain": [
       "[\"If I were an enzyme, I'd be DNA helicase so I could unzip your genes.\",\n",
       " \"You're so hot, you denature my proteins.\",\n",
       " 'Can I be the phasor to your electron and take you to an excited state?',\n",
       " 'Are you made of Copper and Tellurium? Because you are Cu-Te',\n",
       " \"Do you have 11 protons? 'Cause you're Sodium fine!\",\n",
       " \"Do you like Science? Because I've got my ion you!\",\n",
       " \"You must be gibberelin, because I'm experiencing some stem elongation.\",\n",
       " 'You make my anoxic sediments want to increase their redox potential.',\n",
       " \"Are you made of Nickel, Cerium, Arsenic and Sulfur? Because you've got a NiCe AsS!\",\n",
       " 'Hey baby, will a little more alcohol catalyze this reaction?',\n",
       " \"Didn't you know that chemists do it periodically on the table?\",\n",
       " \"I bet you're like calcium bicarbonate - if I get you wet, the reaction will be explosive!\",\n",
       " \"Are you made of Fluorine, Iodine, and Neon? 'Cause you are F-I-Ne\",\n",
       " 'Me and you would undergo a more energetic reaction then Potassium and water.',\n",
       " \"Are you a compound of Beryllium and Barium? Because you're a total BaBe.\",\n",
       " \"I'm more attracted to you then F is attracted to an electron.\",\n",
       " 'I will fondle your vesicles while you caress my golgi body.',\n",
       " 'I want to work on your leucine zipper with my zinc fingers.',\n",
       " 'If you were oxygen, I would be an alkali metal so i could get in you and explode!',\n",
       " 'We fit together like the sticky ends of recombinant DNA.',\n",
       " 'You are the photon to my photosystem: you excite my electron until I reach my reaction centre.',\n",
       " \"You're hotter than a bunsen burner set to full power.\",\n",
       " 'If I were a neurotransmitter, I would be dopamine so I could activate your reward pathway.',\n",
       " 'Hey, wanna put your alpha helix in my beta barrel?',\n",
       " \"Hey baby, why don't you get your ligase working on my okazaki fragment and lengthen my strand.\",\n",
       " 'Hey, are you an alpha carbon, because you look susceptible to backside attack!',\n",
       " 'Do you want to extract some protein from my column?',\n",
       " \"According to the second law of thermodynamics, you're supposed to share your hotness with me.\",\n",
       " 'Everyone knows its not the size of the vector that matters, but the way the force is delivered.',\n",
       " 'How about me and you go back to my place and form a covalent bond?',\n",
       " 'If I was an endoplasmic reticulum, how would you want me: smooth or rough?',\n",
       " \"We can make a mess as I've hired some lysosomes to clean up after.\",\n",
       " 'My hypothalamus must be secreting serotonin because baby, I want you!',\n",
       " 'I wish I was an Ion so I could form an exothermic bond with you.',\n",
       " 'You’re so cute you make my zygomaticus muscles contract.',\n",
       " 'I wish I were Adenine because then I could get paired with U.',\n",
       " 'You’re like telophase, I admire your cleavage.',\n",
       " 'Hey baby, want to form a synapse with me and exchange neurotransmitters?',\n",
       " 'Hey baby, want to form a zygote?',\n",
       " \"It’s a good thing you've got evaporative cooling, cause I’m going to make you sweat.\",\n",
       " \"If I were a Shwann cell, I'd squeeze areound your axon and give you a fast action potential.\",\n",
       " 'Want to be my substrate/enzyme?',\n",
       " 'If my right leg is the cell wall and my left the membrane, do you want to be the cytoplasm?',\n",
       " \"If you were a concentration gradient I'd go down on you.\",\n",
       " 'If you were C6, and I were H12, all we would need is the air we breathe to be sweeter than sugar.',\n",
       " 'Whenever I am near you, I undergo anaerobic respiration because you take my breath away.',\n",
       " 'I want to stick to u like glue-cose.',\n",
       " 'You must be the one for me, since my selectively permeable membrane let you through.',\n",
       " 'Can I be your enzyme? because my active site is dying for a chemical reaction.',\n",
       " 'You give me more jolt than a mitochondria!',\n",
       " 'Right now we’re just two RNA, but maybe we could transcribe together and become DNA.',\n",
       " 'I have a smooth endoplasmic reticulum but know that I like it rough, if you know what I mean.',\n",
       " 'I also prefer my ribosomes bound tight.',\n",
       " \"Spin me round with your basal body and make sure it's turgid.\",\n",
       " 'Do you like aerobic respiration as much as I do?']"
      ]
     },
     "execution_count": 3,
     "metadata": {},
     "output_type": "execute_result"
    }
   ],
   "source": [
    "import string\n",
    "\n",
    "def get_lines(file_name):\n",
    "    text = open(file_name,'r')\n",
    "    lines = list(text)\n",
    "    lines1 = []\n",
    "    for line in lines:\n",
    "        line = line.strip(string.whitespace)\n",
    "        if line != '':\n",
    "            lines1.append(line)\n",
    "    stringlines = ' '.join(lines1)\n",
    "    return lines1\n",
    "\n",
    "get_lines('Biochem.txt')\n"
   ]
  },
  {
   "cell_type": "code",
   "execution_count": 4,
   "metadata": {},
   "outputs": [
    {
     "ename": "NameError",
     "evalue": "name 'music' is not defined",
     "output_type": "error",
     "traceback": [
      "\u001b[0;31m---------------------------------------------------------------------------\u001b[0m",
      "\u001b[0;31mNameError\u001b[0m                                 Traceback (most recent call last)",
      "\u001b[0;32m<ipython-input-4-8409f188804d>\u001b[0m in \u001b[0;36m<module>\u001b[0;34m()\u001b[0m\n\u001b[1;32m      1\u001b[0m \u001b[0mgood\u001b[0m \u001b[0;34m=\u001b[0m \u001b[0;34m[\u001b[0m\u001b[0;34m]\u001b[0m\u001b[0;34m\u001b[0m\u001b[0m\n\u001b[0;32m----> 2\u001b[0;31m \u001b[0;32mfor\u001b[0m \u001b[0mline\u001b[0m \u001b[0;32min\u001b[0m \u001b[0mmusic\u001b[0m\u001b[0;34m:\u001b[0m\u001b[0;34m\u001b[0m\u001b[0m\n\u001b[0m\u001b[1;32m      3\u001b[0m     \u001b[0mlizt\u001b[0m \u001b[0;34m=\u001b[0m \u001b[0mline\u001b[0m\u001b[0;34m.\u001b[0m\u001b[0msplit\u001b[0m\u001b[0;34m(\u001b[0m\u001b[0;34m)\u001b[0m\u001b[0;34m\u001b[0m\u001b[0m\n\u001b[1;32m      4\u001b[0m     \u001b[0;32mfor\u001b[0m \u001b[0mword\u001b[0m \u001b[0;32min\u001b[0m \u001b[0mlizt\u001b[0m\u001b[0;34m:\u001b[0m\u001b[0;34m\u001b[0m\u001b[0m\n\u001b[1;32m      5\u001b[0m         \u001b[0;32mif\u001b[0m \u001b[0mword\u001b[0m \u001b[0;32min\u001b[0m \u001b[0mrel_words\u001b[0m\u001b[0;34m:\u001b[0m\u001b[0;34m\u001b[0m\u001b[0m\n",
      "\u001b[0;31mNameError\u001b[0m: name 'music' is not defined"
     ]
    }
   ],
   "source": [
    "good = []\n",
    "for line in music:\n",
    "    lizt = line.split()\n",
    "    for word in lizt:\n",
    "        if word in rel_words:\n",
    "            good.append(line)\n",
    "            \n",
    "good"
   ]
  },
  {
   "cell_type": "code",
   "execution_count": 5,
   "metadata": {
    "collapsed": true
   },
   "outputs": [],
   "source": [
    "\n",
    "def find_match(keyword):\n",
    "    \n",
    "    list_of_names = []\n",
    "    for i in list_of_dictionaries:\n",
    "        if i['score'] == 100:\n",
    "            list_of_names.append(i['word'])\n",
    "    if name not in list_of_names:\n",
    "        list_of_names.append(name)\n",
    "    return list_of_names"
   ]
  },
  {
   "cell_type": "code",
   "execution_count": null,
   "metadata": {
    "collapsed": true
   },
   "outputs": [],
   "source": []
  },
  {
   "cell_type": "code",
   "execution_count": null,
   "metadata": {
    "collapsed": true
   },
   "outputs": [],
   "source": []
  }
 ],
 "metadata": {
  "kernelspec": {
   "display_name": "Python 3",
   "language": "python",
   "name": "python3"
  },
  "language_info": {
   "codemirror_mode": {
    "name": "ipython",
    "version": 3
   },
   "file_extension": ".py",
   "mimetype": "text/x-python",
   "name": "python",
   "nbconvert_exporter": "python",
   "pygments_lexer": "ipython3",
   "version": "3.6.3"
  }
 },
 "nbformat": 4,
 "nbformat_minor": 2
}
