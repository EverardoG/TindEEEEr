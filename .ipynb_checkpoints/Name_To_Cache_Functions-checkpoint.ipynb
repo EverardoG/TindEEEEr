{
 "cells": [
  {
   "cell_type": "markdown",
   "metadata": {
    "collapsed": true
   },
   "source": [
    "dictionary_of_name_PULines = {'name': [['Pickupline', 0],['Pickupline', 0]]}\n",
    "need_PULines = {'name': [['Pickupline', 0],['Pickupline', 0]]}\n",
    "\n",
    "Update pickuplines\n",
    "1. function that scrapes web and generates new pickuplines\n",
    "2. function that takes a name and list and adds only the new pickuplines to the dictionary \n",
    "3. function that takes the cached dictionary and updates it, then returns the cached dictionary\n",
    "\n",
    "Update weights\n",
    "4. function that takes name and sorts the list by weights\n",
    "5. Need more info about pynder. How to adjust weights. For training purposes we can give them all of the available pickuplines. Good/Bad/Doesn't make sense.\n",
    "\n"
   ]
  },
  {
   "cell_type": "markdown",
   "metadata": {},
   "source": [
    "Functions"
   ]
  },
  {
   "cell_type": "code",
   "execution_count": 25,
   "metadata": {},
   "outputs": [],
   "source": [
    "from datamuse import datamuse #may need to pip3 install python-datamuse\n",
    "api = datamuse.Datamuse()\n",
    "\n",
    "import praw #may need to pip install praw\n",
    "import requests.auth\n",
    "import string\n",
    "reddit = praw.Reddit(client_id='fAkqHqn2XyBt3g',\n",
    "                     client_secret=\"B1Rv2IY6KfA3PusqSeaFAu8brIw\",\n",
    "                     user_agent='USERAGENT')\n",
    "\n",
    "import enchant #may need to pip install pyenchant\n",
    "import itertools\n",
    "\n",
    "\n",
    "def create_list_of_near_names(name):\n",
    "    api = datamuse.Datamuse()\n",
    "    list_of_dictionaries = api.words(sl = name, max = 10)\n",
    "    list_of_names = []\n",
    "    for i in list_of_dictionaries:\n",
    "        if i['score'] == 100:\n",
    "            list_of_names.append(i['word'])\n",
    "    if name not in list_of_names:\n",
    "        list_of_names.append(name)\n",
    "    return list_of_names\n",
    "\n",
    "def return_reddit_PULine(name):\n",
    "    \"\"\"Function that takes name and outputs comments from r/pickuplines that have the name in the title \n",
    "    and the name in the comment in a list. \"\"\"\n",
    "    pickuplines = []\n",
    "    name = name.lower()\n",
    "    for submission in reddit.subreddit('pickuplines').top(limit=20000):\n",
    "        if \" \"+name in submission.title.lower():\n",
    "            submission.comments.replace_more(limit=0)\n",
    "            for top_level_comment in submission.comments:\n",
    "                if name.lower() in top_level_comment.body.lower():\n",
    "                    pickuplines.append(top_level_comment.body)\n",
    "\n",
    "    for submission in reddit.subreddit('pickuplines').hot(limit=5000):\n",
    "        if \" \"+name in submission.title.lower():\n",
    "            submission.comments.replace_more(limit=0)\n",
    "            for top_level_comment in submission.comments:\n",
    "                if name.lower() in top_level_comment.body.lower():\n",
    "                    pickuplines.append(top_level_comment.body)\n",
    "    if not pickuplines:                \n",
    "        for submission in reddit.subreddit('pickuplines').new(limit=10000):\n",
    "            if \" \"+name in submission.title.lower():\n",
    "                submission.comments.replace_more(limit=0)\n",
    "                for top_level_comment in submission.comments:\n",
    "                    if name.lower() in top_level_comment.body.lower():\n",
    "                        pickuplines.append(top_level_comment.body)                    \n",
    "                    \n",
    "    if pickuplines:\n",
    "        return pickuplines\n",
    "    else:\n",
    "        print(\"No pickup lines for \"+ name+ \" found on Reddit.\")\n",
    "        return pickuplines\n",
    "\n",
    "def new_reddit_PULines(name):\n",
    "    \"\"\"Function that takes name and outputs comments from r/pickuplines that have the name in the title \n",
    "    and the name in the comment in a list. \"\"\"\n",
    "    pickuplines = []\n",
    "    name = name.lower() \n",
    "    for submission in reddit.subreddit('pickuplines').new(limit=10000):\n",
    "        if \" \"+name in submission.title.lower():\n",
    "            submission.comments.replace_more(limit=0)\n",
    "            for top_level_comment in submission.comments:\n",
    "                if name.lower() in top_level_comment.body.lower():\n",
    "                    pickuplines.append(top_level_comment.body)                         \n",
    "    if pickuplines:\n",
    "        return pickuplines\n",
    "    else:\n",
    "        print(\"No new pickup lines for \"+name+ \" found on Reddit.\")\n",
    "        return pickuplines\n",
    "    \n",
    "def return_palindrome_PULine(name):\n",
    "    name = name.lower()\n",
    "    i = 0\n",
    "    j = len(name)-1\n",
    "    while i<j:\n",
    "        if name[i] != name[j]:\n",
    "            print(name.title() + \" is not a palindrome.\")\n",
    "            return []\n",
    "        i = i+1\n",
    "        j = j-1\n",
    "    return [name.title() + \" - your name is a palindrome, I like it. I'd do you forwards and backwards\"]\n",
    "\n",
    "def return_anagram_PULine_D(name):\n",
    "    named = name.lower()+'d'\n",
    "    english_dictionary = enchant.Dict(\"en_US\")\n",
    "    spanish_dictionary = enchant.Dict(\"es_ES\")\n",
    "\n",
    "    list_of_all_anagrams = [\"\".join(perm) for perm in itertools.permutations(named)]\n",
    "\n",
    "    list_of_real_anagrams = []\n",
    "    pickuplines = []\n",
    "    spanish = False\n",
    "    for i in list_of_all_anagrams:\n",
    "        if english_dictionary.check(i):\n",
    "            list_of_real_anagrams.append(i)\n",
    "\n",
    "    if not list_of_real_anagrams:\n",
    "        spanish = True\n",
    "        for i in list_of_all_anagrams:\n",
    "            if spanish_dictionary.check(i):\n",
    "                list_of_real_anagrams.append(i)\n",
    "\n",
    "    if not spanish:\n",
    "        for i in list_of_real_anagrams:\n",
    "            pickuplines.append(name.title() + \", if you add a D to your name, it's an anagram for the word \"\n",
    "                       + i\n",
    "                       + \". So I guess the question is - do you want the D?\")\n",
    "            list_of_real_anagrams.remove(i)\n",
    "    else:\n",
    "        for i in list_of_real_anagrams:\n",
    "            pickuplines.append(name.title() + \", if you add a D to your name, it's an anagram for the Spanish word \"\n",
    "                       + i\n",
    "                       + \". So I guess the question is - do you want the D?\")\n",
    "            list_of_real_anagrams.remove(i)\n",
    "    return pickuplines\n",
    "\n",
    "def return_anagram_PULine_V(name):\n",
    "    named = name.lower()+'v'\n",
    "    english_dictionary = enchant.Dict(\"en_US\")\n",
    "    spanish_dictionary = enchant.Dict(\"es_ES\")\n",
    "\n",
    "    list_of_all_anagrams = [\"\".join(perm) for perm in itertools.permutations(named)]\n",
    "\n",
    "    list_of_real_anagrams = []\n",
    "    pickuplines = []\n",
    "    spanish = False\n",
    "    for i in list_of_all_anagrams:\n",
    "        if english_dictionary.check(i):\n",
    "            list_of_real_anagrams.append(i)\n",
    "\n",
    "    if not list_of_real_anagrams:\n",
    "        spanish = True\n",
    "        for i in list_of_all_anagrams:\n",
    "            if spanish_dictionary.check(i):\n",
    "                list_of_real_anagrams.append(i)\n",
    "\n",
    "    if not spanish:\n",
    "        for i in list_of_real_anagrams:\n",
    "            pickuplines.append(name.title() + \", if you add a V to your name, it's an anagram for the word \"\n",
    "                       + i\n",
    "                       + \". So I guess the question is - do you want the V?\")\n",
    "            list_of_real_anagrams.remove(i)\n",
    "    else:\n",
    "        for i in list_of_real_anagrams:\n",
    "            pickuplines.append(name.title() + \", if you add a V to your name, it's an anagram for the Spanish word \"\n",
    "                       + i\n",
    "                       + \". So I guess the question is - do you want the V?\")\n",
    "            list_of_real_anagrams.remove(i)\n",
    "    return pickuplines\n"
   ]
  },
  {
   "cell_type": "code",
   "execution_count": 2,
   "metadata": {
    "collapsed": true
   },
   "outputs": [],
   "source": [
    "def gather_all_PU_lines_for_a_name(name):\n",
    "    names_list = create_list_of_near_names(name)\n",
    "    PULines = []\n",
    "    try:\n",
    "        for each_name in names_list:\n",
    "            PULines+=return_reddit_PULine(each_name)        \n",
    "        PULines+=return_palindrome_PULine(name)\n",
    "        PULines+=return_anagram_PULine_D(name)\n",
    "        PULines+=return_anagram_PULine_V(name)\n",
    "    except:\n",
    "        pass\n",
    "    return PULines\n",
    "        "
   ]
  },
  {
   "cell_type": "code",
   "execution_count": 3,
   "metadata": {},
   "outputs": [
    {
     "name": "stdout",
     "output_type": "stream",
     "text": [
      "['Michael', 'Jessica', 'Matthew', 'Ashley', 'Christopher', 'Emily', 'Jacob', 'Samantha', 'Joshua', 'Sarah', 'Nicholas', 'Taylor', 'Tyler', 'Hannah', 'Brandon', 'Brittany', 'Daniel', 'Amanda', 'Austin', 'Elizabeth', 'Andrew', 'Kayla', 'Joseph', 'Rachel', 'John', 'Megan', 'Zachary', 'Alexis', 'Ryan', 'Lauren', 'David', 'Stephanie', 'James', 'Courtney', 'Justin', 'Jennifer', 'Anthony', 'Nicole', 'William', 'Victoria', 'Alexander', 'Brianna', 'Robert', 'Amber', 'Jonathan', 'Morgan', 'Kyle', 'Danielle', 'Kevin', 'Jasmine', 'Cody', 'Alexandra', 'Thomas', 'Alyssa', 'Christian', 'Rebecca', 'Jordan', 'Madison', 'Aaron', 'Katherine', 'Benjamin', 'Anna', 'Eric', 'Haley', 'Samuel', 'Kelsey', 'Dylan', 'Allison', 'Jose', 'Melissa', 'Brian', 'Abigail', 'Steven', 'Kimberly', 'Adam', 'Shelby', 'Nathan', 'Olivia', 'Timothy', 'Mary', 'Jason', 'Michelle', 'Richard', 'Kaitlyn', 'Patrick', 'Sydney', 'Charles', 'Maria', 'Sean', 'Christina', 'Jesse', 'Tiffany', 'Alex', 'Chelsea', 'Jeremy', 'Sara', 'Cameron', 'Erin', 'Juan', 'Jordan', 'Logan', 'Natalie', 'Mark', 'Brooke', 'Hunter', 'Marissa', 'Caleb', 'Heather', 'Connor', 'Andrea', 'Dakota', 'Laura', 'Stephen', 'Miranda', 'Devin', 'Paige', 'Luis', 'Katelyn', 'Evan', 'Sierra', 'Trevor', 'Gabrielle', 'Dustin', 'Julia', 'Jared', 'Vanessa', 'Jeffrey', 'Kelly', 'Gabriel', 'Kristen', 'Travis', 'Destiny', 'Ian', 'Emma', 'Carlos', 'Savannah', 'Taylor', 'Erica', 'Bryan', 'Jacqueline', 'Paul', 'Mariah', 'Kenneth', 'Alexandria', 'Nathaniel', 'Shannon', 'Corey', 'Briana', 'Ethan', 'Breanna', 'Jesus', 'Amy', 'Blake', 'Katie', 'Bradley', 'Cassandra', 'Mitchell', 'Madeline', 'Garrett', 'Crystal', 'Marcus', 'Caitlin', 'Luke', 'Lindsey', 'Derek', 'Kathryn', 'Gregory', 'Jenna', 'Antonio', 'Angela', 'Tanner', 'Cheyenne', 'Dalton', 'Monica', 'Edward', 'Mackenzie', 'Peter', 'Alicia', 'Victor', 'Catherine', 'Lucas', 'Selena', 'Scott', 'Caroline', 'Elijah', 'Jamie', 'Miguel', 'Kaitlin', 'Chase', 'Sabrina', 'Seth', 'Bailey', 'Adrian', 'Grace', 'Isaac', 'Molly', 'Noah', 'Brittney', 'Shawn', 'Alexa']\n"
     ]
    }
   ],
   "source": [
    "#Get names from https://www.ssa.gov/cgi-bin/popularnames.cgi and run through https://wordtohtml.net/ \n",
    "\n",
    "import re\n",
    "lines = '1MichaelJessica2MatthewAshley3ChristopherEmily4JacobSamantha5JoshuaSarah6NicholasTaylor7TylerHannah8BrandonBrittany9DanielAmanda10AustinElizabeth11AndrewKayla12JosephRachel13JohnMegan14ZacharyAlexis15RyanLauren16DavidStephanie17JamesCourtney18JustinJennifer19AnthonyNicole20WilliamVictoria21AlexanderBrianna22RobertAmber23JonathanMorgan24KyleDanielle25KevinJasmine26CodyAlexandra27ThomasAlyssa28ChristianRebecca29JordanMadison30AaronKatherine31BenjaminAnna32EricHaley33SamuelKelsey34DylanAllison35JoseMelissa36BrianAbigail37StevenKimberly38AdamShelby39NathanOlivia40TimothyMary41JasonMichelle42RichardKaitlyn43PatrickSydney44CharlesMaria45SeanChristina46JesseTiffany47AlexChelsea48JeremySara49CameronErin50JuanJordan51LoganNatalie52MarkBrooke53HunterMarissa54CalebHeather55ConnorAndrea56DakotaLaura57StephenMiranda58DevinPaige59LuisKatelyn60EvanSierra61TrevorGabrielle62DustinJulia63JaredVanessa64JeffreyKelly65GabrielKristen66TravisDestiny67IanEmma68CarlosSavannah69TaylorErica70BryanJacqueline71PaulMariah72KennethAlexandria73NathanielShannon74CoreyBriana75EthanBreanna76JesusAmy77BlakeKatie78BradleyCassandra79MitchellMadeline80GarrettCrystal81MarcusCaitlin82LukeLindsey83DerekKathryn84GregoryJenna85AntonioAngela86TannerCheyenne87DaltonMonica88EdwardMackenzie89PeterAlicia90VictorCatherine91LucasSelena92ScottCaroline93ElijahJamie94MiguelKaitlin95ChaseSabrina96SethBailey97AdrianGrace98IsaacMolly99NoahBrittney100ShawnAlexa'\n",
    "lines = re.sub( r\"([A-Z])\", r\" \\1\", lines)\n",
    "for i in range(0,10):\n",
    "    lines= lines.replace(str(i), ' ')\n",
    "name_list = lines.split()\n",
    "\n",
    "print(name_list)\n",
    "\n"
   ]
  },
  {
   "cell_type": "code",
   "execution_count": 4,
   "metadata": {
    "collapsed": true
   },
   "outputs": [],
   "source": [
    "def add_PUL_to_database(name, PUL, dictionary):\n",
    "    \"\"\"Return updated dictionary\"\"\"\n",
    "    if name not in dictionary:\n",
    "        dictionary[name] = {PUL:15}\n",
    "    else:\n",
    "        if not PUL in dictionary[name]:\n",
    "            dictionary[name][PUL] = 15\n",
    "    return dictionary"
   ]
  },
  {
   "cell_type": "code",
   "execution_count": 5,
   "metadata": {
    "collapsed": true
   },
   "outputs": [],
   "source": [
    "from os.path import exists\n",
    "import sys\n",
    "from pickle import dump, load\n",
    "def pickle_dictionary(dictionary, file_name):\n",
    "    dump(dictionary, open(file_name, 'wb'))"
   ]
  },
  {
   "cell_type": "code",
   "execution_count": 6,
   "metadata": {
    "collapsed": true,
    "scrolled": true
   },
   "outputs": [],
   "source": [
    "import numpy\n",
    "def reset_all():\n",
    "    global dictionary\n",
    "    global no_lines\n",
    "    global need_lines\n",
    "    global bad_lines\n",
    "    dictionary = {} \n",
    "    no_lines = []\n",
    "    need_lines = []\n",
    "    bad_lines = {} #{name:[list of bad lines]}\n",
    "\n",
    "\n",
    "\n",
    "def pick_PULs_from_database(dictionary_of_PULs):\n",
    "    if len(dictionary_of_PULs)<=3:\n",
    "        return list(dictionary_of_PULs.keys())\n",
    "    else:\n",
    "        lines = list(dictionary_of_PULs.keys())\n",
    "        weights = []\n",
    "        sum_of_weights = sum(dictionary_of_PULs.values())\n",
    "        for i in dictionary_of_PULs.values():\n",
    "            weights.append(i/sum_of_weights)\n",
    "        chosen_PUL = list(numpy.random.choice(lines,size=3,replace=False, p=weights))\n",
    "        return chosen_PUL\n",
    "    \n",
    "#pick_PULs_from_database({'hi':10, 'bye':10, 'lie':90, 'my': 2, 'guy': 100,})\n",
    "def recieving_name_request(name):\n",
    "    \"\"\"Returns list of 0-3 pickup-lines. Adds new lines to database\"\"\"\n",
    "    name = name.lower()\n",
    "    \n",
    "    global dictionary\n",
    "    global no_lines\n",
    "    global need_lines\n",
    "    global bad_lines\n",
    "    global gather_all_PU_lines_for_a_name\n",
    "    global add_PUL_to_database\n",
    "    \n",
    "    if name in no_lines:\n",
    "        return 'give general' #change\n",
    "    else:\n",
    "        if name in dictionary:\n",
    "            return pick_PULs_from_database(dictionary[name]) \n",
    "        else:\n",
    "            dictionary[name]={}\n",
    "            names_PUL_from_internet = gather_all_PU_lines_for_a_name(name)\n",
    "            if not names_PUL_from_internet:\n",
    "                no_lines.append(name)\n",
    "                need_lines.append(name)\n",
    "                return 'give general'\n",
    "            else:\n",
    "                for PUL in names_PUL_from_internet:\n",
    "                    add_PUL_to_database(name, PUL, dictionary)\n",
    "                if len(dictionary[name]) <=3:\n",
    "                    need_lines.append(name)    \n",
    "                return pick_PULs_from_database(dictionary[name]) \n",
    "            "
   ]
  },
  {
   "cell_type": "code",
   "execution_count": 7,
   "metadata": {
    "collapsed": true
   },
   "outputs": [],
   "source": [
    "#dictionary = {'erika': {'hi': 10, 'bye': 10, 'lie': 90, 'my': 2, 'guy': 100}, 'jocelyn': {'Not sure if Jocelyn would go for that one. Seems kinda desperate.': 15}}\n",
    "def recieving_weight_modifiers(name, dictionary_of_weights): #{'hi':10, 'bye':10, 'lie':90}\n",
    "    global dictionary\n",
    "    global no_lines\n",
    "    global need_lines\n",
    "    global bad_lines\n",
    "    for PUL, value_modifier in dictionary_of_weights.items():\n",
    "        if PUL in dictionary[name]:\n",
    "            dictionary[name][PUL] += value_modifier\n",
    "            if dictionary[name][PUL] <= 0:\n",
    "                if name in bad_lines:\n",
    "                    bad_lines[name].append(PUL)\n",
    "                else:\n",
    "                    bad_lines[name] = [PUL]\n",
    "                del dictionary[name][PUL]\n",
    "                if len(dictionary[name])<= 3:\n",
    "                    if not name in need_lines:\n",
    "                        need_lines.append(name)\n",
    "                if len(dictionary[name])<= 0:\n",
    "                    if not name in no_lines:\n",
    "                        no_lines.append(name)\n",
    "\n"
   ]
  },
  {
   "cell_type": "code",
   "execution_count": 31,
   "metadata": {
    "collapsed": true
   },
   "outputs": [],
   "source": [
    "#have to create cache for bad_lines, need_lines and no_lines\n",
    "import pickle\n",
    "def load_cache(file =\"names_PUL_cache\"):\n",
    "    cache = pickle.load( open( file, \"rb\" ) )\n",
    "    print(cache)\n",
    "    return cache"
   ]
  },
  {
   "cell_type": "code",
   "execution_count": 9,
   "metadata": {
    "collapsed": true
   },
   "outputs": [],
   "source": [
    "#UNFINISHED\n",
    "def processing_user_training(name, PUL):\n",
    "    global no_lines\n",
    "    global need_lines\n",
    "    #edits no_lines/need_lines\n",
    "    #processes through badlines"
   ]
  },
  {
   "cell_type": "code",
   "execution_count": null,
   "metadata": {},
   "outputs": [
    {
     "name": "stdout",
     "output_type": "stream",
     "text": [
      "No pickup lines for matthew found on Reddit.\n",
      "No pickup lines for mathew found on Reddit.\n",
      "No pickup lines for mathieu found on Reddit.\n",
      "Matthew is not a palindrome.\n",
      "No pickup lines for ashleigh found on Reddit.\n",
      "No pickup lines for ashlee found on Reddit.\n",
      "No pickup lines for ashly found on Reddit.\n",
      "No pickup lines for ashlie found on Reddit.\n",
      "No pickup lines for ashli found on Reddit.\n",
      "Ashley is not a palindrome.\n",
      "2 names scraped: \n",
      "{'michael': {'2 turtles find themselves stuck in an oven. One turns to the other and shouts \"wow! Michelle is hot!\"': 15}, 'jessica': {}, 'matthew': {}, 'ashley': {'I can’t believe I Ashley matched with a girl as pretty as you ': 15, \"Why don't you come over to my my place, and let's Sm-Ashley?\": 15}}\n",
      "No pickup lines for christopher found on Reddit.\n",
      "No pickup lines for kristopher found on Reddit.\n",
      "No pickup lines for cristopher found on Reddit.\n",
      "No pickup lines for kristofer found on Reddit.\n",
      "No pickup lines for cristofer found on Reddit.\n",
      "Christopher is not a palindrome.\n"
     ]
    }
   ],
   "source": [
    "def update_name_from_internet(name):\n",
    "    global dictionary\n",
    "    global no_lines\n",
    "    global need_lines\n",
    "    global bad_lines\n",
    "    global gather_all_PU_lines_for_a_name\n",
    "    global add_PUL_to_database\n",
    "    global new_reddit_PULines\n",
    "    \n",
    "    if not name in dictionary:\n",
    "        recieving_name_request(name)\n",
    "    else:\n",
    "        names_PUL_from_internet = new_reddit_PULines(name)\n",
    "        if name not in bad_lines:\n",
    "            for PUL in names_PUL_from_internet:\n",
    "                add_PUL_to_database(name, PUL, dictionary)             \n",
    "        else:\n",
    "            for PUL in names_PUL_from_internet:\n",
    "                if PUL in bad_lines[name]:\n",
    "                    names_PUL_from_internet.remove(PUL) #think through\n",
    "                else:\n",
    "                    add_PUL_to_database(name, PUL, dictionary)\n",
    "        if names_PUL_from_internet:\n",
    "            no_lines.append(name)\n",
    "            need_lines.append(name)\n",
    "            return 'give general'\n",
    "            if len(dictionary[name]) <=3:\n",
    "                need_lines.append(name)    \n",
    "\n",
    "        "
   ]
  },
  {
   "cell_type": "code",
   "execution_count": 29,
   "metadata": {},
   "outputs": [
    {
     "name": "stdout",
     "output_type": "stream",
     "text": [
      "{'michael': {'2 turtles find themselves stuck in an oven. One turns to the other and shouts \"wow! Michelle is hot!\"': 15}, 'jessica': {}, 'matthew': {}, 'ashley': {'I can’t believe I Ashley matched with a girl as pretty as you ': 15, \"Why don't you come over to my my place, and let's Sm-Ashley?\": 15}, 'christopher': {}, 'emily': {\"(Breathing heavily) Heh heh... can... can you dress up as... heh... Wheeze E-e-e-e-emily for me? Heh heh (Breathing heavily intensifies) She's mai waifu.\": 15, '>lemme smash pls emily ': 15, 'I would choose you over Emilyion dollars.': 15, 'Emily only faked cancer once': 15, 'You are definitely one in Emily-llion': 15}, 'jacob': {}, 'samantha': {}, 'joshua': {\"Joshua, if you add a D to your name, it's an anagram for the Spanish word hojudas. So I guess the question is - do you want the D?\": 15}, 'sarah': {'If you could ride (or meet/see/touch/etc.) any dinosaur what would it be?\\n\\n*her answer*\\n\\nOh nice! Personally, I think I would like to *Try-Sarah-topless*\\n': 15, 'Sarahously, do you want any to hang out?': 15}, 'nicholas': {\"Nicholas, if you add a D to your name, it's an anagram for the Spanish word hincadlos. So I guess the question is - do you want the D?\": 15}, 'taylor': {'So... I’m just gonna level with you. I was researching pick up lines on the internet for tonight. \\n\\nBut then I thought to myself:  “You know what? This girl deserves more. I’m not going to plagiarise jokes from the internet. I’m gonna sit here and think about it and I’m not going to move until I’m able to Taylor a joke of my own.” ': 15, 'Well. Taylor swift, huh?\\nYa like her?\\nYou have the same name.\\nBye.': 15, 'Are you into golfing?\\nBecause TaylorMade a hole in one.': 15}, 'tyler': {}, 'hannah': {'How about we get together tonight and you suck on my BaHannah?': 15, 'Hannah-va oh na na, half of my heart is in hannah-va oh na na': 15, 'Could you Hannah me your number?': 15, 'Your name backwards is Hannah.  Lets fuck': 15, \"I was thinking of getting a tattoo on my penis, but I think I should try Hannah for a couple days first to see if I'll like it.\": 15, \"Hannah - your name is a palindrome, I like it. I'd do you forwards and backwards\": 15}, 'brandon': {}, 'brittany': {\"Hi..I'm u/MASTER_OF_ENT.. I'm British, like to listen to britpop, love to eat brittles and i wonder to have pretty girlfriend named Brittany..\": 15}, 'daniel': {\"With you around I feel like I could do anything, even take on a den of lions.\\n\\nReference to Daniel and the Lion's Den here.\": 15, 'Damn Daniel...': 15, \"I'd also like one for a Danielle. \\n\\nIf anyone has any ideas.\": 15, '“Danielle huh, I bet you do” ': 15, \"Daniel, if you add a D to your name, it's an anagram for the Spanish word lenidad. So I guess the question is - do you want the D?\": 15, \"Daniel, if you add a V to your name, it's an anagram for the Spanish word anviled. So I guess the question is - do you want the V?\": 15}, 'amanda': {\"Amanda, if you add a D to your name, it's an anagram for the Spanish word mandada. So I guess the question is - do you want the D?\": 15}, 'austin': {\"I'd like to get Laustin your eyes. Church it up a bit haha\": 15, 'Hi Austin, how are you?': 15, \"Austin, if you add a D to your name, it's an anagram for the Spanish word nudista. So I guess the question is - do you want the D?\": 15}, 'elizabeth': {}, 'andrew': {}, 'kayla': {'Hey micayla, did you know your name rhymes with \"as long as you\\'re telling me to take you to bed, I\\'ll obey ya.\"\\n\\n\\nI\\'m in a rhyming kick, and mykayla is hard. Sorry. ': 15}, 'joseph': {}, 'rachel': {\"Call me Martin Luther King because I'm all about Rachel equality.\": 15, 'Also, nothing really rhymes with Rachel so figure out her last name, or nickname. \\n\\nUnless it\\'s pronounced \"Rah-shell\".  If it is let me know.  ;)': 15, \"This might be a little too much.    ;)\\n\\nRachelle, we could go to dinner, maybe pop the cork on some Zinfandel. Or you could come to my place and I promise you that within 15min of hitting the doorbell, your head will be spinning like a carousel. We probably wouldn't even make it up the stairwell. But maybe we should start with dinner, what the hell...\": 15}, 'john': {}, 'megan': {'\"Girl, will you go out with me, and I\\'m only asking once, I\\'m not gonna be Megan (like begging) on my knees\"': 15, \"Megan, if you add a D to your name, it's an anagram for the Spanish word manged. So I guess the question is - do you want the D?\": 15}, 'zachary': {}, 'alexis': {\"You should change your name to Alexa , cause I'd like to keep you in my home forever !\\n\\nAlexis the one whos has been on my mind all day today, I'd like to know if she wants to go out for coffee \": 15, 'I was gonna buy an audi but now I’ve got my eyes on Alexis (a lexus)': 15, \"I know you're Alexis, but today you're looking like A Porsche\": 15, 'Hey ALEXIS, I tested a Mercedes but I\\'d really like to spend some time in a Lexus.  \\n\\n\\nOr,\\n\\n\\nHey Alexis, I\\'d like to fuck you like farm animals get fucked in Texas.   \\n\\nThe religious folk you could say,\\n\\n\"I\\'d like to do you like farm animals are done in Texas.\"': 15, \"Alexiss, I've been wondering what kind of model you are, but then I realized I just was to spend some time in a Lexus.  \": 15}, 'ryan': {'hey ryan u like lions?? bc ill be lion in ur bed tonight ;))))))': 15, 'Hey Ryan, if you say you’re not going down on me tonight you’re lyin!”\\n\\n\\nWhat kind of mood you going for? Sweet,Silly, funny, sexy, perverted?': 15, 'I can’t think of a smooth way to put it together, but you’re a girl hunting a guy named ryan. \\n\\nFemale Lyons typically do the hunting.  There’s something there somewhere. ': 15, \"Find a girl who's not vegetarian 😂\": 15, 'I know you don’t eat meat but you can eat my meat and still be vegetarian': 15, \"Do something involving deep, and compare it to the Mariana Trench. Like, my love for you is so deep, it's like the Mariana Trench. Or, lemme bury my dick in your ass deeper than the Mariana Trench\": 15, 'Hey Brianna, I wanna be on a date with you alone... a...': 15, \"Ryan, if you add a D to your name, it's an anagram for the Spanish word randy. So I guess the question is - do you want the D?\": 15}, 'lauren': {\"Lauren, I must have dyslexia because I think you're Unreal.\\n\\nEnjoy getting your dick sucked. You're welcome.\\n\": 15, \"I've traveled the world and honestly never seen anything more beautiful than Florence. No not the city, you my dear.\": 15, 'You know?  You’re Cute, You stand out like a florencent light': 15, \"Ayo Florence; its common sense\\n'Bounce on my dick after you take off your pants.\\n\\nOr we go for a coffee.... I dunnu man....\": 15, \"Lauren, if you add a D to your name, it's an anagram for the Spanish word launder. So I guess the question is - do you want the D?\": 15, \"Lauren, if you add a V to your name, it's an anagram for the Spanish word unravel. So I guess the question is - do you want the V?\": 15}, 'david': {'Are you David? Cause I eat ass': 15, \"Are you David? Because you probably couldn't beat anyone in a fight but I'm giving you a lucky shot. \": 15, \"Is your name David? Because I'm pretty sure only you could be crafted at the hands of Michelangelo.\\n\\nAre you David? Because your sexy figure sure would make an awesome sculpture.\": 15}, 'stephanie': {}, 'james': {'If she’s pronouncing it like “jazz-men.”\\n\\nHello jasmine,\\n\\nI’d like to take you out, somewhere you’ve never been\\n\\nWe could go out on the town, and then end the night with a little sin\\n\\nWe can go to my place, and make love again and again\\n\\nI’ll spend the whole night pleasuring you, like people from Alabama do their kin\\n\\nSo what do you say? I think is together is win-win\\n\\nWe go together like a dolphin, and a dorsal fin\\n\\n\\nAnd if she turns you down? To hell with women.   ;)': 15, 'Would you jas(be)mine?': 15, 'Damn Jasmine, is this Aladdin? Because you’ve got me rubbing on something, and it ain’t no magic lamp!': 15, \"I want you to be jas mine and no one else's. \": 15, 'Is it jasmine(just me) or it just feels too hot here?': 15}, 'courtney': {}, 'justin': {}, 'jennifer': {}, 'anthony': {}, 'nicole': {\"I tried to quit smoking with the patch and it didn't work, maybe I should try Nicolette? \": 15, 'Nicolette, did you know your name rhymes with \"that is a great outfit, now why isn\\'t it off yet?\"': 15, 'Nicolette, I\\'d  take you out to dinner even if it put me in debt. No I wouldn\\'t, I\\'m just playing. I\\'d probably sneak out leaving you with the bill and when you point me out I\\'d shout \"bitch we\\'ve never even met!\"': 15, 'Hey girl, the fuck kind of name is Nicolette ': 15, 'Nicolette, \\n\\nhow are we telling our parents \\n\\nhow we first met? ': 15, \"Nicole, if you add a D to your name, it's an anagram for the Spanish word colinde. So I guess the question is - do you want the D?\": 15, \"Nicole, if you add a D to your name, it's an anagram for the Spanish word delinco. So I guess the question is - do you want the D?\": 15}, 'william': {}, 'victoria': {}, 'alexander': {}, 'brianna': {\"I'm would definitely Breanna date with you than do this boring (add something boring here, eg. Homework, idk think of something that can lead to an exciting conversation) GL my boy\": 15}, 'robert': {}, 'amber': {'They say dating me is just like traffic lights.\\xa0Amber always comes before we stop.': 15, 'can I be the mosquito from jurassic park? (bc it was in amber. dont say this part though just incase she asks)': 15, 'Somebody call the damn amber lamb!!!': 15}, 'jonathan': {}, 'morgan': {\"Hey, is your name Morgan? Cause' I want to fuck.\": 15, \"You've heard of Morgan Freeman yeah? Have you heard Morgan Free My Seamen?\": 15, '“Worried I might have bit off Morgan I can chew”': 15}, 'kyle': {\"Say My Name Skyler, cause I'm the one who Knocks ( Breaking Bad reference) \": 15, \"Kyle you've got style.\\nNot that good but I tried \": 15, \"Go out with me, Kyle.... and i'll make it worth your while...... *throw a super sexy look his way*\": 15, 'Looking at you makes me no want to Kyle myself': 15, 'Kyle, did you know your name rhymes with \"can you please hurry up and make a move, I haven\\'t been fucked in awhile?\"': 15, 'Kyle, did you know your name rhymes with \"I want you to stuff my box like there\\'s not even room for one more file.\"\\n\\n\\nKyle, we should go out for awhile, I\\'m not in denial, this might only last one night, or until we\\'re old and senile. \\n\\n': 15, 'hey kylie uhhhh ya wanna see my dick?': 15}, 'danielle': {\"I'd also like one for a Danielle. \\n\\nIf anyone has any ideas.\": 15, '“Danielle huh, I bet you do” ': 15, \"Danielle, if you add a V to your name, it's an anagram for the Spanish word niveladle. So I guess the question is - do you want the V?\": 15}, 'kevin': {}, 'jasmine': {'If she’s pronouncing it like “jazz-men.”\\n\\nHello jasmine,\\n\\nI’d like to take you out, somewhere you’ve never been\\n\\nWe could go out on the town, and then end the night with a little sin\\n\\nWe can go to my place, and make love again and again\\n\\nI’ll spend the whole night pleasuring you, like people from Alabama do their kin\\n\\nSo what do you say? I think is together is win-win\\n\\nWe go together like a dolphin, and a dorsal fin\\n\\n\\nAnd if she turns you down? To hell with women.   ;)': 15, 'Damn Jasmine, is this Aladdin? Because you’ve got me rubbing on something, and it ain’t no magic lamp!': 15, 'Is it jasmine(just me) or it just feels too hot here?': 15}, 'cody': {}, 'alexandra': {}, 'thomas': {}, 'alyssa': {'Alyssai (at least I) got a match\\nOnly works for tinder': 15, \"Am I Leonardo da Vinci? Cause I'll make you moan Alyssa (Mona Lisa)\": 15, 'Call me Leonardo da Vinci because IL make you Moan, Alyssa.': 15, 'Alyssa? I barely know her': 15, \"Alyssa am not gonna date her\\n\\nI'll walk myself out\": 15}, 'christian': {}, 'rebecca': {}, 'jordan': {'Jordan, wanna be mordan friends???? boom instant pussy': 15, 'Jordan, \\n\\nI’m not trying to lock you down like a warden\\n\\nYou’re just the kind of girl I’d like to stick my sword in\\n\\n\\nThat should work, just hope she isn’t a crazy bitch, you know, a Lizzie Borden ': 15}, 'madison': {'Hello Madison, \\n\\nI’d really like to take you out, I think you might be the one\\n\\nYou’re just so beautiful, I bet you blind the sun\\n\\nA night on the town with you, just sounds like so much fun\\n\\nWe can do whatever you wish, as long as you’re sitting shotgun \\n\\nI hope our first date keeps repeating, like my favorite television rerun\\n\\nId love to wrap my arms around you, like a hotdog and bun\\n\\nAlright, enough of this, I’m done acting like you’re THAT someone. \\n\\nDrop to knees, and let’s get this shit done. \\n\\n\\n\\nAnd that’s not a pun...\\n': 15, \"Madison, if you add a D to your name, it's an anagram for the Spanish word diamonds. So I guess the question is - do you want the D?\": 15}, 'aaron': {'I think “what’s the difference between a Big Mac and a blowjob” flows better. ': 15, \"Aaron, if you add a D to your name, it's an anagram for the Spanish word arando. So I guess the question is - do you want the D?\": 15, \"Aaron, if you add a D to your name, it's an anagram for the Spanish word adorna. So I guess the question is - do you want the D?\": 15, \"Aaron, if you add a D to your name, it's an anagram for the Spanish word adoran. So I guess the question is - do you want the D?\": 15, \"Aaron, if you add a D to your name, it's an anagram for the Spanish word donara. So I guess the question is - do you want the D?\": 15, \"Aaron, if you add a V to your name, it's an anagram for the Spanish word ovaran. So I guess the question is - do you want the V?\": 15, \"Aaron, if you add a V to your name, it's an anagram for the Spanish word novara. So I guess the question is - do you want the V?\": 15}, 'katherine': {\"Hey. Is your name Catherine?\\nYeah.\\nCool, let's hang.\": 15, 'Katherine? More like katherTEN\\n\\nUsed it on tinder. Led to me eventually cumming in katherTENs mouth': 15}, 'benjamin': {}, 'anna': {\"You wanna know who's cringe? Read the main post again.\": 15, \"Do you wanna know who's beautiful? Read the first word.\": 15, \"Wanna know why I'm known as the Kitten?\\n\\nBecause when women see it they say Awh. \\n\\n:(\": 15, 'How about we get together tonight and you suck on my BaHannah?': 15, \"I'm would definitely Breanna date with you than do this boring (add something boring here, eg. Homework, idk think of something that can lead to an exciting conversation) GL my boy\": 15, 'ANNAAAAAAAAAAAAAAAAAAAAAAA WILL ALWAYS LOVE YOUUUUUUUUUUUU\\n\\n(you have to say it with a slight \"Annaw\" sound, rather than \"Annuh\")': 15, 'How About Like Lets Make Today Our Future Anna-versary': 15, 'Mind if I ... take you Anna date?': 15, \"I 'anna take you out\": 15, \"I wanna know if U+I=18 because i think i's a 8 and you're a 10 but if i'm wrong, maybe I should take U out l8r?\\n\\nidk idk i tried\": 15, 'Hannah-va oh na na, half of my heart is in hannah-va oh na na': 15, 'Could you Hannah me your number?': 15, \"You're like the combination of my two favourite celebs: Julia Roberts and Anna Kendrick!\\n\\nPS : No puns here in this post though.\": 15, 'Hello Julianna, I wasn’t going to tell you this, but I know you’re not a prima Donna. \\n\\nI had a a dream that we wrecked a hotel, we left it like sauna\\n\\nWe steamed that room so long the walls started growing fauna. \\n\\nWe steamed the room so long, we weren’t the only ones making love, in the fauna, two horny toads, and two iguanas\\n\\nI spent so much time under the most beautiful place in the world, I felt like Tijuana \\n\\nI’m a big believer that dreams should be reality, so.......you wanna?': 15, 'Your name backwards is Hannah.  Lets fuck': 15, \"I was thinking of getting a tattoo on my penis, but I think I should try Hannah for a couple days first to see if I'll like it.\": 15, \"Do you wanna be a painting? I'd love to put my happy tree in you \": 15, 'Let me get your number. I️ want to take you to dinner Anna movie.': 15, 'Can I come over because I w-Anna eat your ass?': 15, 'I\\'ve also heard, \"I heard a kiss can make your whole day, but anal can make your hole weak\".': 15, 'It\\'s supposed to go, \"If we did anal it would make my whole day, but it would make your hole weak.\"\\n\\nThis changes it to where it\\'s a play-on for both the words \\'hole\\' and \\'whole\\', as well as the irony of using the word \\'weak\\' rather than \\'week\\'.': 15, \"Remember, if she's got an apple, she's got a banana.\": 15, \"Let's take out the be from your name and Anal give you multiple orgasms. How does that sound?\": 15, 'My favorite part about the the idea of a wedding in a church is the belfry ringing Anabel.\\n\\n(Play on And a Bell?)': 15, 'How about You’re as hot as a danamyte?or use danação(damnation in Portuguese) somehow. Good luck!': 15, 'So you want to impress her but you dana how to do it?': 15, 'she wore a skimpy yellow bikini to the pool so they had to Ban-Ana': 15, 'Savanah oh na na': 15, 'I can make you more wet than a savanah have ever been ': 15, 'Sup girl? Jovana suck this dick or what?': 15, 'Half of my heart is in jovana oh nana': 15, 'Kana get ya number': 15, '\\n\\n\\nHey kana, I\\'m thinking you, me, some flavored condoms, and a cabana.\\n \\nIn Atlanta. \\n\\nOr maybe Louisiana.\\n\\n Hell, why don\\'t we just take a road trip to Montana. We can play the road game where you swallow everything that\\'s \\nshaped like a banana.\\n\\n Or we can just hit the back seat and make wherever we are hotter than an African savanna\\n\\nAt a minimum we should be slapping thighs, and knocking boots like rednecks when they sing \"Oh Susanna.\"\\n\\n\\n\\nIt\\'s a little long winded but it could work. If you want a short one....\\n\\nHello Kana, I bet your head is tight like a bandana. ': 15, \"Do something involving deep, and compare it to the Mariana Trench. Like, my love for you is so deep, it's like the Mariana Trench. Or, lemme bury my dick in your ass deeper than the Mariana Trench\": 15, 'You can play with my brown rotten Danana': 15, 'Jana, want my banana?': 15, 'My life is a mess plz be my Janator and clean it up for me ': 15, \"Anna - your name is a palindrome, I like it. I'd do you forwards and backwards\": 15, \"Anna, if you add a D to your name, it's an anagram for the Spanish word andan. So I guess the question is - do you want the D?\": 15, \"Anna, if you add a D to your name, it's an anagram for the Spanish word nadan. So I guess the question is - do you want the D?\": 15}, 'eric': {'We need to excercise our freedom of assembly. I mean, this amErica, right?': 15, 'I get a erication looking at your pits': 15, \"Eric, if you add a D to your name, it's an anagram for the Spanish word riced. So I guess the question is - do you want the D?\": 15, \"Eric, if you add a D to your name, it's an anagram for the Spanish word cider. So I guess the question is - do you want the D?\": 15}, 'haley': {\"I'll pester my GF and see if she knows any good ones since her name is Haley \": 15}, 'samuel': {\"Samuel, if you add a D to your name, it's an anagram for the Spanish word sumadle. So I guess the question is - do you want the D?\": 15}, 'kelsey': {}, 'dylan': {}, 'allison': {\"Allison, if you add a V to your name, it's an anagram for the Spanish word novillas. So I guess the question is - do you want the V?\": 15, \"Allison, if you add a V to your name, it's an anagram for the Spanish word villanos. So I guess the question is - do you want the V?\": 15}, 'jose': {\"Jose, if you add a D to your name, it's an anagram for the Spanish word jodes. So I guess the question is - do you want the D?\": 15}, 'melissa': {\"Melissa, if you add a D to your name, it's an anagram for the Spanish word misleads. So I guess the question is - do you want the D?\": 15}, 'brian': {'Hey Brianna, I wanna be on a date with you alone... a...': 15, \"Brian, if you add a D to your name, it's an anagram for the Spanish word brinda. So I guess the question is - do you want the D?\": 15, \"Brian, if you add a V to your name, it's an anagram for the Spanish word vibran. So I guess the question is - do you want the V?\": 15}, 'abigail': {\"Abigail, if you add a V to your name, it's an anagram for the Spanish word vigilaba. So I guess the question is - do you want the V?\": 15}, 'steven': {}, 'kimberly': {'Hello Kimberly, I think we could have a good time with each other are those Brest D’s or C’s? \\n\\nnow you can assume any position you wish, as long as it includes you on a knee. \\n\\nThe  you’ll undo the buckle, now the job you see. \\n\\nAnd no, you’re not being paid, this is free\\n\\nAnd you better not have an STD....\\n\\nI’m just playing love, you want to go out sometime bee?': 15}, 'adam': {}, 'shelby': {'When I saw your profile I thought to myself, I wonder if Shelby mine': 15, \"Let's go out for drinks tonight, cause I Shelby you any drink you want\": 15, 'Shelby coming around the mountain when she comes. YEH HA': 15, \"If your mom ever ask if the guy you're going on a date is hot, say yes coz im sure shelby-lieve it\": 15}, 'nathan': {'Fuck my ass Jonathan ': 15, 'You don’t want to pick up a Jonathan, they’re losers\\n\\nYou should find a Mike, a lot of shit rhymes with Mike.  ;)': 15}, 'olivia': {'Hey, you wanna help me oliviate some stress later tonight? It’s funny because my girlfriends name is Olivia ': 15, 'Give me Olivia money\\n\\nAnd your number while youre at it': 15, 'Olivia to make your day': 15, \"Olivia take you out (I'd love to take you out) \\n- better said than written\": 15, 'I want Olivia heart.': 15, 'Olivia smile': 15}, 'timothy': {}, 'mary': {\"Hey gurlll are you mary?\\n\\n Cuz i'm gonna put my baby in you.\": 15, 'Are you a virgin, Mary ': 15, 'Will you Mary me?': 15, 'As a guy with a gf named Mary say, “if I was dating you, I would never treat you like he did”': 15}, 'jason': {}, 'michelle': {'2 turtles find themselves stuck in an oven. One turns to the other and shouts \"wow! Michelle is hot!\"': 15}, 'richard': {}, 'kaitlyn': {}, 'patrick': {'Fuck my ass Patrick': 15, 'So I guess my last one wouldn’t do? I’ll guess I’ll try again\\n\\nHello Patrick,\\n\\nI think I like you, you seem kind of slick\\n\\nYou light a fire in me, like a match and wick\\n\\nYou make me melt, like a candlestick\\n\\nYou’re kinda hot, like you’re middle name is BIC\\n\\nI’m not a slut, nor am I turning tricks\\n\\nIf you say no, I guess I’m just not your pick\\n\\nThen it’s your loss, the things I would could have done to your prick\\n\\nBouncing up and down, like a pogo stick\\n\\nHead slamming too, like you should have caught that brick\\n\\nI go downtown so far, I start feeling homesick\\n\\nYou know what, Why don’t we just go out, I think things will click....\\n\\n\\nHow about that?': 15, 'Hello Patrick, \\n\\nI’d really like to go out, maybe catch a flick\\n\\nYou look good, I just hope you’re not a prick \\n\\nIf you play your cards right, I might let you dick\\n\\nYou don’t have to be long, as long as you’re thick \\n\\nYou better spend time downtown, if you’re the type to finish quick\\n\\nIf you’re not up for that, don’t waste my time, it really makes me sick\\n\\nDon’t even think of saying bitch, or you’ll see me fetch another stick\\n\\nIf all else fails I’ll just bang your brother, “you said his name is Nick?”\\n\\n\\n\\n\\n': 15}, 'sydney': {'Call me the Opera House because I’m gonna be in Sydney': 15, 'Fuck my ass Sydney ': 15}, 'charles': {}, 'maria': {\"Do something involving deep, and compare it to the Mariana Trench. Like, my love for you is so deep, it's like the Mariana Trench. Or, lemme bury my dick in your ass deeper than the Mariana Trench\": 15, \"Maria, if you add a D to your name, it's an anagram for the Spanish word marida. So I guess the question is - do you want the D?\": 15, \"Maria, if you add a D to your name, it's an anagram for the Spanish word mirada. So I guess the question is - do you want the D?\": 15, \"Maria, if you add a D to your name, it's an anagram for the Spanish word admira. So I guess the question is - do you want the D?\": 15, \"Maria, if you add a D to your name, it's an anagram for the Spanish word rimada. So I guess the question is - do you want the D?\": 15}, 'sean': {\"Sean, if you add a D to your name, it's an anagram for the Spanish word sedan. So I guess the question is - do you want the D?\": 15, \"Sean, if you add a D to your name, it's an anagram for the Spanish word deans. So I guess the question is - do you want the D?\": 15, \"Sean, if you add a V to your name, it's an anagram for the Spanish word naves. So I guess the question is - do you want the V?\": 15}, 'christina': {}, 'jesse': {}, 'tiffany': {\"Yo is your name Tiffany?\\nYeah\\nCool. Let's hang.\": 15}, 'alex': {\"You should change your name to Alexa , cause I'd like to keep you in my home forever !\\n\\nAlexis the one whos has been on my mind all day today, I'd like to know if she wants to go out for coffee \": 15, 'I was gonna buy an audi but now I’ve got my eyes on Alexis (a lexus)': 15, \"I know you're Alexis, but today you're looking like A Porsche\": 15, '\"Alexia, what\\'s the best way to get a cute girl to go on a date with me?\"': 15, 'Hey ALEXIS, I tested a Mercedes but I\\'d really like to spend some time in a Lexus.  \\n\\n\\nOr,\\n\\n\\nHey Alexis, I\\'d like to fuck you like farm animals get fucked in Texas.   \\n\\nThe religious folk you could say,\\n\\n\"I\\'d like to do you like farm animals are done in Texas.\"': 15, \"Alexiss, I've been wondering what kind of model you are, but then I realized I just was to spend some time in a Lexus.  \": 15}, 'chelsea': {\"Chelsea, if you add a D to your name, it's an anagram for the Spanish word hacedles. So I guess the question is - do you want the D?\": 15, \"Chelsea, if you add a D to your name, it's an anagram for the Spanish word echadles. So I guess the question is - do you want the D?\": 15}, 'jeremy': {}, 'sara': {'If you could ride (or meet/see/touch/etc.) any dinosaur what would it be?\\n\\n*her answer*\\n\\nOh nice! Personally, I think I would like to *Try-Sarah-topless*\\n': 15, 'Sarahously, do you want any to hang out?': 15, \"Sara, if you add a D to your name, it's an anagram for the Spanish word sarda. So I guess the question is - do you want the D?\": 15, \"Sara, if you add a D to your name, it's an anagram for the Spanish word ardas. So I guess the question is - do you want the D?\": 15, \"Sara, if you add a D to your name, it's an anagram for the Spanish word rasad. So I guess the question is - do you want the D?\": 15, \"Sara, if you add a V to your name, it's an anagram for the Spanish word vasar. So I guess the question is - do you want the V?\": 15}, 'cameron': {\"Cameron, if you add a D to your name, it's an anagram for the Spanish word romanced. So I guess the question is - do you want the D?\": 15}, 'erin': {'Hey are you good at algebra, I was wondering if you could replace my X and not ask Y.': 15, 'You’re beautiful, I was hoping you would be up for sherina drink with me. ;)': 15, 'Believe it or not, there is actually none for Sherina. ': 15, 'What kinda fucking name is sherina ': 15, \"Pack up your bags cause we're Sherina bed tonight \": 15, 'Katherine? More like katherTEN\\n\\nUsed it on tinder. Led to me eventually cumming in katherTENs mouth': 15, \"Hey. Is your name Catherine?\\nYeah.\\nCool, let's hang.\": 15, \"Erin, if you add a D to your name, it's an anagram for the Spanish word diner. So I guess the question is - do you want the D?\": 15, \"Erin, if you add a V to your name, it's an anagram for the Spanish word riven. So I guess the question is - do you want the V?\": 15}, 'juan': {'Want to be the only girl ive ever kissed? /s': 15, \"Well since you have my heart, you might wanna give me yours too otherwise I'm taking you to Court-ney...\": 15, 'I don\\'t want to be called a \"what.\"': 15, \"You wanna know who's cringe? Read the main post again.\": 15, \"Do you wanna know who's beautiful? Read the first word.\": 15, \"Uhh... so they want to hear those eight corny lines or don't they? Kind of a mixed message there.\": 15, \"Girl, you wanna play Pearl Harbor? Because you're gunna have a lot of surprised seaman running all over you. \": 15, \"Wanna know why I'm known as the Kitten?\\n\\nBecause when women see it they say Awh. \\n\\n:(\": 15, \"I wanna know if U+I=18 because i think i's a 8 and you're a 10 but if i'm wrong, maybe I should take U out l8r?\\n\\nidk idk i tried\": 15, \"Do you wanna be a painting? I'd love to put my happy tree in you \": 15}, 'logan': {}, 'natalie': {'Hello Natalie, did you know your name rhymes with “the best place to be, is in front of me, balls in hand, and on a knee?”': 15, \"Natalie, if you add a D to your name, it's an anagram for the Spanish word latinead. So I guess the question is - do you want the D?\": 15}, 'mark': {}, 'brooke': {\"Brooke, if you add a D to your name, it's an anagram for the Spanish word brooked. So I guess the question is - do you want the D?\": 15}, 'hunter': {'The Hunter has become the hunted': 15, \"Hunter, if you add a D to your name, it's an anagram for the Spanish word thunder. So I guess the question is - do you want the D?\": 15}, 'marissa': {}, 'caleb': {\"Caleb, if you add a D to your name, it's an anagram for the Spanish word cabled. So I guess the question is - do you want the D?\": 15}, 'heather': {}, 'connor': {}, 'andrea': {\"Andrea, if you add a D to your name, it's an anagram for the Spanish word drenada. So I guess the question is - do you want the D?\": 15, \"Andrea, if you add a V to your name, it's an anagram for the Spanish word veranda. So I guess the question is - do you want the V?\": 15}, 'dakota': {}, 'laura': {\"Laura, if you add a D to your name, it's an anagram for the Spanish word adular. So I guess the question is - do you want the D?\": 15, \"Laura, if you add a D to your name, it's an anagram for the Spanish word rulada. So I guess the question is - do you want the D?\": 15, \"Laura, if you add a D to your name, it's an anagram for the Spanish word raudal. So I guess the question is - do you want the D?\": 15, \"Laura, if you add a V to your name, it's an anagram for the Spanish word valuar. So I guess the question is - do you want the V?\": 15}, 'stephen': {}, 'miranda': {'Hey Miranda! Are you going to read me my rights before you cuff me? ;)': 15}, 'devin': {}, 'paige': {\"I noticed most paiges have numbers, but I didn't catch yours \": 15, \"Old one, \\n\\nYou - I guess I'm going to have to carry a bookmark with me whenever we're together.\\n\\nHer - Why? \\n\\nYou - So that I never lose my Paige. \": 15, 'Let’s go on a rampaige and rule the world like royalty. ': 15, \"You're one Paige that I would never turn.\": 15, 'Ready to turn the Paige of our relationship? (That was corny think of something like that ehaAshshJb)': 15}, 'luis': {}, 'katelyn': {}, 'evan': {\"Evan, if you add a D to your name, it's an anagram for the Spanish word vaned. So I guess the question is - do you want the D?\": 15}, 'sierra': {\"Sierra, if you add a D to your name, it's an anagram for the Spanish word raiders. So I guess the question is - do you want the D?\": 15, \"Sierra, if you add a V to your name, it's an anagram for the Spanish word arrives. So I guess the question is - do you want the V?\": 15}, 'trevor': {}, 'gabrielle': {}, 'dustin': {}, 'julia': {\"You're like the combination of my two favourite celebs: Julia Roberts and Anna Kendrick!\\n\\nPS : No puns here in this post though.\": 15, 'Hello Julianna, I wasn’t going to tell you this, but I know you’re not a prima Donna. \\n\\nI had a a dream that we wrecked a hotel, we left it like sauna\\n\\nWe steamed that room so long the walls started growing fauna. \\n\\nWe steamed the room so long, we weren’t the only ones making love, in the fauna, two horny toads, and two iguanas\\n\\nI spent so much time under the most beautiful place in the world, I felt like Tijuana \\n\\nI’m a big believer that dreams should be reality, so.......you wanna?': 15, 'Would Julian and kiss me if I asked?': 15}, 'jared': {}, 'vanessa': {}, 'jeffrey': {}, 'kelly': {'Hello Kelly, do you know your name rhymes with “I like my women ass up, on their belly?”': 15, ' I wanna put my dick in your belly, Kelly....': 15, 'Kelly, you’re so beautiful I’d spend all night down there, as long as it’s not fish market smelly. ': 15}, 'gabriel': {'Hey, Gabriella. Your name kind of sound like Gavrilo. You know, like Gavrilo Princip, the guy that assasinated Austro-Hungarian heir to the throne, Archduke Franz Ferdinand, and in turn set off a chain of events that would lead to WW1, which, on its own, would set off s chain of events that would shape the 20th century and completely rewrite nearly everything we thought we knew. Anyways, wanna get fingerblasted?': 15, '\"Do you want me to call you gabs, gabby, Gabriella, or mine?\" For that last bit you can use pretty much whatever you want, I use this on girls who have different name they might want to be called, works like 90% of the time ': 15, 'Gabriella, can I smell ya?': 15}, 'kristen': {'Hello Kristen or Kristin,  would you like to bang or fuck?': 15}, 'travis': {}, 'destiny': {}, 'ian': {\"And if I'm Asian? \": 15, \"I must be the magician's assistant, because she saw right through me :(\": 15, 'I wanna be livian (living) with Vivian.\\n\\n': 15, 'I hope its not the vivian i know': 15, 'You look like you could use an Uncle Phil in your life Vivian\\n\\nIf she doesn’t understand she is to young for you bro. \\n\\nOr an uncultured swine who doesn’t deserve you': 15, 'As an Asian girl, I have never appreciated any pick up lines based on my race. She probably gets bombarded with those often ': 15, 'Hello Julianna, I wasn’t going to tell you this, but I know you’re not a prima Donna. \\n\\nI had a a dream that we wrecked a hotel, we left it like sauna\\n\\nWe steamed that room so long the walls started growing fauna. \\n\\nWe steamed the room so long, we weren’t the only ones making love, in the fauna, two horny toads, and two iguanas\\n\\nI spent so much time under the most beautiful place in the world, I felt like Tijuana \\n\\nI’m a big believer that dreams should be reality, so.......you wanna?': 15, 'Did you know i have a nicotine addiction?\\n\\nYeah i really like to Juul-iana\\n\\n*Takes hit on vape*': 15, '\"I couldn\\'t pick any one pick up line for you, there\\'s like a Jillian.\"\\n\\nIf she asks about any of the other ones , though, you\\'re fucked. ': 15, 'Hello Jillian, I’m sorry to bother you but I just had to look at the stars in your eyes. WOW, there’s like a million. \\n\\nI’m kidding I’m kidding, I really just came to see if you have any holes you’ll let me fill in....': 15, \"Hey girl, are you a musician? Cuz you looking sharp!\\n\\nAlternate :\\n\\nHey girl, are you a musician? Cuz you're chest is flat. \": 15, 'Would Julian and kiss me if I asked?': 15, 'How about an Australian kiss? It’s like a French kiss....but down-under...': 15, 'Are you Australian? Because you meet all of my koala-fications ;) ': 15, \"Find a girl who's not vegetarian 😂\": 15, 'I know you don’t eat meat but you can eat my meat and still be vegetarian': 15, \"Do something involving deep, and compare it to the Mariana Trench. Like, my love for you is so deep, it's like the Mariana Trench. Or, lemme bury my dick in your ass deeper than the Mariana Trench\": 15, 'Hey Brianna, I wanna be on a date with you alone... a...': 15, \"Ian, if you add a D to your name, it's an anagram for the Spanish word inda. So I guess the question is - do you want the D?\": 15, \"Ian, if you add a V to your name, it's an anagram for the Spanish word vain. So I guess the question is - do you want the V?\": 15}, 'emma': {'Emma bet you wanna lEmma hEmma dat ass... Emmarite?': 15, 'Emma start this off with': 15, 'You’re more emmazingly glemmarous looking than any other girl in whole Emmerica': 15, \"Emma let you finish but if you go out with me it'll be the greatest date of all time \": 15, 'Tryna get Emma pants tonight?': 15}, 'carlos': {}, 'savannah': {}, 'erica': {'We need to excercise our freedom of assembly. I mean, this amErica, right?': 15, 'I get a erication looking at your pits': 15, \"Erica, if you add a D to your name, it's an anagram for the Spanish word adrice. So I guess the question is - do you want the D?\": 15, \"Erica, if you add a V to your name, it's an anagram for the Spanish word cierva. So I guess the question is - do you want the V?\": 15}, 'bryan': {'Hey Brianna, I wanna be on a date with you alone... a...': 15, \"Bryan, if you add a D to your name, it's an anagram for the Spanish word brandy. So I guess the question is - do you want the D?\": 15}, 'jacqueline': {}, 'paul': {'Maybe something like \"damn girl, you\\'re pretty ap-pauline to me\"': 15, 'If over text tell here that you are really willing to lay it paul on the line.': 15, \"Paul, if you add a D to your name, it's an anagram for the Spanish word dupla. So I guess the question is - do you want the D?\": 15}, 'mariah': {\"Mariah, if you add a D to your name, it's an anagram for the Spanish word hirmada. So I guess the question is - do you want the D?\": 15}, 'kenneth': {}, 'alexandria': {}, 'nathaniel': {\"Nathaniel, if you add a D to your name, it's an anagram for the Spanish word lanthanide. So I guess the question is - do you want the D?\": 15}, 'shannon': {'You are as hot as a Shannon star': 15}}\n"
     ]
    }
   ],
   "source": [
    "dictionary = load_cache('names_PUL_cache')"
   ]
  },
  {
   "cell_type": "code",
   "execution_count": 35,
   "metadata": {},
   "outputs": [],
   "source": [
    "#If you mess up on the no_lines and need_lines\n",
    "def recalculate_nolines_and_needlines(dictionary):\n",
    "    global no_lines\n",
    "    global need_lines\n",
    "    no_lines = []\n",
    "    need_lines = []\n",
    "    for name, PULS in dictionary.items():\n",
    "        if len(dictionary[name]) <= 3:\n",
    "            need_lines.append(name)\n",
    "        if len(dictionary[name]) <= 0:\n",
    "            no_lines.append(name)\n",
    "            "
   ]
  },
  {
   "cell_type": "code",
   "execution_count": 34,
   "metadata": {},
   "outputs": [
    {
     "data": {
      "text/plain": [
       "1"
      ]
     },
     "execution_count": 34,
     "metadata": {},
     "output_type": "execute_result"
    }
   ],
   "source": []
  },
  {
   "cell_type": "code",
   "execution_count": null,
   "metadata": {
    "collapsed": true
   },
   "outputs": [],
   "source": []
  }
 ],
 "metadata": {
  "kernelspec": {
   "display_name": "Python 3",
   "language": "python",
   "name": "python3"
  },
  "language_info": {
   "codemirror_mode": {
    "name": "ipython",
    "version": 3
   },
   "file_extension": ".py",
   "mimetype": "text/x-python",
   "name": "python",
   "nbconvert_exporter": "python",
   "pygments_lexer": "ipython3",
   "version": "3.6.3"
  }
 },
 "nbformat": 4,
 "nbformat_minor": 2
}
