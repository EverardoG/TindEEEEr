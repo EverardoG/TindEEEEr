{
 "cells": [
  {
   "cell_type": "markdown",
   "metadata": {
    "collapsed": true
   },
   "source": [
    "dictionary_of_name_PULines = {'name': [['Pickupline', 0],['Pickupline', 0]]}\n",
    "need_PULines = {'name': [['Pickupline', 0],['Pickupline', 0]]}\n",
    "\n",
    "Update pickuplines\n",
    "1. function that scrapes web and generates new pickuplines\n",
    "2. function that takes a name and list and adds only the new pickuplines to the dictionary \n",
    "3. function that takes the cached dictionary and updates it, then returns the cached dictionary\n",
    "\n",
    "Update weights\n",
    "4. function that takes name and sorts the list by weights\n",
    "5. Need more info about pynder. How to adjust weights. For training purposes we can give them all of the available pickuplines. Good/Bad/Doesn't make sense.\n",
    "\n"
   ]
  },
  {
   "cell_type": "markdown",
   "metadata": {},
   "source": [
    "Functions"
   ]
  },
  {
   "cell_type": "code",
   "execution_count": 1,
   "metadata": {
    "collapsed": true
   },
   "outputs": [],
   "source": [
    "from datamuse import datamuse #may need to pip3 install python-datamuse\n",
    "api = datamuse.Datamuse()\n",
    "\n",
    "import praw #may need to pip install praw\n",
    "import requests.auth\n",
    "import string\n",
    "reddit = praw.Reddit(client_id='fAkqHqn2XyBt3g',\n",
    "                     client_secret=\"B1Rv2IY6KfA3PusqSeaFAu8brIw\",\n",
    "                     user_agent='USERAGENT')\n",
    "\n",
    "import enchant #may need to pip install pyenchant\n",
    "import itertools\n",
    "\n",
    "\n",
    "def create_list_of_near_names(name):\n",
    "    api = datamuse.Datamuse()\n",
    "    list_of_dictionaries = api.words(sl = name, max = 10)\n",
    "    list_of_names = []\n",
    "    for i in list_of_dictionaries:\n",
    "        if i['score'] == 100:\n",
    "            list_of_names.append(i['word'])\n",
    "    if name not in list_of_names:\n",
    "        list_of_names.append(name)\n",
    "    return list_of_names\n",
    "\n",
    "def return_reddit_PULine(name):\n",
    "    \"\"\"Function that takes name and outputs comments from r/pickuplines that have the name in the title \n",
    "    and the name in the comment in a list. \"\"\"\n",
    "    pickuplines = []\n",
    "    name = name.lower()\n",
    "    for submission in reddit.subreddit('pickuplines').top(limit=20000):\n",
    "        if name in submission.title.lower():\n",
    "            submission.comments.replace_more(limit=0)\n",
    "            for top_level_comment in submission.comments:\n",
    "                if name.lower() in top_level_comment.body.lower():\n",
    "                    pickuplines.append(top_level_comment.body)\n",
    "\n",
    "    for submission in reddit.subreddit('pickuplines').hot(limit=5000):\n",
    "        if name in submission.title.lower():\n",
    "            submission.comments.replace_more(limit=0)\n",
    "            for top_level_comment in submission.comments:\n",
    "                if name.lower() in top_level_comment.body.lower():\n",
    "                    pickuplines.append(top_level_comment.body)\n",
    "    if not pickuplines:                \n",
    "        for submission in reddit.subreddit('pickuplines').new(limit=10000):\n",
    "            if name in submission.title.lower():\n",
    "                submission.comments.replace_more(limit=0)\n",
    "                for top_level_comment in submission.comments:\n",
    "                    if name.lower() in top_level_comment.body.lower():\n",
    "                        pickuplines.append(top_level_comment.body)                    \n",
    "                    \n",
    "    if pickuplines:\n",
    "        return pickuplines\n",
    "    else:\n",
    "        print(\"No pickup lines for \"+ name+ \" found on Reddit.\")\n",
    "        return pickuplines\n",
    "    \n",
    "def return_palindrome_PULine(name):\n",
    "    name = name.lower()\n",
    "    i = 0\n",
    "    j = len(name)-1\n",
    "    while i<j:\n",
    "        if name[i] != name[j]:\n",
    "            print(name.title() + \" is not a palindrome.\")\n",
    "            return []\n",
    "        i = i+1\n",
    "        j = j-1\n",
    "    return [name.title() + \" - your name is a palindrome, I like it. I'd do you forwards and backwards\"]\n",
    "\n",
    "def return_anagram_PULine_D(name):\n",
    "    named = name.lower()+'d'\n",
    "    english_dictionary = enchant.Dict(\"en_US\")\n",
    "    spanish_dictionary = enchant.Dict(\"es_ES\")\n",
    "    \n",
    "    list_of_all_anagrams = [\"\".join(perm) for perm in itertools.permutations(named)]\n",
    "    \n",
    "    list_of_real_anagrams = []\n",
    "    pickuplines = []\n",
    "    \n",
    "    for i in list_of_all_anagrams:\n",
    "        if english_dictionary.check(i):\n",
    "            list_of_real_anagrams.append(i)\n",
    "            \n",
    "    if not list_of_real_anagrams:\n",
    "        for i in list_of_all_anagrams:\n",
    "            if spanish_dictionary.check(i):\n",
    "                list_of_real_anagrams.append(i)\n",
    " \n",
    "    for i in list_of_real_anagrams:\n",
    "        pickuplines.append(name.title() + \", if you add a D to your name, it's an anagram for the Spanish word \"\n",
    "                   + i\n",
    "                   + \". So I guess the question is - do you want the D?\")\n",
    "        list_of_real_anagrams.remove(i)\n",
    "\n",
    "    return pickuplines \n",
    "\n",
    "def return_anagram_PULine_V(name):\n",
    "    named = name.lower()+'v'\n",
    "    english_dictionary = enchant.Dict(\"en_US\")\n",
    "    spanish_dictionary = enchant.Dict(\"es_ES\")\n",
    "    \n",
    "    list_of_all_anagrams = [\"\".join(perm) for perm in itertools.permutations(named)]\n",
    "    \n",
    "    list_of_real_anagrams = []\n",
    "    pickuplines = []\n",
    "    \n",
    "    for i in list_of_all_anagrams:\n",
    "        if english_dictionary.check(i):\n",
    "            list_of_real_anagrams.append(i)\n",
    "            \n",
    "    if not list_of_real_anagrams:\n",
    "        for i in list_of_all_anagrams:\n",
    "            if spanish_dictionary.check(i):\n",
    "                list_of_real_anagrams.append(i)\n",
    " \n",
    "    for i in list_of_real_anagrams:\n",
    "        pickuplines.append(name.title() + \", if you add a V to your name, it's an anagram for the Spanish word \"\n",
    "                   + i\n",
    "                   + \". So I guess the question is - do you want the V?\")\n",
    "        list_of_real_anagrams.remove(i)\n",
    "\n",
    "    return pickuplines \n"
   ]
  },
  {
   "cell_type": "code",
   "execution_count": 2,
   "metadata": {},
   "outputs": [
    {
     "name": "stdout",
     "output_type": "stream",
     "text": [
      "No pickup lines for abbey found on Reddit.\n",
      "No pickup lines for abbie found on Reddit.\n",
      "No pickup lines for abbi found on Reddit.\n",
      "No pickup lines for abbe found on Reddit.\n",
      "No pickup lines for abie found on Reddit.\n",
      "Abby is not a palindrome.\n"
     ]
    },
    {
     "data": {
      "text/plain": [
       "['Hey gabby, you checked your weigh today? cuz you lookin real flabby',\n",
       " 'Hey gabby, did you know your name rhymes with \"if you want to go home I\\'ll drive you hard like a New York Cabby?\"\\n\\n']"
      ]
     },
     "execution_count": 2,
     "metadata": {},
     "output_type": "execute_result"
    }
   ],
   "source": [
    "def gather_all_PU_lines_for_a_name(name):\n",
    "    names_list = create_list_of_near_names(name)\n",
    "    PULines = []\n",
    "    for each_name in names_list:\n",
    "        PULines+=return_reddit_PULine(each_name)\n",
    "        \n",
    "    PULines+=return_palindrome_PULine(name)\n",
    "    PULines+=return_anagram_PULine_D(name)\n",
    "    PULines+=return_anagram_PULine_V(name)\n",
    "    return PULines\n",
    "\n",
    "gather_all_PU_lines_for_a_name('abby')\n",
    "        \n",
    "        "
   ]
  },
  {
   "cell_type": "code",
   "execution_count": 3,
   "metadata": {},
   "outputs": [
    {
     "name": "stdout",
     "output_type": "stream",
     "text": [
      "['Michael', 'Jessica', 'Matthew', 'Ashley', 'Christopher', 'Emily', 'Jacob', 'Samantha', 'Joshua', 'Sarah', 'Nicholas', 'Taylor', 'Tyler', 'Hannah', 'Brandon', 'Brittany', 'Daniel', 'Amanda', 'Austin', 'Elizabeth', 'Andrew', 'Kayla', 'Joseph', 'Rachel', 'John', 'Megan', 'Zachary', 'Alexis', 'Ryan', 'Lauren', 'David', 'Stephanie', 'James', 'Courtney', 'Justin', 'Jennifer', 'Anthony', 'Nicole', 'William', 'Victoria', 'Alexander', 'Brianna', 'Robert', 'Amber', 'Jonathan', 'Morgan', 'Kyle', 'Danielle', 'Kevin', 'Jasmine', 'Cody', 'Alexandra', 'Thomas', 'Alyssa', 'Christian', 'Rebecca', 'Jordan', 'Madison', 'Aaron', 'Katherine', 'Benjamin', 'Anna', 'Eric', 'Haley', 'Samuel', 'Kelsey', 'Dylan', 'Allison', 'Jose', 'Melissa', 'Brian', 'Abigail', 'Steven', 'Kimberly', 'Adam', 'Shelby', 'Nathan', 'Olivia', 'Timothy', 'Mary', 'Jason', 'Michelle', 'Richard', 'Kaitlyn', 'Patrick', 'Sydney', 'Charles', 'Maria', 'Sean', 'Christina', 'Jesse', 'Tiffany', 'Alex', 'Chelsea', 'Jeremy', 'Sara', 'Cameron', 'Erin', 'Juan', 'Jordan', 'Logan', 'Natalie', 'Mark', 'Brooke', 'Hunter', 'Marissa', 'Caleb', 'Heather', 'Connor', 'Andrea', 'Dakota', 'Laura', 'Stephen', 'Miranda', 'Devin', 'Paige', 'Luis', 'Katelyn', 'Evan', 'Sierra', 'Trevor', 'Gabrielle', 'Dustin', 'Julia', 'Jared', 'Vanessa', 'Jeffrey', 'Kelly', 'Gabriel', 'Kristen', 'Travis', 'Destiny', 'Ian', 'Emma', 'Carlos', 'Savannah', 'Taylor', 'Erica', 'Bryan', 'Jacqueline', 'Paul', 'Mariah', 'Kenneth', 'Alexandria', 'Nathaniel', 'Shannon', 'Corey', 'Briana', 'Ethan', 'Breanna', 'Jesus', 'Amy', 'Blake', 'Katie', 'Bradley', 'Cassandra', 'Mitchell', 'Madeline', 'Garrett', 'Crystal', 'Marcus', 'Caitlin', 'Luke', 'Lindsey', 'Derek', 'Kathryn', 'Gregory', 'Jenna', 'Antonio', 'Angela', 'Tanner', 'Cheyenne', 'Dalton', 'Monica', 'Edward', 'Mackenzie', 'Peter', 'Alicia', 'Victor', 'Catherine', 'Lucas', 'Selena', 'Scott', 'Caroline', 'Elijah', 'Jamie', 'Miguel', 'Kaitlin', 'Chase', 'Sabrina', 'Seth', 'Bailey', 'Adrian', 'Grace', 'Isaac', 'Molly', 'Noah', 'Brittney', 'Shawn', 'Alexa']\n"
     ]
    }
   ],
   "source": [
    "#Get names from https://www.ssa.gov/cgi-bin/popularnames.cgi and run through https://wordtohtml.net/ \n",
    "\n",
    "import re\n",
    "lines = '1MichaelJessica2MatthewAshley3ChristopherEmily4JacobSamantha5JoshuaSarah6NicholasTaylor7TylerHannah8BrandonBrittany9DanielAmanda10AustinElizabeth11AndrewKayla12JosephRachel13JohnMegan14ZacharyAlexis15RyanLauren16DavidStephanie17JamesCourtney18JustinJennifer19AnthonyNicole20WilliamVictoria21AlexanderBrianna22RobertAmber23JonathanMorgan24KyleDanielle25KevinJasmine26CodyAlexandra27ThomasAlyssa28ChristianRebecca29JordanMadison30AaronKatherine31BenjaminAnna32EricHaley33SamuelKelsey34DylanAllison35JoseMelissa36BrianAbigail37StevenKimberly38AdamShelby39NathanOlivia40TimothyMary41JasonMichelle42RichardKaitlyn43PatrickSydney44CharlesMaria45SeanChristina46JesseTiffany47AlexChelsea48JeremySara49CameronErin50JuanJordan51LoganNatalie52MarkBrooke53HunterMarissa54CalebHeather55ConnorAndrea56DakotaLaura57StephenMiranda58DevinPaige59LuisKatelyn60EvanSierra61TrevorGabrielle62DustinJulia63JaredVanessa64JeffreyKelly65GabrielKristen66TravisDestiny67IanEmma68CarlosSavannah69TaylorErica70BryanJacqueline71PaulMariah72KennethAlexandria73NathanielShannon74CoreyBriana75EthanBreanna76JesusAmy77BlakeKatie78BradleyCassandra79MitchellMadeline80GarrettCrystal81MarcusCaitlin82LukeLindsey83DerekKathryn84GregoryJenna85AntonioAngela86TannerCheyenne87DaltonMonica88EdwardMackenzie89PeterAlicia90VictorCatherine91LucasSelena92ScottCaroline93ElijahJamie94MiguelKaitlin95ChaseSabrina96SethBailey97AdrianGrace98IsaacMolly99NoahBrittney100ShawnAlexa'\n",
    "lines = re.sub( r\"([A-Z])\", r\" \\1\", lines)\n",
    "for i in range(0,10):\n",
    "    lines= lines.replace(str(i), ' ')\n",
    "name_list = lines.split()\n",
    "\n",
    "print(name_list)\n",
    "\n"
   ]
  },
  {
   "cell_type": "code",
   "execution_count": 4,
   "metadata": {
    "collapsed": true
   },
   "outputs": [],
   "source": [
    "def add_PUL_to_database(name, PUL, dictionary):\n",
    "    \"\"\"Return updated dictionary\"\"\"\n",
    "    if name not in dictionary:\n",
    "        dictionary[name] = {PUL:15}\n",
    "    else:\n",
    "        dictionary[name][PUL] = 15\n",
    "    return dictionary"
   ]
  },
  {
   "cell_type": "code",
   "execution_count": 5,
   "metadata": {
    "collapsed": true
   },
   "outputs": [],
   "source": [
    "from os.path import exists\n",
    "import sys\n",
    "from pickle import dump, load\n",
    "def pickle_dictionary(dictionary, file_name):\n",
    "    dump(dictionary, open(file_name, 'wb'))"
   ]
  },
  {
   "cell_type": "code",
   "execution_count": 6,
   "metadata": {},
   "outputs": [
    {
     "name": "stdout",
     "output_type": "stream",
     "text": [
      "No pickup lines for abbey found on Reddit.\n",
      "No pickup lines for abbie found on Reddit.\n",
      "No pickup lines for abbi found on Reddit.\n",
      "No pickup lines for abbe found on Reddit.\n",
      "No pickup lines for abie found on Reddit.\n",
      "Abby is not a palindrome.\n"
     ]
    },
    {
     "data": {
      "text/plain": [
       "['Hey gabby, you checked your weigh today? cuz you lookin real flabby',\n",
       " 'Hey gabby, did you know your name rhymes with \"if you want to go home I\\'ll drive you hard like a New York Cabby?\"\\n\\n']"
      ]
     },
     "execution_count": 6,
     "metadata": {},
     "output_type": "execute_result"
    }
   ],
   "source": [
    "dictionary = {} #make this global some how\n",
    "no_lines = []\n",
    "need_lines = []\n",
    "bad_lines = {} #{name:[list of bad lines]}\n",
    "\n",
    "def recieving_name_request(name):\n",
    "    \"\"\"Returns list of relevant pickup-lines.\"\"\"\n",
    "    global dictionary\n",
    "    global no_lines\n",
    "    global need_lines\n",
    "    global bad_lines\n",
    "    global gather_all_PU_lines_for_a_name\n",
    "    global add_PUL_to_database\n",
    "    \n",
    "    if name in no_lines:\n",
    "        return 'give general' #change\n",
    "    else:\n",
    "        if name in dictionary:\n",
    "            return dictionary[name].keys()\n",
    "        else:\n",
    "            dictionary[name]={}\n",
    "            names_PUL_from_internet = gather_all_PU_lines_for_a_name(name)\n",
    "            if not names_PUL_from_internet:\n",
    "                no_lines.append(name)\n",
    "                need_lines.append(name)\n",
    "            else:\n",
    "                for PUL in names_PUL_from_internet:\n",
    "                    if name not in bad_lines:\n",
    "                        add_PUL_to_database(name, PUL, dictionary)\n",
    "                    else:\n",
    "                        if PUL in bad_lines[name]:\n",
    "                            names_PUL_from_internet.remove(PUL) #think through\n",
    "                        else:\n",
    "                            add_PUL_to_database(name, PUL, dictionary)\n",
    "                return names_PUL_from_internet\n",
    "            \n",
    "recieving_name_request('abby')"
   ]
  },
  {
   "cell_type": "code",
   "execution_count": null,
   "metadata": {
    "collapsed": true
   },
   "outputs": [],
   "source": []
  },
  {
   "cell_type": "code",
   "execution_count": null,
   "metadata": {
    "collapsed": true
   },
   "outputs": [],
   "source": []
  }
 ],
 "metadata": {
  "kernelspec": {
   "display_name": "Python 3",
   "language": "python",
   "name": "python3"
  },
  "language_info": {
   "codemirror_mode": {
    "name": "ipython",
    "version": 3
   },
   "file_extension": ".py",
   "mimetype": "text/x-python",
   "name": "python",
   "nbconvert_exporter": "python",
   "pygments_lexer": "ipython3",
   "version": "3.6.3"
  }
 },
 "nbformat": 4,
 "nbformat_minor": 2
}
