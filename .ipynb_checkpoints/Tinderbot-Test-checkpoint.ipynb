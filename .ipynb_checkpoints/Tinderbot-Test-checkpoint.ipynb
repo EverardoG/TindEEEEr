{
 "cells": [
  {
   "cell_type": "code",
   "execution_count": null,
   "metadata": {
    "collapsed": true
   },
   "outputs": [],
   "source": [
    "PsuedoCode = \"\"\"\n",
    "\n",
    "    Function that takes name and finds alternative ways to spell the name. #https://api.datamuse.com/words?sl=erika \n",
    "        Find with score of 100\n",
    "https://api.datamuse.com/words?sl=erikahttps://api.datamuse.com/words?sl=erika\n",
    "    DONE: Function that takes name and outputs comments from r/pickuplines that have the name in the title \n",
    "    and the name in the comment in a list. \n",
    "    \n",
    "    DONE: Function that takes a name. Checks if it is a palindrome. If so, it outputs the format:\n",
    "    \"____ - your name is a palindrom, I like it. I'd do you forwards and backwards\".\n",
    "    \n",
    "    Function that takes name. Finds anagram and outputs the format: \"If you add a D to your name,\n",
    "    it's an anagram for the word...\" If no anagram is found it outputs None.\n",
    "        Add V\n",
    "    \n",
    "    OPTIONAL: Function that takes name. Finds anagram and outputs the format:\n",
    "    Did you know your name is an anagram of ______?\n",
    "    \n",
    "    Function that takes name. Database has dictionary of names corresponding to a string value and \n",
    "    list of pickup lines. The string value tells us whether pickuplines have been generated yet. The function \n",
    "    returns the top n pickuplines. \n",
    "    \n",
    "\n",
    "\n",
    "\"\"\""
   ]
  },
  {
   "cell_type": "code",
   "execution_count": 1,
   "metadata": {},
   "outputs": [
    {
     "data": {
      "text/plain": [
       "[]"
      ]
     },
     "execution_count": 1,
     "metadata": {},
     "output_type": "execute_result"
    }
   ],
   "source": [
    "PULines = [\"Hey baby, call me pop rocks...because I'm going to be burstin' in your mouth ;)\",\n",
    "          \"If I had access to the death star... I'd destroy Uranus\",\n",
    "           \"I heard you were looking for a stud? I’ve got the “STD” and all I need is ‘U”\",\n",
    "          \"On a scale of 1-14 you're extremely basic....\"]\n",
    "NameSpecific = ['Is your name Ariel? Cause I think we were mermaid for each other.']\n",
    "Format = [\"If you add a D to your name, it's an anagram for the word verde.So I guess the question is - do you want the D?\",\n",
    "          \"bob - your name is a palindrom, I like it. I'd do you forwards and backwards.\"]\n"
   ]
  },
  {
   "cell_type": "code",
   "execution_count": 4,
   "metadata": {},
   "outputs": [
    {
     "data": {
      "text/plain": [
       "['let’s get together so you can Libbyrate my dick from my pants. \\n\\nactually don’t say that ',\n",
       " \"Libby you get me so flustered I can't even Ad Libby a pick up line. - Or Libby you make me drool and now I need a bibby. \"]"
      ]
     },
     "execution_count": 4,
     "metadata": {},
     "output_type": "execute_result"
    }
   ],
   "source": [
    "import praw #need to pip install praw\n",
    "import requests.auth\n",
    "import string\n",
    "reddit = praw.Reddit(client_id='fAkqHqn2XyBt3g',\n",
    "                     client_secret=\"B1Rv2IY6KfA3PusqSeaFAu8brIw\",\n",
    "                     user_agent='USERAGENT')\n",
    "        \n",
    "def return_reddit_PULine(name):\n",
    "    \"\"\"Function that takes name and outputs comments from r/pickuplines that have the name in the title \n",
    "    and the name in the comment in a list. \"\"\"\n",
    "    pickuplines = []\n",
    "    name = name.lower()\n",
    "    for submission in reddit.subreddit('pickuplines').top(limit=10000):\n",
    "        if name in submission.title.lower():\n",
    "            submission.comments.replace_more(limit=0)\n",
    "            for top_level_comment in submission.comments:\n",
    "                if name.lower() in top_level_comment.body.lower():\n",
    "                    pickuplines.append(top_level_comment.body)\n",
    "    #for submission in reddit.subreddit('pickuplines').hot(limit=5000):\n",
    "     #   if name in submission.title.lower():\n",
    "      #      submission.comments.replace_more(limit=0)\n",
    "       #     for top_level_comment in submission.comments:\n",
    "        #        if name.lower() in top_level_comment.body.lower():\n",
    "         #           pickuplines.append(top_level_comment.body)\n",
    "    for submission in reddit.subreddit('pickuplines').new(limit=5000):\n",
    "        if name in submission.title.lower():\n",
    "            submission.comments.replace_more(limit=0)\n",
    "            for top_level_comment in submission.comments:\n",
    "                if name.lower() in top_level_comment.body.lower():\n",
    "                    pickuplines.append(top_level_comment.body)\n",
    "    if pickuplines:\n",
    "        return pickuplines\n",
    "    else:\n",
    "        print(\"No pickup lines for this name found on Reddit.\")\n",
    "        return None\n",
    "              \n",
    "return_reddit_PULine('libby')"
   ]
  },
  {
   "cell_type": "code",
   "execution_count": 29,
   "metadata": {},
   "outputs": [
    {
     "data": {
      "text/plain": [
       "[\"Bob - your name is a palindrome, I like it. I'd do you forwards and backwards\"]"
      ]
     },
     "execution_count": 29,
     "metadata": {},
     "output_type": "execute_result"
    }
   ],
   "source": [
    "def return_palindrome_PULine(name):\n",
    "    name = name.lower()\n",
    "    i = 0\n",
    "    j = len(name)-1\n",
    "    while i<j:\n",
    "        if name[i] != name[j]:\n",
    "            print(\"This name is not a palindrome.\")\n",
    "            return None\n",
    "        i = i+1\n",
    "        j = j-1\n",
    "    return [name.title() + \" - your name is a palindrome, I like it. I'd do you forwards and backwards\"]\n",
    "\n",
    "return_palindrome_PULine('BOB')"
   ]
  },
  {
   "cell_type": "code",
   "execution_count": 31,
   "metadata": {},
   "outputs": [
    {
     "data": {
      "text/plain": [
       "[\"Ever, if you add a D to your name, it's an anagram for the Spanish word verde. So I guess the question is - do you want the D?\",\n",
       " \"Ever, if you add a D to your name, it's an anagram for the Spanish word verde. So I guess the question is - do you want the D?\"]"
      ]
     },
     "execution_count": 31,
     "metadata": {},
     "output_type": "execute_result"
    }
   ],
   "source": [
    "import enchant #To download, enter 'pip install pyenchant' in terminal window\n",
    "import itertools\n",
    "#print(enchant.list_languages()) #to see the languages available\n",
    "\n",
    "def return_anagram_PULine_D(name):\n",
    "    named = name.lower()+'d'\n",
    "    english_dictionary = enchant.Dict(\"en_US\")\n",
    "    spanish_dictionary = enchant.Dict(\"es_ES\")\n",
    "    \n",
    "    list_of_all_anagrams = [\"\".join(perm) for perm in itertools.permutations(named)]\n",
    "    \n",
    "    list_of_real_anagrams = []\n",
    "    pickuplines = []\n",
    "    \n",
    "    for i in list_of_all_anagrams:\n",
    "        if english_dictionary.check(i):\n",
    "            list_of_real_anagrams.append(i)\n",
    "            \n",
    "    if not list_of_real_anagrams:\n",
    "        for i in list_of_all_anagrams:\n",
    "            if spanish_dictionary.check(i):\n",
    "                list_of_real_anagrams.append(i)\n",
    "        if list_of_real_anagrams:\n",
    "            for i in range(0,len(list_of_real_anagrams)):\n",
    "                try:\n",
    "                    if list_of_real_anagrams[i] == list_of_real_anagrams[i+1]:\n",
    "                        list_of_all_anagrams.pop(i)\n",
    "                except:\n",
    "                    pass\n",
    "            for i in list_of_real_anagrams:\n",
    "                pickuplines.append(name.title() + \", if you add a D to your name, it's an anagram for the Spanish word \"\n",
    "                           + i\n",
    "                           + \". So I guess the question is - do you want the D?\")\n",
    "    else:\n",
    "        for i in range(len(list_of_real_anagrams)):\n",
    "            try:\n",
    "                if list_of_real_anagrams[i] == list_of_real_anagrams[i+1]:\n",
    "                    continue\n",
    "            except:\n",
    "                pass\n",
    "            pickuplines.append(name.title() + \", if you add a D to your name, it's an anagram for the word \"\n",
    "                               + list_of_real_anagrams[i]\n",
    "                               + \". So I guess the question is - do you want the D?\")\n",
    "    return pickuplines \n",
    "\n",
    "return_anagram_PULine_D(\"EVER\")\n",
    "    "
   ]
  },
  {
   "cell_type": "code",
   "execution_count": 29,
   "metadata": {},
   "outputs": [
    {
     "name": "stdout",
     "output_type": "stream",
     "text": [
      "['3-d', '3d', 'aarti', 'abc', 'ability', 'accountancy', 'actuality', 'actuary', 'adamski', 'adversity', 'agonizingly', 'alessandrini', 'alfre', 'allbee', 'almaty', 'amphorae', 'anarchy', 'anthology', 'anthony', 'anti', 'apogee', 'apologetically', 'apology', 'apostrophe', 'applebee', 'appleby', 'arendsee', 'aronie', 'atsushi', 'bankey', 'barclay', 'barkey', 'bartee', 'battersea', 'baytree', 'beastly', 'beazley', 'beebe', 'bhatti', 'bialecki', 'bialecki', 'bigbee', 'binary', 'biochemistry', 'bougie', 'brachii', 'bradlee', 'braintree', 'branitzky', 'brasserie', 'briony', 'britney', 'brony', 'buckbee', 'bugbee', 'bumblebee', 'busbee', 'buskey', 'buzbee', 'bybee', 'calliope', 'calorie', 'carby', 'cardinali', 'carefree', 'carmany', 'carmie', 'carmony', 'casady', 'catchy', 'cctv', 'cerankosky', 'cheramie', 'cherokee', 'chevy', 'chevy', 'cheyney', 'chipotle', 'chudzinski', 'ciborowski', 'ciccarelli', 'ciccone', 'cichocki', 'cichowski', 'ciesielski', 'cieslinski', 'cifelli', 'circumstantially', 'cirelli', 'ciresi', 'cirincione', 'cirrincione', 'cisewski', 'ciszewski', 'cognoscenti', 'cohentannoudji', 'colossally', 'combee', 'company', 'comparability', 'comparably', 'comparably', 'comparatively', 'compassionately', 'compatibility', 'cory', 'crabtree', 'crappie', 'crappy', 'crary', 'culturally', 'cumbee', \"d'alessandrini\", \"d'alessi\", \"d'alessi\", \"d'arcy\", 'dalai', 'davinci', 'denlea', 'denucci', 'depace', 'depaoli', 'dewoody', 'diastole', 'diblasi', 'difiore', 'digiovanni', 'digiti', 'digiuseppe', 'dimare', 'dimasi', 'dimenaci', 'dimiceli', 'dimichele', 'dinapoli', 'dinatale', 'diodati', 'dioguardi', 'dipasquale', 'disanti', 'divorcee', 'djibouti', 'dmz', 'dnc', 'doubletree', 'ducky', 'dunfee', 'dunklee', 'dzikowski', 'electrobiology', 'electronically', 'elegantly', 'elegy', 'elysee', 'elysee', 'enquiry', 'epidemiologically', 'epistemology', 'ezrachi', 'farlee', 'feathery', 'filigree', 'florini', 'forkey', 'friedli', 'furbee', 'gabrielli', 'gabrowny', 'gaccione', 'gacy', 'gadberry', 'galilee', 'gaskey', 'gemini', 'genesee', 'geri', 'giacalone', 'giacobbe', 'giacomelli', 'giacometti', 'giacomini', 'giamatti', 'gianelli', 'gianini', 'giannelli', 'giannetti', 'gianni', 'gianni', 'gianni', 'giannini', 'giannone', 'giannotti', 'gianotti', 'gladje', 'glomski', 'godbee', 'gokey', 'grabski', 'grantree', 'greenlee', 'grindlay', 'hashi', 'hawaii', 'hawkey', 'headlee', 'henslee', 'hibachi', 'higbee', 'homosexuality', 'honeybee', 'humvee', 'hyperbole', 'hypersensitivity', 'hyphae', 'ichi', 'identity', 'idiosyncrasy', 'iguchi', 'igushi', 'imaginatively', 'imondi', 'imondi', 'incrementally', 'indigenously', 'indignantly', 'indignity', 'indirectly', 'indiscriminately', 'indisputably', 'inferiority', 'infertility', 'ingenuity', 'iniki', 'inquiry', 'inquiry', 'instinctively', 'institutionally', 'ip', 'isensee', 'ishibashi', 'ishii', 'itami', 'iwanicki', 'iwanski', 'iwasaki', 'iwinski', 'iwosaki', 'jedi', 'jeremy', 'jihadi', 'joanie', 'jubilee', 'kabuki', 'kazunori', 'kenny', 'kenobi', 'khamenei', 'kibbee', 'komatani', 'kory', 'kosakowski', 'kukje', 'kylie', 'lanktree', 'laryngoscopicaly', 'laryngoscopicaly', 'laryngoscopy', 'lashlee', 'latchkey', 'liberace', 'liberality', 'liberally', 'liberati', 'liberatore', 'liberti', 'liberty', 'library', 'librizzi', 'liby', 'licari', 'licausi', 'licavoli', 'licciardi', 'lipski', 'lonetree', 'lordi', 'lordly', 'lordy', 'ludology', 'maccabee', 'machete', 'machete', 'maggi', 'maggie', 'manatee', 'mankey', 'markey', 'marsee', 'marzilli', 'masaaki', 'masaki', 'masayoshi', 'masayuki', 'mascari', 'masci', 'masciarelli', 'maybee', 'mcafee', 'mcafee', 'mcaffee', 'mccovey', 'mcendree', 'mcintee', 'mckelvy', 'mcnally', 'mcquarrie', 'mcquary', 'meiji', 'menifee', 'menotti', 'mercadante', 'mercifully', 'miccosukee', 'milady', 'minestrone', 'mirti', 'miti', 'miti', 'mixology', 'montmorency', 'morality', 'moseley', 'mountleigh', 'muti', 'mythology', 'nabi', 'nabi', 'nachmany', 'nanotechnology', 'newbie', 'nicoski', 'nikkei', 'nobody', 'nypd', 'occasionally', 'oglesbee', 'ogletree', 'origami', 'orlandi', 'orloski', 'oversee', 'ozzie', 'ozzy', 'palmertree', 'panini', 'pankey', 'paparazzi', 'paperazzi', 'parkey', 'parlee', 'paty', 'paucity', 'pauli', 'paulie', 'peachtree', 'peaslee', 'pee-wee', 'peewee', 'permanently', 'pettry', 'petty', 'phenomenology', 'phonology', 'picheny', 'pingitore', 'plumlee', 'pointedly', 'polygamy', 'pony', 'possibility', 'precis', 'predominantly', 'predominately', 'proactively', 'probability', 'probably', 'probationary', 'proctoscopy', 'pulaski', 'pulcini', 'punxsutawney', 'purportedly', 'radioactivity', 'radioactivity', 'rawski', 'razaleigh', 'reality', 'realty', 'rhinoplasty', 'rhinoplasty', 'ricky', 'rigsbee', 'roblee', 'rodkey', 'rooftree', 'roundtree', 'rowntree', 'sakowski', 'salinity', 'scibelli', 'self-sufficiency', 'selfie', 'semele', 'sensuality', 'seti', 'severini', 'shitty', 'skonieczny', 'skorupski', 'skowronski', 'skulduggery', 'slutty', 'smutty', 'snotty', 'solesbee', 'soli', 'somebody', 'soni', 'sonji', 'soshi', 'sosinski', 'sosnowski', 'sotheby', 'sotti', 'soucie', 'soupy', 'sovyetsky', 'spanky', 'spaziani', 'speak-easy', 'speedy', 'spirituality', 'spiritually', 'staggeringly', 'standlee', 'stanislawski', 'staniszewski', 'starkey', 'starry', 'startlingly', 'stastny', 'staszewski', 'stereotypically', 'stochastically', 'stodolsky', 'stogie', 'stolarski', 'stupidity', 'stupidly', 'stupski', 'sunday', 'suny', 'supinski', 'supplee', 'supplementary', 'syncope', 'taketomi', 'takeuchi', 'taki', 'tanski', 'tassinari', 'tassone', 'tatsukichi', 'tatty', 'taulbee', 'terrasi', 'theatricality', 'theatrically', 'thermae', 'thirty', 'tibi', 'timpani', 'tinkey', 'tomography', 'tonsillectomy', 'torie', 'triviality', 'trotsky', 'turnkey', 'tuskegee', 'tuskegee', 'twenty-three', 'twinkly', 'valente', 'valenti', 'valiente', 'vanderzee', 'vietti', 'viglione', 'vigliotti', 'vranitzky', 'wandersee', 'wannabe', 'wannabee', 'wassily', 'weatherbee', 'weathersbee', 'wedowee', 'weighty', 'wetherbee', 'whedbee', 'whedbee', 'whipkey', 'whipkey', 'whitey', 'whitey', 'wiatrowski', 'wifi', 'wiki', 'wilensky', 'winfree', 'winski', 'woitschatzke', 'woodlee', 'yavlinski', 'yavlinsky', 'zambelli', 'zewe', 'zhirinovsky', 'zouabri', 'zuni', 'zurowski']\n",
      "hefty\n"
     ]
    },
    {
     "data": {
      "text/plain": [
       "[4, 4]"
      ]
     },
     "execution_count": 29,
     "metadata": {},
     "output_type": "execute_result"
    }
   ],
   "source": [
    "import pronouncing #pip install pronouncing (it's a simple interface for the CMU Pronouncing Dictionary)\n",
    "import pyphen\n",
    "dic = pyphen.Pyphen(lang='en')\n",
    "print(pronouncing.rhymes(\"libby\"))\n",
    "\n",
    "print(dic.inserted('hefty'))\n",
    "\n",
    "import curses \n",
    "from curses.ascii import isdigit \n",
    "import nltk\n",
    "from nltk.corpus import cmudict \n",
    "d = cmudict.dict() \n",
    "def nsyl(word): \n",
    "    return [len(list(y for y in x if isdigit(y[-1]))) for x in d[word.lower()]] \n",
    "nsyl('arithmetic')"
   ]
  },
  {
   "cell_type": "code",
   "execution_count": 3,
   "metadata": {},
   "outputs": [
    {
     "data": {
      "text/plain": [
       "[]"
      ]
     },
     "execution_count": 3,
     "metadata": {},
     "output_type": "execute_result"
    }
   ],
   "source": [
    "from bs4 import BeautifulSoup\n",
    "import requests\n",
    "import re\n",
    "\n",
    "def analyze_page(url):\n",
    "    # Gets html from url and filters out the tags so that you have just the text, which it runs sentiment analysis on.\n",
    "    html = BeautifulSoup(requests.get(url).text, 'lxml')\n",
    "    pickuplines = []\n",
    "    s = ''\n",
    "    for p in html.find_all('p'):\n",
    "        s = re.sub(r'<.+?>','', str(p))\n",
    "        sp = s.split('\\n')\n",
    "        pickuplines.append(sp)\n",
    "    return pickuplines[:-2]\n",
    "\n",
    "analyze_page('http://pickup-lines.net/')"
   ]
  },
  {
   "cell_type": "code",
   "execution_count": null,
   "metadata": {
    "collapsed": true
   },
   "outputs": [],
   "source": []
  }
 ],
 "metadata": {
  "kernelspec": {
   "display_name": "Python 3",
   "language": "python",
   "name": "python3"
  },
  "language_info": {
   "codemirror_mode": {
    "name": "ipython",
    "version": 3
   },
   "file_extension": ".py",
   "mimetype": "text/x-python",
   "name": "python",
   "nbconvert_exporter": "python",
   "pygments_lexer": "ipython3",
   "version": "3.6.3"
  }
 },
 "nbformat": 4,
 "nbformat_minor": 2
}
