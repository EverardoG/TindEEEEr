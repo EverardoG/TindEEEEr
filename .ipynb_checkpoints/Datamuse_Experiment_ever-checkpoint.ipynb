{
 "cells": [
  {
   "cell_type": "code",
   "execution_count": 5,
   "metadata": {},
   "outputs": [
    {
     "name": "stdout",
     "output_type": "stream",
     "text": [
      "['fowl', 'chick', 'birdwatch', 'shuttlecock', 'doll', 'hiss', 'shuttle', 'hoot', 'raspberry', 'wench', 'boo', 'snort', 'skirt', 'birdie', 'dame', 'razzing', 'bronx cheer', 'owl', 'raptor', 'squirrel', 'falcon', 'avian', 'waterfowl', 'hummingbird', 'sparrow', 'pigeon', 'seabird', 'shorebird', 'rooster', 'turkey', 'animal', 'nesting', 'duck', 'species', 'waterbirds', 'nest', 'eagle', 'parakeet', 'reptiles', 'chipmunk', 'avifauna', 'cuckoo', 'chicken', 'nightingale', 'pet', 'hawk', 'poultry', 'thrush', 'winged', 'fishes', 'ostrich', 'breeding', 'dove', 'harlequin', 'influenza', 'drumstick', 'prey', 'feather', 'flu', 'helicopter', 'virus', 'flying', 'helo', 'air', 'outbreak', 'chopper', 'nana', 'ornis', 'aves', 'lark', 'gentleman', 'girl', 'lonely', 'byrd', 'stuffer', 'guy', 'finger', 'ave', 'virginia', 'coco', 'loot', 'daw', 'girlfriend', 'hail', 'jeannette', 'champion', 'h5n1', 'ibrd', 'volatile', 'bird', 'iba', 'flycatcher', 'monotypic', 'migratory', 'warbler', 'woodpecker', 'subtropical', 'reptile', 'sanctuary', 'flu', 'endemic', 'plumage', 'beak', 'mammal', 'nesting', 'prey', 'feathers', 'birds', 'moist', 'bolivia', 'breeding', 'nests', 'montane', 'watching', 'pigeon', 'ecuador', 'lowland', 'owl', 'breeds', 'nest', 'habitat', 'paradise', 'species', 'subspecies', 'cage', 'colombia', 'endangered', 'cameroon', 'peru', 'ducks', 'angola', 'eggs', 'flies', 'papua', 'tropical', 'forests', 'observatory', 'venezuela', 'wildlife', 'genus', 'duck', 'extinct', 'migration', 'specimens', 'mammals', 'insects', 'tail', 'feeding', 'conservation', 'woodland', 'eagle', 'guinea', 'pairs', 'congo', 'egg', 'natural', 'indonesia', 'wings', 'refuge', 'hunting', 'supports', 'brazil', 'panama', 'family', 'legs', 'grey', 'eagles', 'argentina', 'fly', 'found', 'threatened', 'bird', 'fowl', 'chick', 'birdwatch', 'shuttlecock', 'doll', 'hiss', 'shuttle', 'hoot', 'raspberry', 'wench', 'boo', 'snort', 'skirt', 'birdie', 'dame', 'razzing', 'bronx cheer', 'owl', 'raptor', 'squirrel', 'falcon', 'avian', 'waterfowl', 'hummingbird', 'sparrow', 'pigeon', 'seabird', 'shorebird', 'rooster', 'turkey', 'animal', 'nesting', 'duck', 'species', 'waterbirds', 'nest', 'eagle', 'parakeet', 'reptiles', 'chipmunk', 'avifauna', 'cuckoo', 'chicken', 'nightingale', 'pet', 'hawk', 'poultry', 'thrush', 'winged', 'fishes', 'ostrich', 'breeding', 'dove', 'harlequin', 'influenza', 'drumstick', 'prey', 'feather', 'flu', 'helicopter', 'virus', 'flying', 'helo', 'air', 'outbreak', 'chopper', 'nana', 'ornis', 'aves', 'lark', 'gentleman', 'girl', 'lonely', 'byrd', 'stuffer', 'guy', 'finger', 'ave', 'virginia', 'coco', 'loot', 'daw', 'girlfriend', 'hail', 'jeannette', 'champion', 'h5n1', 'ibrd', 'volatile', 'turkey vulture', 'snowy owl', 'honey buzzard', 'trumpeter swan', 'birdlet', 'robin', 'hairbird', 'bald eagle', 'pelican', 'mallard', 'heron', 'bird', 'bird', 'bird', 'bill', 'wing', 'feather', 'fowl', 'plume', 'oyster', 'pinion', 'beak', 'nib', 'pennon', 'thigh', 'neb', 'plumage', 'syrinx', 'drumstick', 'giblets', 'giblet', 'furcula', 'wishbone', 'uropygium', 'air sac', 'preen gland', 'dark meat', 'uropygial gland', 'second joint', 'wishing bone', 'bird', 'fowl', 'skirt', 'boo', 'doll', 'hoot', 'shuttle', 'dame', 'snort', 'wench', 'hiss', 'chick', 'raspberry', 'birdie', 'shuttlecock', 'razzing', 'birdwatch', 'bronx cheer', 'bird', 'byrd', 'burd', 'bird', 'hen', 'parrot', 'raptor', 'poultry', 'passerine', 'ratite', 'trogon', 'carinate', 'archaeopteryx', 'flightless bird', 'wildfowl', 'bird of prey', 'flying bird', 'carinate bird', 'aquatic bird', 'bird of passage', 'ratite bird', 'dickybird', 'dickeybird', 'gallinaceous bird', 'archaeornis', 'sinornis', 'archeopteryx', 'protoavis', 'night bird', 'ibero-mesornis', 'archaeopteryx lithographica', 'raptorial bird', 'passeriform bird', 'apodiform bird', 'coraciiform bird', 'piciform bird', 'caprimulgiform bird', 'cuculiform bird', 'nonpasserine bird', 'gallinaceon', 'bird']\n"
     ]
    }
   ],
   "source": [
    "from datamuse import datamuse\n",
    "import itertools\n",
    "\n",
    "def get_list(dictionary,word):\n",
    "    rel_words = []\n",
    "    for d in dictionary:\n",
    "        w = d['word']\n",
    "        rel_words.append(w)\n",
    "    rel_words.append(word)\n",
    "    return rel_words\n",
    "\n",
    "word = \"bird\"\n",
    "api = datamuse.Datamuse()\n",
    "\n",
    "related_words = []\n",
    "related_words.append(word)\n",
    "dict1 = api.words(ml = word, max = 100)\n",
    "dict2 = api.words(rel_trg = word, max = 100)\n",
    "dict3 = api.words(topics = word, max = 100)\n",
    "dict4 = api.words(sp = word, max = 100)\n",
    "dict5 = api.words(rel_com = word, max = 100)\n",
    "dict6 = api.words(rel_syn = word, max = 100)\n",
    "dict7 = api.words(rel_hom = word, max = 100)\n",
    "dict8 = api.words(rel_gen = word, max = 100)\n",
    "\n",
    "related_words = get_list(dict1,word) + get_list(dict2,word) + get_list(dict3,word) + get_list(dict4,word) + get_list(dict5,word) + get_list(dict6,word) + get_list(dict7,word) + get_list(dict8,word)\n",
    "\n",
    "print(related_words)"
   ]
  },
  {
   "cell_type": "code",
   "execution_count": null,
   "metadata": {
    "collapsed": true
   },
   "outputs": [],
   "source": []
  },
  {
   "cell_type": "code",
   "execution_count": null,
   "metadata": {
    "collapsed": true
   },
   "outputs": [],
   "source": []
  },
  {
   "cell_type": "code",
   "execution_count": 6,
   "metadata": {
    "collapsed": true
   },
   "outputs": [],
   "source": [
    "import string\n",
    "\n",
    "def get_word_list(file_name):\n",
    "    text = open(file_name,'r')\n",
    "    lines = list(text)\n",
    "    lines1 = []\n",
    "    for line in lines:\n",
    "        line = line.strip(string.whitespace)\n",
    "        for i in range(32):\n",
    "            line = line.replace(string.punctuation[i],'')\n",
    "        line = line.replace('','')\n",
    "        line = line.lower()\n",
    "        lines1.append(line)\n",
    "    stringlines = ' '.join(lines1)\n",
    "    return lines1\n",
    "\n",
    "list1 = get_word_list('InClassSurveyPickuplines.txt')\n",
    "list2 = get_word_list('CarpeSurveyPickuplines.txt')\n",
    "list3 = get_word_list('Disney.txt')\n",
    "list4 = get_word_list('emma_lines.txt')\n",
    "list5 = get_word_list('more.txt')\n",
    "list6 = get_word_list('Music.txt')\n",
    "list7 = get_word_list('random.txt')\n",
    "\n",
    "main_list = list1+list2+list3+list4+list5+list6+list7"
   ]
  },
  {
   "cell_type": "code",
   "execution_count": 7,
   "metadata": {
    "scrolled": false
   },
   "outputs": [
    {
     "name": "stdout",
     "output_type": "stream",
     "text": [
      "['are you an egg because id like to crack you up with my eggcelent humor', 'i couldnt help but notice that you look a lot like my next girlfriend', 'if you were a chicken youd be impeccable', 'i’ll bippity bop you girl', 'your family tree must be a cactus because everybody on it is a prick', 'id slap you but that would be animal abuse', 'so a thought crossed your mind must have been a long and lonely journey', 'how did you get here did someone leave your cage open', 'excuse me is your name earl grey because you look like a hottea', 'do i know you cause you look exactly like my next girlfriend', 'if you were a tropical fruit youd be a fineapple', 'did you read dr seuss as a kid because green eggs and damn', 'do you have a twin sister then you must be the most beautiful girl in the world', 'you know id like to invite you over but im afraid youre so hot that youll skyrocket my airconditioning bill', 'your lips look so lonely would they like to meet mine', 'your legs must be tired because youve been running through my mind all night', 'no wonder the sky is grey today all the blue is in your eyes', 'can i borrow your cell phone i need to call animal control because i just saw a fox', 'i didnt know that angels could fly so low', 'did you die recently cause girl you look like an angel to me', 'is your dad a preacher cause girl youre a blessing', 'is there a rainbow today because i just found the treasure ive been searching for', 'if you were a chicken youd be impeccable', 'hey dont i know you yeah youre the girl with the beautiful smile', 'i have had a really bad day and it always makes me feel better to see a pretty girl smile so would you smile for mei hope you know cpr because you take my breath awayi just had to come talk with you sweetness is my weaknessi think i can die happy now cause ive just seen a piece of heavenapart from being sexy what do you do for a livingi sneezed because god blessed me with youis it hot in here or is it just younice to meet you im your name and you aregorgeousi may not be a genie but i can make all your wishes come true', 'what does it feel like to be the most beautiful girl in this room', 'girl if i were a fly id be all over you because youre the shit', 'girl if i were a fly id be all over you because youre the shit', 'damn girl you have more curves than a race track', 'you are so beautiful that i would marry your brother just to get into your family', 'tonight this han doesnt want to fly solo', 'can you pull this heartshaped arrow out of my butt a damn little kid with wings shot me', 'are you a girl scout cause you tie my heart in knots', 'where do you hide your wings', 'girl youre like mastercard  absolutely priceless', 'youre the only girl i love now but in ten years ill love another girl shell call you mommy', 'youre the only girl i love now but in ten years ill love another girl shell call you mommy', 'my buddies bet me that i wouldnt be able to start a conversation with the most beautiful girl in the bar wanna buy some drinks with their money', 'i need a little help with my calculus can you integrate my natural log', 'i dont like my current girlfriend mind if i do a yousubstitution', 'im not being obtuse but youre acute girl', 'im good at math lets add a bed subtract our clothes divide your legs and multiply', 'i know milk does a body good but damn girl how much have you been drinking', 'how about i dip my wild wings in your buffalo sauce', 'you must be peanut butter because youre making my legs feel like jelly', 'did you just come from kfc cause your thighs and breasts just gave me a drumstick', 'let me be a chicken nugget and take a dip in your sauce', 'do you like hot dogs girl cause id like to put my weiner between those buns', 'whats a nice girl like you doing in a chatroom like this', 'girl you are hotter than the bottom of my laptop', 'hey girl can you sit on my laptop', 'do your legs hurt from running through my dreams all night', 'if you were a chicken youd be impeccable', 'what does it feel like to be the most beautiful girl in the room', 'whats a girl like you doing in a place like this when theres a farscape marathon on right now on the sci fi channel', 'tonight this han doesn’t want to fly solo', 'girl youre like a balrog  smokin hot', 'are you a tardis cause when i look into your eyes i feel like im flying around the universe', 'are hodors legs tired because hes been carrying you through my mind all day', 'are you a warg because i bet youre an animal in the sheets', 'id climb the entire wall just to get your digits girl', 'did you just come from kfc cause your thighs and breasts just gave me a drumstick', 'how about i dip my wild wings in your buffalo sauce', 'girl are you my new iphone cause i cant stop staring at you in public', 'girl im an american express lover  you shouldnt go home without me', 'baby you got more legs than a bucket of kfc', 'girl you’re like mastercard  seeing you is priceless', 'lets talk turkey when i look at you my thoughts are all xxx', 'ever kiss a guy with no teeth', 'girl are you a lob cause im going to smash you', 'girl get rid of those dunlop balls you deserve better', 'that was a pretty deep shot girl but i’ll be even deeper inside', 'i know the air is pretty thin up there why dont you lay in my bed and catch your breath', 'girl youre so fine you could make an impression on monet', 'hey girl dont be the stranger', 'my heart was a lonely hunter til i met you girl', 'my heart was a lonely hunter til i met you girl', 'are you google because ive just found what ive been searching for', 'a boy gives a girl 12 roses 11 real 1 fake and he says to her  i will stop loving you when all the roses die', 'no wonder the sky is grey today all the blue is in your eyes', 'do i know you cause you look a lot like my next girlfriend', 'whats a nice girl like you doing in a dirty mind like mine', 'do your legs hurt from running through my dreams all night', 'you know beautiful is my favorite color girl thats not a colorboy its the color of your eyes', 'damn girl if you were a fruit youd be a fineapple', 'damn girl i thought diamonds were pretty until i laid my eyes on you', 'how does it feel to be the most beautiful girl in this place', 'ive had a really bad day but it always makes me feel better when i see a pretty girl smile would smile for me and make my day', 'i have a boyfriend guy i have a pet goldfish girl what guy i thought we were talking about things that didnt matter', 'i have a boyfriend guy i have a pet goldfish girl what guy i thought we were talking about things that didnt matter', 'i have a boyfriend guy i have a pet goldfish girl what guy i thought we were talking about things that didnt matter', 'i have a boyfriend guy i have a pet goldfish girl what guy i thought we were talking about things that didnt matter', 'can you pull this heartshaped arrow out of my butt some little kid with wings shot me', 'what has four legs and doesn’t have the most beautiful girl on it my bed want to fix that', 'what has four legs and doesn’t have the most beautiful girl on it my bed want to fix that', 'you want to come over for thanksgiving because i’m gonna stuff your turkey', 'if you were a squirrel would you help me bust a nut', 'girl do you have a shovel in that back pocket cause i’m digging that ass', 'are you flappy bird cause i could tap you all night', 'i hope you got a pet insurance cause tonight i’m gonna destroy that pussy', 'i must be hunting treasure because i’m digging your chest', 'you know why i am like a squirrel cause i want to bury my nuts in you', 'i want you to be the girl who takes my virginity', 'you know what i like in a girl what my dick', 'finally i found a girl like you', 'finally i found a girl like you', 'would you rather fight one horse sized duck or 100 duck sized horses', 'would you rather fight one horse sized duck or 100 duck sized horses', '“i have a boyfriend” – well you look like the kind of girl who could use two', 'take a photo of her i want to show my mom what my next girlfriend looks like', 'i have to show you the prettiest girl i’ve ever seen show phone with frontcam', 'my buddies bet me that i wouldn’t be able to start a conversation with the most beautiful girl in the bar wanna buy some drinks with their money', 'your legs must be tired because you’ve been running through my mind all night', 'can i borrow your cell phone i need to call animal control because i just saw a fox', 'damn girl you have more curves than a race track', 'no wonder the sky is grey today all the blue is in your eyes', 'you know i’d like to invite you over but i’m afraid you’re so hot that you’ll skyrocket my airconditioning bill', 'do i know you cause you look just like my next girlfriend', 'this cello isnt the only big wood between my legs', 'id like to finger your fret board', 'girl you give me a tromboner', 'damn girl youre lookin sharp', 'slow down girl youre giving me a woodwind', 'you must be a c major scale all natural', 'you look sharp lets go back to my flat and get natural']\n"
     ]
    }
   ],
   "source": [
    "#given list of words\n",
    "#given list of pickup lines where each element is a string\n",
    "good = []\n",
    "for line in main_list:\n",
    "    split_list = line.split()\n",
    "    for word in split_list:\n",
    "        if word in related_words:\n",
    "            good.append(line)\n",
    "print(good)"
   ]
  },
  {
   "cell_type": "code",
   "execution_count": 65,
   "metadata": {},
   "outputs": [
    {
     "ename": "NameError",
     "evalue": "name 'djk' is not defined",
     "output_type": "error",
     "traceback": [
      "\u001b[0;31m---------------------------------------------------------------------------\u001b[0m",
      "\u001b[0;31mNameError\u001b[0m                                 Traceback (most recent call last)",
      "\u001b[0;32m<ipython-input-65-53cbbdbb7d0d>\u001b[0m in \u001b[0;36m<module>\u001b[0;34m()\u001b[0m\n\u001b[0;32m----> 1\u001b[0;31m \u001b[0mtest\u001b[0m \u001b[0;34m=\u001b[0m \u001b[0mdjk\u001b[0m\u001b[0;34m,\u001b[0m\u001b[0mdk\u001b[0m\u001b[0;34m,\u001b[0m\u001b[0md\u001b[0m\u001b[0;34m\u001b[0m\u001b[0m\n\u001b[0m",
      "\u001b[0;31mNameError\u001b[0m: name 'djk' is not defined"
     ]
    }
   ],
   "source": []
  }
 ],
 "metadata": {
  "kernelspec": {
   "display_name": "Python 3",
   "language": "python",
   "name": "python3"
  },
  "language_info": {
   "codemirror_mode": {
    "name": "ipython",
    "version": 3
   },
   "file_extension": ".py",
   "mimetype": "text/x-python",
   "name": "python",
   "nbconvert_exporter": "python",
   "pygments_lexer": "ipython3",
   "version": "3.6.3"
  }
 },
 "nbformat": 4,
 "nbformat_minor": 2
}
