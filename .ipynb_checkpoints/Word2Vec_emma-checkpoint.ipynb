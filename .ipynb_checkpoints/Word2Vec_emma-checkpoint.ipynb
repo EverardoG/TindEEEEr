{
 "cells": [
  {
   "cell_type": "code",
   "execution_count": 11,
   "metadata": {},
   "outputs": [],
   "source": [
    "import gensim\n",
    "\n",
    "model = gensim.models.KeyedVectors.load_word2vec_format('/home/emma/Desktop/GoogleNews-vectors-negative300.bin', binary=True)"
   ]
  },
  {
   "cell_type": "code",
   "execution_count": 15,
   "metadata": {},
   "outputs": [
    {
     "name": "stdout",
     "output_type": "stream",
     "text": [
      "[('classical_music', 0.7197793126106262),\n",
      " ('jazz', 0.6834639310836792),\n",
      " ('Music', 0.6595723628997803),\n",
      " ('Without_Donny_Kirshner', 0.6416220664978027),\n",
      " ('songs', 0.6396344900131226),\n",
      " ('musicians', 0.6336299777030945),\n",
      " ('tunes', 0.633011519908905),\n",
      " ('musical', 0.618602991104126),\n",
      " ('Logue_typed', 0.6150087714195251),\n",
      " ('musics', 0.6148058772087097)]\n"
     ]
    }
   ],
   "source": [
    "import logging\n",
    "import pprint\n",
    "\n",
    "# for logging\n",
    "logging.basicConfig(format='%(asctime)s : %(levelname)s : %(message)s', level=logging.INFO)\n",
    "# Load evaluation dataset of analogy task \n",
    "#model.accuracy('questions-words.txt')\n",
    "# execute analogy task like king - man + woman = queen\n",
    "pprint.pprint(model.most_similar(positive=['music']))"
   ]
  },
  {
   "cell_type": "code",
   "execution_count": null,
   "metadata": {
    "collapsed": true
   },
   "outputs": [],
   "source": []
  }
 ],
 "metadata": {
  "kernelspec": {
   "display_name": "Python 3",
   "language": "python",
   "name": "python3"
  },
  "language_info": {
   "codemirror_mode": {
    "name": "ipython",
    "version": 3
   },
   "file_extension": ".py",
   "mimetype": "text/x-python",
   "name": "python",
   "nbconvert_exporter": "python",
   "pygments_lexer": "ipython3",
   "version": "3.6.3"
  }
 },
 "nbformat": 4,
 "nbformat_minor": 2
}
