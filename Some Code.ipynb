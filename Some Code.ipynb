{
 "cells": [
  {
   "cell_type": "code",
   "execution_count": 110,
   "metadata": {},
   "outputs": [],
   "source": [
    "from bs4 import BeautifulSoup\n",
    "import requests\n",
    "import re\n",
    "\n",
    "def analyze_page(url):\n",
    "    # Gets html from url and filters out the tags so that you have just the text, which it runs sentiment analysis on.\n",
    "    html = BeautifulSoup(requests.get(url).text, 'lxml')\n",
    "    pickuplines = []\n",
    "    s = ''\n",
    "    for p in html.find_all('p'):\n",
    "        s = re.sub(r'<.+?>',\"\", str(p).lstrip())\n",
    "        sp = s.split(\"\\n\")\n",
    "        pickuplines.append(sp)\n",
    "    return pickuplines\n",
    "\n",
    "h = analyze_page('http://www.pickuplinesgalore.com/tinder.html')"
   ]
  },
  {
   "cell_type": "code",
   "execution_count": 112,
   "metadata": {
    "scrolled": true
   },
   "outputs": [
    {
     "data": {
      "text/plain": [
       "['When it comes to Tinder, swiping right and getting a match isnâ\\x80\\x99t enough! Youâ\\x80\\x99ve gotta create a connection with your match by breaking the ice and having an interesting conversation. The quickest way to do this is to use a funny opening line. Weâ\\x80\\x99ve compiled some of the best tinder lines youâ\\x80\\x99ll find on the internet - give them a shot and you may just get lucky!',\n",
       " '&lt;&lt; We have over 150 Categories of Pick Up Lines on our Main Page!',\n",
       " '65 TINDER LINES:',\n",
       " '\"You don\\'t know how many times I had to swipe left to find you!\"',\n",
       " '\"Hey, we\\'re a match! Does this mean we\\'re dating now? Give me a second, I need to change my Facebook relationship status.\"',\n",
       " '\"Hey gorgeous, will you be my Tinderella?\"',\n",
       " '\"I\\'ve had a crush on you for 2 hours.\"',\n",
       " '\"Roses are Red, Violets are Blue, We\\'re a match on Tinder, So I think we should screw.\"',\n",
       " '\"Do you believe in love at first swipe?\"',\n",
       " '\"How many times have you pictured me naked since we matched?\"',\n",
       " '\"69 miles away, huh? Well that\\'s ironic...\"',\n",
       " '\"You must be a small amount of red phosphorus and I must be a tiny wooden stickâ\\x80¦ Because we\\'re a match.\"',\n",
       " '\"My parents are so excited, they can\\'t wait to meet you!\"',\n",
       " '\"Going to Whole Foods, want me to pick you up anything?\"',\n",
       " '\"They say Tinder is a numbers game... so can I get your number?\"',\n",
       " '\"Are you my appendix? Because this feeling in my stomach makes me want to take you out.\"',\n",
       " '\"Do you have a job? I need a woman who can support me while I play video games all day.\"',\n",
       " '\"Did you know you\\'re the hottest (insert generic name here- Jessica, Stacy, Mike, etc) on Tinder?\"',\n",
       " '\"We\\'re a match! The next step is to pick a wedding date, right?\"',\n",
       " '\"Is your personality as angelic as your hair?\"',\n",
       " '',\n",
       " '\"I usually go for 8\\'s but I guess I\\'ll settle for a 10.\"',\n",
       " '\"Does this mean I won\\'t be a virgin by the end of the week?\"',\n",
       " '\"I hope you know that I am 100% committed to this tinder relationship\"',\n",
       " '\"You\\'ve got the best smile on tinder. I bet you use Crest.\"',\n",
       " '\"I never saw you coming and I\\'ll never be the same.\"',\n",
       " '\"Do you ever just lie down at night, look up at the stars and think about all the messed up things in the world? Like why is there a \\'D\\' in \\'fridge\\' but no \\'D\\' in \\'refrigerator\\'?\"',\n",
       " '\"Sorry, the position for Spanish teacher has been filled. What I\\'m looking for at the moment is a bedroom acrobatic teacher.\"',\n",
       " '',\n",
       " '\"Maybe you can help me. I forgot the password to my account, and when I hit \\'password hint,\\' it keeps telling me \\'Jessicaâ\\x80\\x99s phone number.\\'\"',\n",
       " '\"Do you have a personality as attractive as your eyes?\"',\n",
       " '\"I seem to have lost my phone number. Can I have yours?\"',\n",
       " '\"If I were an NES cartridge would you blow me?\"',\n",
       " '\"Are you a middle eastern dictator? Because youâ\\x80\\x99re causing a political uprising in my pants\"',\n",
       " '\"Do you work at build-a-bear? Because Iâ\\x80\\x99d stuff you.\"',\n",
       " '\"If you were a vegetable you\\'d be a cute-cumber.\"',\n",
       " '\"You\\'re so gorgeous that you made me forget my good pickup line.\"',\n",
       " '',\n",
       " '\"Are you the SAT? Cause Iâ\\x80\\x99d do you for 3 hours and 45 minutes, with a ten minute break in the middle for snacks.\"',\n",
       " '\"Whatâ\\x80\\x99s a smart, attractive, young man like myself doing without your number?\"',\n",
       " '\"Want to come over to my place and watch porn on my flat screen mirror?\"',\n",
       " '\"Do you mix concrete for a living? Because you\\'re making me hard.\"',\n",
       " '\"Judging by your hair, you seem like a girl who likes to do anal.\"',\n",
       " '\"Do you like Nintendo? Cause Wii would look good together.\"',\n",
       " '\"Sit on my face and Iâ\\x80\\x99ll eat my way to your heart.\"',\n",
       " '',\n",
       " '\"Youâ\\x80\\x99re the type of girl Iâ\\x80\\x99d let sit on my face for a long period of time.\"',\n",
       " '\"What are the chances I see you naked tonight?\"',\n",
       " '\"If I were a watermelon, would you spit or swallow my seeds?\"',\n",
       " '\"On a scale of 1 to America, how free are you tonight?\"',\n",
       " '\"Youâ\\x80\\x99re coming over tonight to watch Game of Thrones and make out.\"',\n",
       " '\"YOU. NUMBER. NOW.\"',\n",
       " '\"Before I hit on you, do you have a problem with large genitalia?\"',\n",
       " '\"Did you grow up on a chicken farm? \\'Cause you sure know how to raise a cock. \"',\n",
       " '\"I couldâ\\x80\\x99ve called heaven and asked for an angel, but I was hoping youâ\\x80\\x99re a slut instead.\"',\n",
       " '\"You wanna know what\\'s beautiful? Read the first word again.\"',\n",
       " '\"Be unique and different, say yes.\"',\n",
       " '\"I\\'m no Fred Flintstone, but I can make your Bedrock!\"',\n",
       " '\"Youâ\\x80\\x99re not a vegan, are you? Because Iâ\\x80\\x99d love to meat you.\"',\n",
       " '\"No wonder the sky is grey today, all the blue is in your eyes.\"',\n",
       " '\"Did you have lucky charms for breakfast? Because you look magically delicious!\"',\n",
       " '\"If a thousand painters worked for a thousand years, they could not create a work of art as beautiful as you.\"',\n",
       " '\"Are you African? Because you\\'re a frican babe.\"',\n",
       " '\"Did you sit in a pile of sugar? Cause you have a pretty sweet ass.\"',\n",
       " '\"Do you like Pizza Hut? Cause I\\'ll stuff your crust.\"',\n",
       " '\"Are you from China? Cause I\\'m China get in your pants.\"',\n",
       " '\"Are you Jewish? Cause the way you\\'re looking at me, I\\'m beginning to think Jewish this dick was in your mouth.\"',\n",
       " '\"Thatâ\\x80\\x99s a nice shirt. Can I try it on after we have sex?\"',\n",
       " '\"I would absolutely love to swap bodily fluids with you.\"',\n",
       " '\"Is your name Daisy? Because I have a sudden urge to plant you right here!\"',\n",
       " '\"Is your name Earl Grey? Because you look like a hot-tea!\"',\n",
       " '\"Since distance equals velocity times time, let\\'s let velocity and time approach infinity, because I want to go all the way with you.\"',\n",
       " '&lt;&lt; See All of Our Pick Up Line Categories Here!',\n",
       " 'If you enjoyed this page, you may also like:',\n",
       " 'Clean Pick Up Lines',\n",
       " 'Very Dirty Pick Up Lines',\n",
       " 'Nerdy Pick Up Lines',\n",
       " 'Harry Potter Pick Up Lines',\n",
       " 'Clean Jokes for Kids',\n",
       " 'Jokes About Vegans',\n",
       " 'Jokes About Physics',\n",
       " 'Yo Mama Fat Jokes',\n",
       " 'For dating advice and tips, check out these online guides:',\n",
       " 'Free Guide to Online Dating',\n",
       " 'Online Dating Pick Up Artist Guide',\n",
       " 'Speed Dating Tips',\n",
       " 'Best Tinder Date Ideas']"
      ]
     },
     "execution_count": 112,
     "metadata": {},
     "output_type": "execute_result"
    }
   ],
   "source": [
    "f = []\n",
    "for i in h:\n",
    "    for x in i:\n",
    "        if x == '':\n",
    "            i.remove(x)\n",
    "        f.append(\" \".join(x.split()))\n",
    "        \n",
    "\n",
    "f\n"
   ]
  },
  {
   "cell_type": "markdown",
   "metadata": {},
   "source": [
    "#### "
   ]
  },
  {
   "cell_type": "code",
   "execution_count": null,
   "metadata": {
    "collapsed": true
   },
   "outputs": [],
   "source": []
  },
  {
   "cell_type": "code",
   "execution_count": null,
   "metadata": {
    "collapsed": true
   },
   "outputs": [],
   "source": []
  }
 ],
 "metadata": {
  "kernelspec": {
   "display_name": "Python 3",
   "language": "python",
   "name": "python3"
  },
  "language_info": {
   "codemirror_mode": {
    "name": "ipython",
    "version": 3
   },
   "file_extension": ".py",
   "mimetype": "text/x-python",
   "name": "python",
   "nbconvert_exporter": "python",
   "pygments_lexer": "ipython3",
   "version": "3.6.3"
  }
 },
 "nbformat": 4,
 "nbformat_minor": 2
}
