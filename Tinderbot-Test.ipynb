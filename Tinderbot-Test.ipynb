{
 "cells": [
  {
   "cell_type": "code",
   "execution_count": null,
   "metadata": {
    "collapsed": true
   },
   "outputs": [],
   "source": [
    "PsuedoCode = \"\"\"\n",
    "\n",
    "    Function that takes name and outputs comments from r/pickuplines that have the name in the title. \n",
    "    \n",
    "    Function that takes a name. Checks if it is a palindrome. If so, it outputs the format:\n",
    "    \"____ - your name is a palindrom, I like it. I'd do you forwards and backwards\".\n",
    "    \n",
    "    Function that takes name. Finds anagram and outputs the format: \"If you add a D to your name,\n",
    "    it's an anagram for the word...\" If no anagram is found it outputs None. \n",
    "    \n",
    "    Function that takes name. Database has dictionary of names corresponding to a string value and \n",
    "    list of pickup lines. The string value tells us whether pickuplines have been generated yet. The function \n",
    "    returns the top n pickuplines. \n",
    "    \n",
    "\n",
    "\n",
    "\"\"\""
   ]
  },
  {
   "cell_type": "code",
   "execution_count": 1,
   "metadata": {},
   "outputs": [
    {
     "data": {
      "text/plain": [
       "[]"
      ]
     },
     "execution_count": 1,
     "metadata": {},
     "output_type": "execute_result"
    }
   ],
   "source": [
    "PULines = [\"Hey baby, call me pop rocks...because I'm going to be burstin' in your mouth ;)\",\n",
    "          \"If I had access to the death star... I'd destroy Uranus\",\n",
    "           \"I heard you were looking for a stud? I’ve got the “STD” and all I need is ‘U”\",\n",
    "          \"On a scale of 1-14 you're extremely basic....\"]\n",
    "NameSpecific = ['Is your name Ariel? Cause I think we were mermaid for each other.']\n",
    "Format = [\"If you add a D to your name, it's an anagram for the word verde.So I guess the question is - do you want the D?\",\n",
    "          \"bob - your name is a palindrom, I like it. I'd do you forwards and backwards.\"]\n"
   ]
  },
  {
   "cell_type": "code",
   "execution_count": 7,
   "metadata": {},
   "outputs": [
    {
     "data": {
      "text/plain": [
       "['Emma bet you wanna lEmma hEmma dat ass... Emmarite?',\n",
       " 'Emma start this off with',\n",
       " 'You’re more emmazingly glemmarous looking than any other girl in whole Emmerica',\n",
       " 'You asked for a Maddie 3 hours ago... Jack wtf are you doing?',\n",
       " \"Emma let you finish but if you go out with me it'll be the greatest date of all time \",\n",
       " 'Tryna get Emma pants tonight?',\n",
       " 'This geometry class must be lit ',\n",
       " \"You sure have asked for a lot of pickup lines. Haha, any luck? You actually been using them, if so how'd it turn out?\",\n",
       " 'Emma bet you wanna lEmma hEmma dat ass... Emmarite?',\n",
       " 'Emma start this off with',\n",
       " 'You’re more emmazingly glemmarous looking than any other girl in whole Emmerica',\n",
       " 'You asked for a Maddie 3 hours ago... Jack wtf are you doing?',\n",
       " \"Emma let you finish but if you go out with me it'll be the greatest date of all time \",\n",
       " 'Tryna get Emma pants tonight?',\n",
       " 'This geometry class must be lit ',\n",
       " \"You sure have asked for a lot of pickup lines. Haha, any luck? You actually been using them, if so how'd it turn out?\"]"
      ]
     },
     "execution_count": 7,
     "metadata": {},
     "output_type": "execute_result"
    }
   ],
   "source": [
    "import praw\n",
    "import requests.auth\n",
    "import string\n",
    "reddit = praw.Reddit(client_id='fAkqHqn2XyBt3g',\n",
    "                     client_secret=\"B1Rv2IY6KfA3PusqSeaFAu8brIw\",\n",
    "                     user_agent='USERAGENT')\n",
    "        \n",
    "def name_from_reddit(name):\n",
    "    pickuplines = []\n",
    "    name = name.lower()\n",
    "    for submission in reddit.subreddit('pickuplines').top(limit=5000):\n",
    "        if name in submission.title.lower():\n",
    "            submission.comments.replace_more(limit=0)\n",
    "            for top_level_comment in submission.comments:\n",
    "                pickuplines.append(top_level_comment.body)\n",
    "    for submission in reddit.subreddit('pickuplines').hot(limit=5000):\n",
    "        if name in submission.title.lower():\n",
    "            submission.comments.replace_more(limit=0)\n",
    "            for top_level_comment in submission.comments:\n",
    "                pickuplines.append(top_level_comment.body)    \n",
    "    for submission in reddit.subreddit('pickuplines').new(limit=5000):\n",
    "        if name in submission.title.lower():\n",
    "            submission.comments.replace_more(limit=0)\n",
    "            for top_level_comment in submission.comments:\n",
    "                pickuplines.append(top_level_comment.body)\n",
    "    if pickuplines:\n",
    "        return pickuplines\n",
    "            \n",
    "name_from_reddit('Emma')"
   ]
  },
  {
   "cell_type": "code",
   "execution_count": 3,
   "metadata": {},
   "outputs": [
    {
     "data": {
      "text/plain": [
       "[]"
      ]
     },
     "execution_count": 3,
     "metadata": {},
     "output_type": "execute_result"
    }
   ],
   "source": [
    "from bs4 import BeautifulSoup\n",
    "import requests\n",
    "import re\n",
    "\n",
    "def analyze_page(url):\n",
    "    # Gets html from url and filters out the tags so that you have just the text, which it runs sentiment analysis on.\n",
    "    html = BeautifulSoup(requests.get(url).text, 'lxml')\n",
    "    pickuplines = []\n",
    "    s = ''\n",
    "    for p in html.find_all('p'):\n",
    "        s = re.sub(r'<.+?>','', str(p))\n",
    "        sp = s.split('\\n')\n",
    "        pickuplines.append(sp)\n",
    "    return pickuplines[:-2]\n",
    "\n",
    "analyze_page('http://pickup-lines.net/')"
   ]
  },
  {
   "cell_type": "code",
   "execution_count": null,
   "metadata": {
    "collapsed": true
   },
   "outputs": [],
   "source": []
  }
 ],
 "metadata": {
  "kernelspec": {
   "display_name": "Python 3",
   "language": "python",
   "name": "python3"
  },
  "language_info": {
   "codemirror_mode": {
    "name": "ipython",
    "version": 3
   },
   "file_extension": ".py",
   "mimetype": "text/x-python",
   "name": "python",
   "nbconvert_exporter": "python",
   "pygments_lexer": "ipython3",
   "version": "3.6.3"
  }
 },
 "nbformat": 4,
 "nbformat_minor": 2
}
