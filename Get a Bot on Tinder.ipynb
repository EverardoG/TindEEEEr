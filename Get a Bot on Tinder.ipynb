{
 "cells": [
  {
   "cell_type": "markdown",
   "metadata": {},
   "source": [
    "Get Access Token (You may need to pip install robobrowser)\n"
   ]
  },
  {
   "cell_type": "code",
   "execution_count": null,
   "metadata": {
    "collapsed": true
   },
   "outputs": [],
   "source": [
    "from os.path import exists\n",
    "import sys\n",
    "from pickle import dump, load\n",
    "import pickle\n",
    "\n",
    "def load_cache(file):\n",
    "    cache = pickle.load( open( file, \"rb\" ) )\n",
    "    print(cache)\n",
    "    return cache\n",
    "\n",
    "def pickle_cache(variable, file_name):\n",
    "    dump(variable, open(file_name, 'wb'))"
   ]
  },
  {
   "cell_type": "code",
   "execution_count": 1,
   "metadata": {},
   "outputs": [
    {
     "name": "stdout",
     "output_type": "stream",
     "text": [
      "EAAGm0PX4ZCpsBANjbXHTZCV1JdtKq6FsTA6yiYoneaifCKOaKa82yUm4ZCjkmejVOWXWYzNdZAS88XobWsnXteshf94ltNOVRaZBdBU7d9ZCV19KH6TnKRdd8A8kXL1ksXW5UhumShf0ZAEZC2kbK5hYHeoO9LA1JQ1q8racY3W9ZCtna4QAn5Ghu8uyKoMktiJYXNlogRRJMZAjvGP7dWxr3gK725TfGabllqAV4Gxa7WS4k6R13Ff938\n"
     ]
    }
   ],
   "source": [
    "import re\n",
    "import robobrowser\n",
    "import sys\n",
    "\n",
    "MOBILE_USER_AGENT = \"Mozilla/5.0 (Linux; U; en-gb; KFTHWI Build/JDQ39) AppleWebKit/535.19 (KHTML, like Gecko) Silk/3.16 Safari/535.19\"\n",
    "FB_AUTH = \"https://www.facebook.com/v2.6/dialog/oauth?redirect_uri=fb464891386855067%3A%2F%2Fauthorize%2F&display=touch&state=%7B%22challenge%22%3A%22IUUkEUqIGud332lfu%252BMJhxL4Wlc%253D%22%2C%220_auth_logger_id%22%3A%2230F06532-A1B9-4B10-BB28-B29956C71AB1%22%2C%22com.facebook.sdk_client_state%22%3Atrue%2C%223_method%22%3A%22sfvc_auth%22%7D&scope=user_birthday%2Cuser_photos%2Cuser_education_history%2Cemail%2Cuser_relationship_details%2Cuser_friends%2Cuser_work_history%2Cuser_likes&response_type=token%2Csigned_request&default_audience=friends&return_scopes=true&auth_type=rerequest&client_id=464891386855067&ret=login&sdk=ios&logger_id=30F06532-A1B9-4B10-BB28-B29956C71AB1&ext=1470840777&hash=AeZqkIcf-NEW6vBd\"\n",
    "\n",
    "\n",
    "def get_access_token(email, password,MOBILE_USER_AGENT = MOBILE_USER_AGENT,FB_AUTH = FB_AUTH):\n",
    "    s = robobrowser.RoboBrowser(user_agent=MOBILE_USER_AGENT, parser=\"lxml\")\n",
    "    s.open(FB_AUTH)\n",
    "\n",
    "    ## submit login form\n",
    "    f = s.get_form()\n",
    "    f[\"pass\"] = password\n",
    "    f[\"email\"] = email\n",
    "    s.submit_form(f)\n",
    "\n",
    "    ## click the 'ok' button on the dialog informing you that you have already authenticated with the Tinder app\n",
    "    f = s.get_form()\n",
    "    s.submit_form(f, submit=f.submit_fields['__CONFIRM__'])\n",
    "\n",
    "    ## get access token from the http response\n",
    "    access_token = re.search(r\"access_token=([\\w\\d]+)\", s.response.content.decode()).groups()[0]\n",
    "    return access_token\n",
    "\n",
    "\n",
    "email = sys.argv[1]\n",
    "password = sys.argv[2]\n",
    "access_token = get_access_token('contact.businesshaven@gmail.com', 'softdes')\n",
    "\n",
    "print(access_token)"
   ]
  },
  {
   "cell_type": "markdown",
   "metadata": {
    "collapsed": true
   },
   "source": [
    "You may need to pip install git+https://github.com/charliewolf/pynder.git\n"
   ]
  },
  {
   "cell_type": "code",
   "execution_count": 2,
   "metadata": {
    "collapsed": true
   },
   "outputs": [],
   "source": [
    "facebook_ID = 100025429656340 #taken from https://findmyfbid.com/"
   ]
  },
  {
   "cell_type": "markdown",
   "metadata": {},
   "source": [
    "Test"
   ]
  },
  {
   "cell_type": "code",
   "execution_count": 3,
   "metadata": {},
   "outputs": [
    {
     "name": "stdout",
     "output_type": "stream",
     "text": [
      "[2018-04-19 17:16:43.097621] Trying to start Tinder session.\n"
     ]
    }
   ],
   "source": [
    "import argparse\n",
    "import configparser\n",
    "from datetime import datetime\n",
    "import json\n",
    "from random import randint\n",
    "import requests\n",
    "import re\n",
    "import sys\n",
    "import robobrowser\n",
    "from time import sleep\n",
    "import datetime\n",
    "import pynder\n",
    "\n",
    "#### START SESSIONS ####\n",
    "\n",
    "def log(msg):\n",
    "    print('[' + str(datetime.datetime.now()) + ']' + ' ' + msg)\n",
    "\n",
    "\n",
    "\n",
    "requests.packages.urllib3.disable_warnings()  # Find way around this...\n",
    "\n",
    "config = configparser.ConfigParser(interpolation=None)\n",
    "config.read('config.ini')\n",
    "\n",
    "auth = str(access_token)\n",
    "\n",
    "session = None\n",
    "\n",
    "try:\n",
    "    log(\"Trying to start Tinder session.\")\n",
    "    session = pynder.Session(facebook_id = str(facebook_ID), facebook_token=auth)  #specified params\n",
    "except pynder.errors.RequestError:\n",
    "    log(\"Pynder Error. Trying to get new auth.\")\n",
    "    auth = get_access_token(str(contact.businesshaven@gmail.com), str(softdes), str(MOBILE_USER_AGENT), str(FB_AUTH))\n",
    "    try:\n",
    "        pynder.Session(facebook_id = str(facebook_ID), facebook_token=auth)  \n",
    "    except pynder.errors.RequestError:\n",
    "        log(\"Pynder Error. New auth did NOT work.\")\n",
    "        quit()\n",
    "        \n",
    "\n",
    "   \n",
    "\n",
    "    \n",
    "\n"
   ]
  },
  {
   "cell_type": "code",
   "execution_count": 155,
   "metadata": {},
   "outputs": [
    {
     "name": "stdout",
     "output_type": "stream",
     "text": [
      "Matches found\n",
      "5a3b18db6180507057d2ca715ad0514d2a71da1042d33b9e 0\n",
      "5609b06d5beb8bc82fc29dce5ad0514d2a71da1042d33b9e 1\n",
      "5a680fb74b32b6c64526d7685ad0514d2a71da1042d33b9e 2\n",
      "5550d6b2843c7d2775c2696c5ad0514d2a71da1042d33b9e 3\n",
      "5ad047915b5fd98c2979ee455ad0514d2a71da1042d33b9e 4\n",
      "5acc308d2e0d1db31b3da78d5ad0514d2a71da1042d33b9e 5\n",
      "5ad03f3b0953a22c29a240495ad0514d2a71da1042d33b9e 6\n",
      "595edf727dc2373c612bd5985ad0514d2a71da1042d33b9e 7\n",
      "5acba312e6399b3319997f4d5ad0514d2a71da1042d33b9e 8\n",
      "5ac16af8ad3c8bcb1b7fcd445ad0514d2a71da1042d33b9e 9\n",
      "59ee8ca854976ac9372bf82a5ad0514d2a71da1042d33b9e 10\n",
      "5acfdf8904de9a56395eefe75ad0514d2a71da1042d33b9e 11\n",
      "54b43b53993e08a96fe1faf45ad0514d2a71da1042d33b9e 12\n",
      "54af2a9a3f59ce476096d57e5ad0514d2a71da1042d33b9e 13\n",
      "52baa0154e8eb35a6a001f815ad0514d2a71da1042d33b9e 14\n",
      "59a3a0d6d3a0b3292005d0025ad0514d2a71da1042d33b9e 15\n",
      "54b275512ed419f91230894f5ad0514d2a71da1042d33b9e 16\n",
      "5a409cf05f165d721235419c5ad0514d2a71da1042d33b9e 17\n",
      "586ac3ea6e15c32f72d334615ad0514d2a71da1042d33b9e 18\n",
      "🤖🤖\n",
      "19\n"
     ]
    }
   ],
   "source": [
    "# IT WORKS\n",
    "\n",
    "matches = session._api.matches(0)\n",
    "print(\"Matches found\")\n",
    "for i in range(len(matches)):\n",
    "    match = matches[i]\n",
    "    ms = match['messages']\n",
    "    try:\n",
    "        session._api._post('/user/matches/' + match['_id'],\n",
    "                                {\"message\": \"*beep boop* I need your help to learn how to read emojis. Please tell me what type of phone you are using and then send the robot emoji. *beep* 🤖 \"})\n",
    "        print(match['_id'], i)\n",
    "    except:\n",
    "        print(\"Failed to send message to match[\"+str(i)+\"].\")\n",
    "    #if len(ms)>4:\n",
    "        #session._api._post('/user/matches/' + match['id'],\n",
    "                            #{\"message\": \"*beep boop* Testing the spacing \\n *beep* 🤖 \"})\n",
    "        #print(i)\n",
    "\n",
    "        \n",
    "\n",
    "print('🤖🤖')\n",
    "print(len(matches))\n"
   ]
  },
  {
   "cell_type": "code",
   "execution_count": 171,
   "metadata": {
    "scrolled": false
   },
   "outputs": [
    {
     "data": {
      "text/plain": [
       "{'_id': '5ad928a1eed8bd583bdb9c38',\n",
       " 'created_date': '2018-04-19T23:39:13.743Z',\n",
       " 'from': '5ac16af8ad3c8bcb1b7fcd44',\n",
       " 'match_id': '5ac16af8ad3c8bcb1b7fcd445ad0514d2a71da1042d33b9e',\n",
       " 'message': 'iPhone 6 🤖',\n",
       " 'sent_date': '2018-04-19T23:39:13.743Z',\n",
       " 'timestamp': 1524181153743,\n",
       " 'to': '5ad0514d2a71da1042d33b9e'}"
      ]
     },
     "execution_count": 171,
     "metadata": {},
     "output_type": "execute_result"
    }
   ],
   "source": [
    "matches = session._api.matches(1523641851398)\n",
    "match = matches[0]\n",
    "match['_id']\n",
    "matches[0]['messages'][-1]"
   ]
  },
  {
   "cell_type": "code",
   "execution_count": 161,
   "metadata": {},
   "outputs": [
    {
     "data": {
      "text/plain": [
       "1524200401.7612088"
      ]
     },
     "execution_count": 161,
     "metadata": {},
     "output_type": "execute_result"
    }
   ],
   "source": [
    "import time\n",
    "time.time()"
   ]
  },
  {
   "cell_type": "code",
   "execution_count": 202,
   "metadata": {},
   "outputs": [],
   "source": [
    "import random \n",
    "global match_status_dictionary\n",
    "match_status_dictionary = {}\n",
    "def add_new_matches_to_match_status_dictionary(matches):\n",
    "    for match in matches:\n",
    "        if not match['_id'] in match_status_dictionary:\n",
    "            match_status_dictionary[match['_id']] = {'status': 'new',\n",
    "                                                    'last_time_checked': 0}\n",
    "\n",
    "def is_unread(match):\n",
    "    if match['messages']:\n",
    "        last_message = match['messages'][-1]\n",
    "        if last_message['from'] == session.profile.id or last_message['timestamp'] <= match_status_dictionary[match['_id']]['last_time_checked']:\n",
    "            return False\n",
    "        else: \n",
    "            return True\n",
    "def is_name(name):\n",
    "    if name in [\"\", \" \", \"   \", \"no\", \"help\"] or len(name) <= 1:\n",
    "        return False\n",
    "    else:\n",
    "        return True\n",
    "    \n",
    "def is_PUL(PUL):\n",
    "    if len(PUL)< 6:\n",
    "        return False\n",
    "    else:\n",
    "        return True\n",
    "    \n",
    "def update_last_time_checked(match):\n",
    "    match_status_dictionary[match['_id']]['last_time_checked'] = match['messages'][-1]['timestamp']\n",
    "    \n",
    "def send_message(match, message):\n",
    "    session._api._post('/user/matches/' + match['_id'],\n",
    "                                {\"message\": message})\n",
    "def change_status_to(match, status):\n",
    "    match_status_dictionary[match['_id']]['status'] = status\n",
    "    \n",
    "def get_last_message_text(match):\n",
    "    return match['messages'][-1]['message']\n",
    "\n",
    "def process_new(match):\n",
    "    send_message(match, \"*beep boop* Hello! Thanks for swiping right on me. I will do my best to help you find\"+\n",
    "                \" the perfect pick-up lines! All you need to do is message the word 'help' whenever you need me. 🤖\")\n",
    "    send_message(match, \"Additionaly, if you have a knack for coming up with lines, send me the robot emoji 🤖 to\"+\n",
    "                \" help me make some of them! *beep boop*\")\n",
    "    change_status_to(match,'idle')\n",
    "    update_last_time_checked(match)\n",
    "    \n",
    "def help_sensor(match):\n",
    "    last_message = get_last_message_text(match)\n",
    "    if 'help' in last_message:\n",
    "        send_message(match, \"Give me just the name of the person you need a pick-up line for. *beep*\")\n",
    "        change_status_to(match, 'waiting_for_name')\n",
    "        update_last_time_checked(match)        \n",
    "        return True\n",
    "    \n",
    "def grab_random_name_from_no_lines_or_need_lines():\n",
    "    if no_lines:\n",
    "        return random.choice(no_lines)\n",
    "    else:\n",
    "        return random.choice(need_lines)\n",
    "        \n",
    "def change_a_value_in_status_dictionary(match, key, value):\n",
    "    match_status_dictionary[match['_id']][key] = value\n",
    "\n",
    "def robot_sensor(match):\n",
    "    if no_lines or need_lines:\n",
    "        last_message = get_last_message_text(match)\n",
    "        if '🤖' in last_message and len(last_message)<=3:\n",
    "            send_message(match, \"*beep boop* Learning all of these pick-up lines is hard work. *rattle* \"+\n",
    "                         \"Thanks for coming to help out! I will give you a highly requested name\"+\n",
    "                        \" that I have no lines for, and you can help me think of one.\")\n",
    "            train_name = grab_random_name_from_no_lines_or_need_lines()\n",
    "            send_message(match, \"Can you give me one pick-up line for \"+name.upper()+\"? Type 'pass' if you're stuck.\")\n",
    "            change_status_to(match, 'training')\n",
    "            change_a_value_in_status_dictionary(match,'train_name', train_name)\n",
    "            update_last_time_checked(match)        \n",
    "            return True\n",
    "    else:\n",
    "        print(\"Training attempted but no names needed.\")\n",
    "    "
   ]
  },
  {
   "cell_type": "code",
   "execution_count": 178,
   "metadata": {
    "collapsed": true
   },
   "outputs": [],
   "source": [
    "def process_idle(match):\n",
    "    if help_sensor:\n",
    "        return\n",
    "    elif robot_sensor:\n",
    "        return\n",
    "    update_last_time_checked(match)\n",
    "\n",
    "def process_waiting_for_name(match):\n",
    "    if help_sensor:\n",
    "        return\n",
    "    elif robot_sensor:\n",
    "        return\n",
    "    name = get_last_message_text(match)\n",
    "    if not is_name(name):\n",
    "        send_message(match, \"\")\n",
    "        \n",
    "    \n",
    "    \n",
    "        "
   ]
  },
  {
   "cell_type": "code",
   "execution_count": 205,
   "metadata": {},
   "outputs": [
    {
     "data": {
      "text/plain": [
       "'HI'"
      ]
     },
     "execution_count": 205,
     "metadata": {},
     "output_type": "execute_result"
    }
   ],
   "source": []
  },
  {
   "cell_type": "code",
   "execution_count": 199,
   "metadata": {},
   "outputs": [
    {
     "name": "stdout",
     "output_type": "stream",
     "text": [
      "{'5ac16af8ad3c8bcb1b7fcd445ad0514d2a71da1042d33b9e': {'status': 'new', 'last_time_checked': 1524181153743, 'train_name': 'tyler'}, '59ee8ca854976ac9372bf82a5ad0514d2a71da1042d33b9e': {'status': 'new', 'last_time_checked': 0}, '5acfdf8904de9a56395eefe75ad0514d2a71da1042d33b9e': {'status': 'new', 'last_time_checked': 0}, '54b43b53993e08a96fe1faf45ad0514d2a71da1042d33b9e': {'status': 'new', 'last_time_checked': 0}, '54af2a9a3f59ce476096d57e5ad0514d2a71da1042d33b9e': {'status': 'new', 'last_time_checked': 0}, '52baa0154e8eb35a6a001f815ad0514d2a71da1042d33b9e': {'status': 'new', 'last_time_checked': 0}, '59a3a0d6d3a0b3292005d0025ad0514d2a71da1042d33b9e': {'status': 'new', 'last_time_checked': 0}, '54b275512ed419f91230894f5ad0514d2a71da1042d33b9e': {'status': 'new', 'last_time_checked': 0}, '5a409cf05f165d721235419c5ad0514d2a71da1042d33b9e': {'status': 'new', 'last_time_checked': 0}, '586ac3ea6e15c32f72d334615ad0514d2a71da1042d33b9e': {'status': 'new', 'last_time_checked': 0}, '5a680fb74b32b6c64526d7685ad0514d2a71da1042d33b9e': {'status': 'new', 'last_time_checked': 0}, '5a3b18db6180507057d2ca715ad0514d2a71da1042d33b9e': {'status': 'new', 'last_time_checked': 0}, '5609b06d5beb8bc82fc29dce5ad0514d2a71da1042d33b9e': {'status': 'new', 'last_time_checked': 0}, '5550d6b2843c7d2775c2696c5ad0514d2a71da1042d33b9e': {'status': 'new', 'last_time_checked': 0}, '5ad047915b5fd98c2979ee455ad0514d2a71da1042d33b9e': {'status': 'new', 'last_time_checked': 0}, '5acc308d2e0d1db31b3da78d5ad0514d2a71da1042d33b9e': {'status': 'new', 'last_time_checked': 0}, '5ad03f3b0953a22c29a240495ad0514d2a71da1042d33b9e': {'status': 'new', 'last_time_checked': 0}, '595edf727dc2373c612bd5985ad0514d2a71da1042d33b9e': {'status': 'new', 'last_time_checked': 0}, '5acba312e6399b3319997f4d5ad0514d2a71da1042d33b9e': {'status': 'idle', 'last_time_checked': 0}}\n"
     ]
    }
   ],
   "source": [
    "add_new_matches_to_match_status_dictionary(matches)\n",
    "change_status_to(matches[18], 'idle')\n",
    "update_last_time_checked(matches[0])\n",
    "change_a_value_in_status_dictionary(matches[0],'train_name','tyler')\n",
    "\n",
    "print(match_status_dictionary)"
   ]
  },
  {
   "cell_type": "code",
   "execution_count": 183,
   "metadata": {},
   "outputs": [
    {
     "data": {
      "text/plain": [
       "'a'"
      ]
     },
     "execution_count": 183,
     "metadata": {},
     "output_type": "execute_result"
    }
   ],
   "source": []
  },
  {
   "cell_type": "code",
   "execution_count": 182,
   "metadata": {
    "collapsed": true
   },
   "outputs": [],
   "source": [
    "#def is_not_dead()?"
   ]
  },
  {
   "cell_type": "code",
   "execution_count": null,
   "metadata": {
    "collapsed": true
   },
   "outputs": [],
   "source": []
  },
  {
   "cell_type": "code",
   "execution_count": null,
   "metadata": {
    "collapsed": true
   },
   "outputs": [],
   "source": []
  },
  {
   "cell_type": "code",
   "execution_count": null,
   "metadata": {
    "collapsed": true
   },
   "outputs": [],
   "source": []
  },
  {
   "cell_type": "code",
   "execution_count": 4,
   "metadata": {},
   "outputs": [
    {
     "name": "stdout",
     "output_type": "stream",
     "text": [
      "start loop\n"
     ]
    },
    {
     "ename": "KeyboardInterrupt",
     "evalue": "",
     "output_type": "error",
     "traceback": [
      "\u001b[0;31m---------------------------------------------------------------------------\u001b[0m",
      "\u001b[0;31mKeyboardInterrupt\u001b[0m                         Traceback (most recent call last)",
      "\u001b[0;32m<ipython-input-4-3942b82de6ff>\u001b[0m in \u001b[0;36m<module>\u001b[0;34m()\u001b[0m\n\u001b[1;32m     22\u001b[0m \u001b[0;34m\u001b[0m\u001b[0m\n\u001b[1;32m     23\u001b[0m \u001b[0;34m\u001b[0m\u001b[0m\n\u001b[0;32m---> 24\u001b[0;31m \u001b[0mhandle_likes\u001b[0m\u001b[0;34m(\u001b[0m\u001b[0;34m)\u001b[0m\u001b[0;34m\u001b[0m\u001b[0m\n\u001b[0m",
      "\u001b[0;32m<ipython-input-4-3942b82de6ff>\u001b[0m in \u001b[0;36mhandle_likes\u001b[0;34m()\u001b[0m\n\u001b[1;32m      3\u001b[0m     \u001b[0;32mtry\u001b[0m\u001b[0;34m:\u001b[0m\u001b[0;34m\u001b[0m\u001b[0m\n\u001b[1;32m      4\u001b[0m         \u001b[0mprint\u001b[0m\u001b[0;34m(\u001b[0m\u001b[0;34m\"start loop\"\u001b[0m\u001b[0;34m)\u001b[0m\u001b[0;34m\u001b[0m\u001b[0m\n\u001b[0;32m----> 5\u001b[0;31m         \u001b[0musers\u001b[0m \u001b[0;34m=\u001b[0m \u001b[0mlist\u001b[0m\u001b[0;34m(\u001b[0m\u001b[0msession\u001b[0m\u001b[0;34m.\u001b[0m\u001b[0mnearby_users\u001b[0m\u001b[0;34m(\u001b[0m\u001b[0;34m)\u001b[0m\u001b[0;34m)\u001b[0m\u001b[0;34m\u001b[0m\u001b[0m\n\u001b[0m\u001b[1;32m      6\u001b[0m         \u001b[0mprint\u001b[0m\u001b[0;34m(\u001b[0m\u001b[0;34m\"found users\"\u001b[0m\u001b[0;34m)\u001b[0m\u001b[0;34m\u001b[0m\u001b[0m\n\u001b[1;32m      7\u001b[0m         \u001b[0mi\u001b[0m \u001b[0;34m=\u001b[0m \u001b[0;36m0\u001b[0m\u001b[0;34m\u001b[0m\u001b[0m\n",
      "\u001b[0;32m~/anaconda3/lib/python3.6/site-packages/pynder/session.py\u001b[0m in \u001b[0;36mnearby_users\u001b[0;34m(self, limit)\u001b[0m\n\u001b[1;32m     24\u001b[0m     \u001b[0;32mdef\u001b[0m \u001b[0mnearby_users\u001b[0m\u001b[0;34m(\u001b[0m\u001b[0mself\u001b[0m\u001b[0;34m,\u001b[0m \u001b[0mlimit\u001b[0m\u001b[0;34m=\u001b[0m\u001b[0;36m10\u001b[0m\u001b[0;34m)\u001b[0m\u001b[0;34m:\u001b[0m\u001b[0;34m\u001b[0m\u001b[0m\n\u001b[1;32m     25\u001b[0m         \u001b[0;32mwhile\u001b[0m \u001b[0;32mTrue\u001b[0m\u001b[0;34m:\u001b[0m\u001b[0;34m\u001b[0m\u001b[0m\n\u001b[0;32m---> 26\u001b[0;31m             \u001b[0mresponse\u001b[0m \u001b[0;34m=\u001b[0m \u001b[0mself\u001b[0m\u001b[0;34m.\u001b[0m\u001b[0m_api\u001b[0m\u001b[0;34m.\u001b[0m\u001b[0mrecs\u001b[0m\u001b[0;34m(\u001b[0m\u001b[0mlimit\u001b[0m\u001b[0;34m)\u001b[0m\u001b[0;34m\u001b[0m\u001b[0m\n\u001b[0m\u001b[1;32m     27\u001b[0m \u001b[0;34m\u001b[0m\u001b[0m\n\u001b[1;32m     28\u001b[0m             \u001b[0;32mif\u001b[0m \u001b[0;34m'message'\u001b[0m \u001b[0;32min\u001b[0m \u001b[0mresponse\u001b[0m \u001b[0;32mand\u001b[0m \u001b[0mresponse\u001b[0m\u001b[0;34m[\u001b[0m\u001b[0;34m'message'\u001b[0m\u001b[0;34m]\u001b[0m \u001b[0;34m==\u001b[0m \u001b[0;34m'recs timeout'\u001b[0m\u001b[0;34m:\u001b[0m\u001b[0;34m\u001b[0m\u001b[0m\n",
      "\u001b[0;32m~/anaconda3/lib/python3.6/site-packages/pynder/api.py\u001b[0m in \u001b[0;36mrecs\u001b[0;34m(self, limit)\u001b[0m\n\u001b[1;32m     79\u001b[0m \u001b[0;34m\u001b[0m\u001b[0m\n\u001b[1;32m     80\u001b[0m     \u001b[0;32mdef\u001b[0m \u001b[0mrecs\u001b[0m\u001b[0;34m(\u001b[0m\u001b[0mself\u001b[0m\u001b[0;34m,\u001b[0m \u001b[0mlimit\u001b[0m\u001b[0;34m=\u001b[0m\u001b[0;36m10\u001b[0m\u001b[0;34m)\u001b[0m\u001b[0;34m:\u001b[0m\u001b[0;34m\u001b[0m\u001b[0m\n\u001b[0;32m---> 81\u001b[0;31m         \u001b[0;32mreturn\u001b[0m \u001b[0mself\u001b[0m\u001b[0;34m.\u001b[0m\u001b[0m_post\u001b[0m\u001b[0;34m(\u001b[0m\u001b[0;34m\"/user/recs\"\u001b[0m\u001b[0;34m,\u001b[0m \u001b[0mdata\u001b[0m\u001b[0;34m=\u001b[0m\u001b[0;34m{\u001b[0m\u001b[0;34m\"limit\"\u001b[0m\u001b[0;34m:\u001b[0m \u001b[0mlimit\u001b[0m\u001b[0;34m}\u001b[0m\u001b[0;34m)\u001b[0m\u001b[0;34m\u001b[0m\u001b[0m\n\u001b[0m\u001b[1;32m     82\u001b[0m \u001b[0;34m\u001b[0m\u001b[0m\n\u001b[1;32m     83\u001b[0m     \u001b[0;32mdef\u001b[0m \u001b[0mmatches\u001b[0m\u001b[0;34m(\u001b[0m\u001b[0mself\u001b[0m\u001b[0;34m,\u001b[0m \u001b[0msince\u001b[0m\u001b[0;34m)\u001b[0m\u001b[0;34m:\u001b[0m\u001b[0;34m\u001b[0m\u001b[0m\n",
      "\u001b[0;32m~/anaconda3/lib/python3.6/site-packages/pynder/api.py\u001b[0m in \u001b[0;36m_post\u001b[0;34m(self, url, data)\u001b[0m\n\u001b[1;32m     53\u001b[0m \u001b[0;34m\u001b[0m\u001b[0m\n\u001b[1;32m     54\u001b[0m     \u001b[0;32mdef\u001b[0m \u001b[0m_post\u001b[0m\u001b[0;34m(\u001b[0m\u001b[0mself\u001b[0m\u001b[0;34m,\u001b[0m \u001b[0murl\u001b[0m\u001b[0;34m,\u001b[0m \u001b[0mdata\u001b[0m\u001b[0;34m=\u001b[0m\u001b[0;34m{\u001b[0m\u001b[0;34m}\u001b[0m\u001b[0;34m)\u001b[0m\u001b[0;34m:\u001b[0m\u001b[0;34m\u001b[0m\u001b[0m\n\u001b[0;32m---> 55\u001b[0;31m         \u001b[0;32mreturn\u001b[0m \u001b[0mself\u001b[0m\u001b[0;34m.\u001b[0m\u001b[0m_request\u001b[0m\u001b[0;34m(\u001b[0m\u001b[0;34m\"post\"\u001b[0m\u001b[0;34m,\u001b[0m \u001b[0murl\u001b[0m\u001b[0;34m,\u001b[0m \u001b[0mdata\u001b[0m\u001b[0;34m=\u001b[0m\u001b[0mdata\u001b[0m\u001b[0;34m)\u001b[0m\u001b[0;34m\u001b[0m\u001b[0m\n\u001b[0m\u001b[1;32m     56\u001b[0m \u001b[0;34m\u001b[0m\u001b[0m\n\u001b[1;32m     57\u001b[0m     \u001b[0;32mdef\u001b[0m \u001b[0m_delete\u001b[0m\u001b[0;34m(\u001b[0m\u001b[0mself\u001b[0m\u001b[0;34m,\u001b[0m \u001b[0murl\u001b[0m\u001b[0;34m)\u001b[0m\u001b[0;34m:\u001b[0m\u001b[0;34m\u001b[0m\u001b[0m\n",
      "\u001b[0;32m~/anaconda3/lib/python3.6/site-packages/pynder/api.py\u001b[0m in \u001b[0;36m_request\u001b[0;34m(self, method, url, data)\u001b[0m\n\u001b[1;32m     40\u001b[0m         \u001b[0;32mwhile\u001b[0m \u001b[0mresult\u001b[0m\u001b[0;34m.\u001b[0m\u001b[0mstatus_code\u001b[0m \u001b[0;34m==\u001b[0m \u001b[0;36m429\u001b[0m\u001b[0;34m:\u001b[0m\u001b[0;34m\u001b[0m\u001b[0m\n\u001b[1;32m     41\u001b[0m             \u001b[0mblocker\u001b[0m \u001b[0;34m=\u001b[0m \u001b[0mthreading\u001b[0m\u001b[0;34m.\u001b[0m\u001b[0mEvent\u001b[0m\u001b[0;34m(\u001b[0m\u001b[0;34m)\u001b[0m\u001b[0;34m\u001b[0m\u001b[0m\n\u001b[0;32m---> 42\u001b[0;31m             \u001b[0mblocker\u001b[0m\u001b[0;34m.\u001b[0m\u001b[0mwait\u001b[0m\u001b[0;34m(\u001b[0m\u001b[0;36m0.01\u001b[0m\u001b[0;34m)\u001b[0m\u001b[0;34m\u001b[0m\u001b[0m\n\u001b[0m\u001b[1;32m     43\u001b[0m             result = self._session.request(method, self._full_url(\n\u001b[1;32m     44\u001b[0m                 url), data=data, proxies=self._proxies)\n",
      "\u001b[0;32m~/anaconda3/lib/python3.6/threading.py\u001b[0m in \u001b[0;36mwait\u001b[0;34m(self, timeout)\u001b[0m\n\u001b[1;32m    549\u001b[0m             \u001b[0msignaled\u001b[0m \u001b[0;34m=\u001b[0m \u001b[0mself\u001b[0m\u001b[0;34m.\u001b[0m\u001b[0m_flag\u001b[0m\u001b[0;34m\u001b[0m\u001b[0m\n\u001b[1;32m    550\u001b[0m             \u001b[0;32mif\u001b[0m \u001b[0;32mnot\u001b[0m \u001b[0msignaled\u001b[0m\u001b[0;34m:\u001b[0m\u001b[0;34m\u001b[0m\u001b[0m\n\u001b[0;32m--> 551\u001b[0;31m                 \u001b[0msignaled\u001b[0m \u001b[0;34m=\u001b[0m \u001b[0mself\u001b[0m\u001b[0;34m.\u001b[0m\u001b[0m_cond\u001b[0m\u001b[0;34m.\u001b[0m\u001b[0mwait\u001b[0m\u001b[0;34m(\u001b[0m\u001b[0mtimeout\u001b[0m\u001b[0;34m)\u001b[0m\u001b[0;34m\u001b[0m\u001b[0m\n\u001b[0m\u001b[1;32m    552\u001b[0m             \u001b[0;32mreturn\u001b[0m \u001b[0msignaled\u001b[0m\u001b[0;34m\u001b[0m\u001b[0m\n\u001b[1;32m    553\u001b[0m \u001b[0;34m\u001b[0m\u001b[0m\n",
      "\u001b[0;32m~/anaconda3/lib/python3.6/threading.py\u001b[0m in \u001b[0;36mwait\u001b[0;34m(self, timeout)\u001b[0m\n\u001b[1;32m    297\u001b[0m             \u001b[0;32melse\u001b[0m\u001b[0;34m:\u001b[0m\u001b[0;34m\u001b[0m\u001b[0m\n\u001b[1;32m    298\u001b[0m                 \u001b[0;32mif\u001b[0m \u001b[0mtimeout\u001b[0m \u001b[0;34m>\u001b[0m \u001b[0;36m0\u001b[0m\u001b[0;34m:\u001b[0m\u001b[0;34m\u001b[0m\u001b[0m\n\u001b[0;32m--> 299\u001b[0;31m                     \u001b[0mgotit\u001b[0m \u001b[0;34m=\u001b[0m \u001b[0mwaiter\u001b[0m\u001b[0;34m.\u001b[0m\u001b[0macquire\u001b[0m\u001b[0;34m(\u001b[0m\u001b[0;32mTrue\u001b[0m\u001b[0;34m,\u001b[0m \u001b[0mtimeout\u001b[0m\u001b[0;34m)\u001b[0m\u001b[0;34m\u001b[0m\u001b[0m\n\u001b[0m\u001b[1;32m    300\u001b[0m                 \u001b[0;32melse\u001b[0m\u001b[0;34m:\u001b[0m\u001b[0;34m\u001b[0m\u001b[0m\n\u001b[1;32m    301\u001b[0m                     \u001b[0mgotit\u001b[0m \u001b[0;34m=\u001b[0m \u001b[0mwaiter\u001b[0m\u001b[0;34m.\u001b[0m\u001b[0macquire\u001b[0m\u001b[0;34m(\u001b[0m\u001b[0;32mFalse\u001b[0m\u001b[0;34m)\u001b[0m\u001b[0;34m\u001b[0m\u001b[0m\n",
      "\u001b[0;31mKeyboardInterrupt\u001b[0m: "
     ]
    }
   ],
   "source": [
    "def handle_likes():\n",
    "    #while True:\n",
    "    try:\n",
    "        print(\"start loop\")\n",
    "        users = list(session.nearby_users())\n",
    "        print(\"found users\")\n",
    "        i = 0\n",
    "        if users:\n",
    "            for u in users:\n",
    "                print(u)\n",
    "                i += 1\n",
    "                if i > 10:\n",
    "                    break\n",
    "                    #if u.name == 'Tinder Team':\n",
    "                    #    log('Out of swipes, pausing one hour...')\n",
    "                    #    return\n",
    "                    #u.like()\n",
    "                    #log('Liked ' + u.name)\n",
    "    except ValueError:\n",
    "        pass\n",
    "    #    continue\n",
    "        \n",
    "        \n",
    "handle_likes()"
   ]
  },
  {
   "cell_type": "code",
   "execution_count": null,
   "metadata": {
    "collapsed": true
   },
   "outputs": [],
   "source": [
    "users = session.nearby_users()\n",
    "user = next(users)\n",
    "print(user.name)"
   ]
  },
  {
   "cell_type": "code",
   "execution_count": null,
   "metadata": {
    "collapsed": true
   },
   "outputs": [],
   "source": [
    "def check_swipes():\n",
    "    swipes_remaining = session.likes_remaining\n",
    "    if swipes_remaining == 0:\n",
    "        return 'Send messages'\n",
    "def use_all_swipes():\n",
    "    global session\n",
    "    if session is not None:\n",
    "        print(\"Search nearby\")\n",
    "        users = list(session.nearby_users())\n",
    "        print(\"Done searching\")\n",
    "        #log(str(len(users)) + ' users to swipe')\n",
    "        for u in users:\n",
    "            print(\"Iterating U\")\n",
    "            try:\n",
    "                log('Checking swipes remaining.')\n",
    "                status = check_swipes()\n",
    "                if status == 'Send messages':\n",
    "                    log('Out of swipes. Moving along to send messages.')\n",
    "                    break\n",
    "                else:\n",
    "                    try:\n",
    "                        u.like()\n",
    "                        print('Swipe!')\n",
    "                        log('Liked ' + u.name)\n",
    "                        sleep(randint(3,15))\n",
    "                    except ValueError:\n",
    "                        log(\"ValueError\")\n",
    "                        break\n",
    "            except ValueError:\n",
    "                log(\"ValueError\")\n",
    "                break\n",
    "    else:\n",
    "        print(\"No Session\")\n",
    "use_all_swipes()"
   ]
  },
  {
   "cell_type": "code",
   "execution_count": null,
   "metadata": {
    "collapsed": true
   },
   "outputs": [],
   "source": []
  },
  {
   "cell_type": "code",
   "execution_count": null,
   "metadata": {
    "collapsed": true
   },
   "outputs": [],
   "source": [
    "def like_or_nope():\n",
    "    if randint(1, 100) == 31:\n",
    "        return 'nope'\n",
    "    else:\n",
    "        return 'like'\n",
    "\n",
    "def check_swipes():\n",
    "    swipes_remaining = session.likes_remaining\n",
    "    if swipes_remaining == 0:\n",
    "        return 'Send messages'\n",
    "\n",
    "def handle_likes():\n",
    "    global session\n",
    "    if session is not None:\n",
    "        users = session.nearby_users()\n",
    "        log(str(len(users)) + ' users to swipe')\n",
    "        for u in users:\n",
    "            try:\n",
    "                log('Checking swipes remaining.')\n",
    "                status = check_swipes()\n",
    "                if status == 'Send messages':\n",
    "                    log('Out of swipes. Moving along to send messages.')\n",
    "                    break\n",
    "                else:\n",
    "                    try:\n",
    "                        action = like_or_nope()\n",
    "                        if action == 'like':\n",
    "                            u.like()\n",
    "                            log('Liked ' + u.name)\n",
    "                            sleep(randint(3,15))\n",
    "                        else:\n",
    "                            u.dislike()\n",
    "                            log('Disliked ' + u.name)\n",
    "                            sleep(randint(3,15))\n",
    "                    except ValueError:\n",
    "                        log(\"ValueError\")\n",
    "                        break\n",
    "                    except pynder.errors.RequestError:\n",
    "                        log(\"Pynder Error. Trying to get new auth.\")\n",
    "                        auth = get_access_token(str(config['DEFAULT']['FB_EMAIL']), str(config['DEFAULT']['FB_PASSWORD']), str(config['DEFAULT']['MOBILE_USER_AGENT']), str(config['DEFAULT']['FB_AUTH']))\n",
    "                        config['DEFAULT']['FACEBOOK_AUTH_TOKEN'] = auth\n",
    "                        with open('config.ini', 'w') as configfile:\n",
    "                            config.write(configfile)\n",
    "                        config.read('config.ini')\n",
    "                        try:\n",
    "                            session = pynder.Session(str(config['DEFAULT']['FACEBOOK_ID']), auth)  \n",
    "                        except pynder.errors.RequestError:\n",
    "                            log(\"Pynder Error. New auth did NOT work.\")\n",
    "                            break\n",
    "                        continue\n",
    "                    except:\n",
    "                        log(\"Generic Exception. Don't know what issue is....\")\n",
    "                        break\n",
    "            except ValueError:\n",
    "                log(\"ValueError\")\n",
    "                break\n",
    "            except pynder.errors.RequestError:\n",
    "                log(\"Pynder Error. Trying to get new auth.\")\n",
    "                auth = get_access_token(str(config['DEFAULT']['FB_EMAIL']), str(config['DEFAULT']['FB_PASSWORD']), str(config['DEFAULT']['MOBILE_USER_AGENT']), str(config['DEFAULT']['FB_AUTH']))\n",
    "                config['DEFAULT']['FACEBOOK_AUTH_TOKEN'] = auth\n",
    "                with open('config.ini', 'w') as configfile:\n",
    "                    config.write(configfile)\n",
    "                config.read('config.ini')\n",
    "                try:\n",
    "                    session = pynder.Session(str(config['DEFAULT']['FACEBOOK_ID']), auth)  \n",
    "                except pynder.errors.RequestError:\n",
    "                    log(\"Pynder Error. New auth did NOT work.\")\n",
    "                    break\n",
    "                continue\n",
    "            except:\n",
    "                log(\"Generic Exception. Don't know what issue is....\")\n",
    "                break\n",
    "    else:\n",
    "        log(\"Sessions is None.\")\n",
    "        quit()\n",
    "\n",
    "def send(match, message_no):\n",
    "    for m in messages[message_no]:\n",
    "        session._api._post('/user/matches/' + match['id'],\n",
    "                            {\"message\": m})\n",
    "        sleep(randint(3,10))\n",
    "    log('Sent message ' + str(message_no) + ' to ' + match['person']['name'])\n",
    "\n",
    "def sendbot(match, message_no_bot):\n",
    "    for mb in messagesbot[message_no_bot]:\n",
    "        session._api._post('/user/matches/' + match['id'],\n",
    "                            {\"message\": mb})\n",
    "        sleep(randint(3,10))\n",
    "    log('Sent message ' + str(message_no_bot) + ' to ' + match['person']['name'])\n",
    "\n",
    "def sendfake(match, message_no_fake):\n",
    "    for mf in messagesfake[message_no_fake]:\n",
    "        session._api._post('/user/matches/' + match['id'],\n",
    "                            {\"message\": mf})\n",
    "        sleep(randint(3,10))\n",
    "    log('Sent message ' + str(message_no_fake) + ' to ' + match['person']['name'])\n",
    "\n",
    "def sendreal(match, message_no_real):\n",
    "    for mr in messagesreal[message_no_real]:\n",
    "        session._api._post('/user/matches/' + match['id'],\n",
    "                            {\"message\": mr})\n",
    "        sleep(randint(3,10))\n",
    "    log('Sent message ' + str(message_no_real) + ' to ' + match['person']['name'])\n",
    "\n",
    "def message(match):\n",
    "    ms = match['messages']\n",
    "    myself = session.profile.id\n",
    "    if not ms:\n",
    "        send(match, 0)\n",
    "        return\n",
    "    said = False\n",
    "    saidbot = False\n",
    "    saidfake = False\n",
    "    saidreal = False\n",
    "    count = 0\n",
    "    name = match['person']['name']\n",
    "    for m in ms:\n",
    "        if m['from'] == myself:\n",
    "            count += 1\n",
    "            said = False\n",
    "        elif 'bot' in m['message'].lower():\n",
    "            count += 1\n",
    "            saidbot = True\n",
    "        elif 'fake' in m['message'].lower():\n",
    "            count += 1\n",
    "            saidfake = True\n",
    "        elif 'real person' in m['message'].lower():\n",
    "            count += 1\n",
    "            saidreal = True\n",
    "        else:\n",
    "            said = True\n",
    "    if count >= len(messages):\n",
    "        log('Finished conversation with ' + name)\n",
    "        return\n",
    "    if said:\n",
    "        log('said = True')\n",
    "        send(match,count)\n",
    "    elif saidbot:\n",
    "        log('saidbot = True')\n",
    "        sendbot(match,0)\n",
    "    elif saidfake:\n",
    "        log('saidfake = True')\n",
    "        sendfake(match,0)\n",
    "    elif saidreal:\n",
    "        log('saidreal = True')\n",
    "        sendreal(match,0)\n",
    "    else:\n",
    "        log('No new messages from ' + name)\n",
    "\n",
    "def handle_matches():\n",
    "    log(str(len(session._api.matches())) + ' matches')\n",
    "    matches = session._api.matches()\n",
    "    for m in matches:\n",
    "        message(m)\n",
    "\n"
   ]
  },
  {
   "cell_type": "code",
   "execution_count": null,
   "metadata": {
    "collapsed": true
   },
   "outputs": [],
   "source": [
    "def load_cache(file):\n",
    "    cache = pickle.load( open( file, \"rb\" ) )\n",
    "    print(cache)\n",
    "    return cache\n",
    "\n",
    "def pickle_cache(variable, file_name):\n",
    "    dump(variable, open(file_name, 'wb'))\n",
    "    \n",
    "def reset_all():\n",
    "    global dictionary\n",
    "    global no_lines\n",
    "    global need_lines\n",
    "    global bad_lines\n",
    "    dictionary = {} \n",
    "    no_lines = []\n",
    "    need_lines = []\n",
    "    bad_lines = {} #{name:[list of bad lines]}\n",
    "    \n",
    "def see_all():\n",
    "    print(\"Dictionary: \", len(dictionary))\n",
    "    print(\"No_lines: \", len(no_lines))\n",
    "    print(\"Need_lines: \", len(need_lines))\n",
    "    print(\"Bad_lines: \", len(bad_lines))\n",
    "    print(dictionary)\n",
    "    print(no_lines)\n",
    "    print(need_lines)\n",
    "    print(bad_lines)\n",
    "    \n",
    "def load_all():\n",
    "    global dictionary\n",
    "    global no_lines\n",
    "    global need_lines\n",
    "    global bad_lines\n",
    "    dictionary = load_cache(\"names_PUL_cache\")\n",
    "    no_lines = load_cache(\"names_no_lines_cache\")\n",
    "    need_lines = load_cache(\"names_need_lines_cache\")\n",
    "    bad_lines = load_cache(\"names_bad_lines_cache\")\n"
   ]
  }
 ],
 "metadata": {
  "kernelspec": {
   "display_name": "Python 3",
   "language": "python",
   "name": "python3"
  },
  "language_info": {
   "codemirror_mode": {
    "name": "ipython",
    "version": 3
   },
   "file_extension": ".py",
   "mimetype": "text/x-python",
   "name": "python",
   "nbconvert_exporter": "python",
   "pygments_lexer": "ipython3",
   "version": "3.6.3"
  }
 },
 "nbformat": 4,
 "nbformat_minor": 2
}
