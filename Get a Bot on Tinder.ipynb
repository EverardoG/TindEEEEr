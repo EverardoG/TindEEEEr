{
 "cells": [
  {
   "cell_type": "markdown",
   "metadata": {},
   "source": [
    "Get Access Token (You may need to pip install robobrowser)\n"
   ]
  },
  {
   "cell_type": "code",
   "execution_count": 1,
   "metadata": {},
   "outputs": [
    {
     "name": "stdout",
     "output_type": "stream",
     "text": [
      "EAAGm0PX4ZCpsBAPMomlx3XriPvpybdBeK8n64vZCSEsu1mLt6Nq4ozMCfs3dv0tQCWmtb1SZBqlg6LnkZCVCqZBiyzVE6FM2C8t7ZBR0sObCuy549w3tXoZCJqiC1SNOeAPUrdyjUXYddfetBKTQ7DeWoQ53ZAs1OfdwC5ZC0pcm4wD2M1CZAUCUJfVb23RBZAfnybtD0FHsCylo7Py9dIHGXz3qUVzRfXQv7bGWhbvg3HfToAqaYKcIBes\n"
     ]
    }
   ],
   "source": [
    "import re\n",
    "import robobrowser\n",
    "import sys\n",
    "\n",
    "MOBILE_USER_AGENT = \"Mozilla/5.0 (Linux; U; en-gb; KFTHWI Build/JDQ39) AppleWebKit/535.19 (KHTML, like Gecko) Silk/3.16 Safari/535.19\"\n",
    "FB_AUTH = \"https://www.facebook.com/v2.6/dialog/oauth?redirect_uri=fb464891386855067%3A%2F%2Fauthorize%2F&display=touch&state=%7B%22challenge%22%3A%22IUUkEUqIGud332lfu%252BMJhxL4Wlc%253D%22%2C%220_auth_logger_id%22%3A%2230F06532-A1B9-4B10-BB28-B29956C71AB1%22%2C%22com.facebook.sdk_client_state%22%3Atrue%2C%223_method%22%3A%22sfvc_auth%22%7D&scope=user_birthday%2Cuser_photos%2Cuser_education_history%2Cemail%2Cuser_relationship_details%2Cuser_friends%2Cuser_work_history%2Cuser_likes&response_type=token%2Csigned_request&default_audience=friends&return_scopes=true&auth_type=rerequest&client_id=464891386855067&ret=login&sdk=ios&logger_id=30F06532-A1B9-4B10-BB28-B29956C71AB1&ext=1470840777&hash=AeZqkIcf-NEW6vBd\"\n",
    "\n",
    "\n",
    "def get_access_token(email, password):\n",
    "    s = robobrowser.RoboBrowser(user_agent=MOBILE_USER_AGENT, parser=\"lxml\")\n",
    "    s.open(FB_AUTH)\n",
    "\n",
    "    ## submit login form\n",
    "    f = s.get_form()\n",
    "    f[\"pass\"] = password\n",
    "    f[\"email\"] = email\n",
    "    s.submit_form(f)\n",
    "\n",
    "    ## click the 'ok' button on the dialog informing you that you have already authenticated with the Tinder app\n",
    "    f = s.get_form()\n",
    "    s.submit_form(f, submit=f.submit_fields['__CONFIRM__'])\n",
    "\n",
    "    ## get access token from the http response\n",
    "    access_token = re.search(r\"access_token=([\\w\\d]+)\", s.response.content.decode()).groups()[0]\n",
    "    return access_token\n",
    "\n",
    "\n",
    "email = sys.argv[1]\n",
    "password = sys.argv[2]\n",
    "access_token = get_access_token('contact.businesshaven@gmail.com', 'softdes')\n",
    "\n",
    "print(access_token)"
   ]
  },
  {
   "cell_type": "markdown",
   "metadata": {
    "collapsed": true
   },
   "source": [
    "You may need to pip install pynder"
   ]
  },
  {
   "cell_type": "code",
   "execution_count": 1,
   "metadata": {},
   "outputs": [
    {
     "ename": "NameError",
     "evalue": "name 'd' is not defined",
     "output_type": "error",
     "traceback": [
      "\u001b[0;31m---------------------------------------------------------------------------\u001b[0m",
      "\u001b[0;31mNameError\u001b[0m                                 Traceback (most recent call last)",
      "\u001b[0;32m<ipython-input-1-e29311f6f1bf>\u001b[0m in \u001b[0;36m<module>\u001b[0;34m()\u001b[0m\n\u001b[0;32m----> 1\u001b[0;31m \u001b[0md\u001b[0m\u001b[0;34m\u001b[0m\u001b[0m\n\u001b[0m",
      "\u001b[0;31mNameError\u001b[0m: name 'd' is not defined"
     ]
    }
   ],
   "source": [
    "facebook_ID = 100025429656340 #taken from https://findmyfbid.com/\n"
   ]
  }
 ],
 "metadata": {
  "kernelspec": {
   "display_name": "Python 3",
   "language": "python",
   "name": "python3"
  },
  "language_info": {
   "codemirror_mode": {
    "name": "ipython",
    "version": 3
   },
   "file_extension": ".py",
   "mimetype": "text/x-python",
   "name": "python",
   "nbconvert_exporter": "python",
   "pygments_lexer": "ipython3",
   "version": "3.6.3"
  }
 },
 "nbformat": 4,
 "nbformat_minor": 2
}
